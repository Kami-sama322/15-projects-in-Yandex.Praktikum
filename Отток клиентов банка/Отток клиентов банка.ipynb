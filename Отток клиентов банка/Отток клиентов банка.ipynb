{
 "cells": [
  {
   "cell_type": "markdown",
   "metadata": {},
   "source": [
    "# Отток клиентов"
   ]
  },
  {
   "cell_type": "code",
   "execution_count": 1,
   "metadata": {},
   "outputs": [],
   "source": [
    "import pandas as pd\n",
    "from sklearn.model_selection import train_test_split\n",
    "from sklearn.preprocessing import StandardScaler\n",
    "from sklearn.tree import DecisionTreeClassifier\n",
    "from sklearn.linear_model import LogisticRegression\n",
    "from sklearn.ensemble import RandomForestClassifier\n",
    "from sklearn.metrics import accuracy_score\n",
    "from sklearn.metrics import confusion_matrix\n",
    "from sklearn.metrics import recall_score\n",
    "from sklearn.metrics import precision_score\n",
    "from sklearn.metrics  import f1_score\n",
    "from sklearn.utils import shuffle\n",
    "import matplotlib.pyplot as plt\n",
    "from sklearn.metrics import roc_curve\n",
    "from sklearn.metrics import roc_auc_score"
   ]
  },
  {
   "cell_type": "markdown",
   "metadata": {},
   "source": [
    "# 1. Изучение и предобработка данных"
   ]
  },
  {
   "cell_type": "code",
   "execution_count": 2,
   "metadata": {},
   "outputs": [],
   "source": [
    "df = pd.read_csv ('/datasets/Churn.csv')"
   ]
  },
  {
   "cell_type": "code",
   "execution_count": 3,
   "metadata": {},
   "outputs": [
    {
     "data": {
      "text/html": [
       "<div>\n",
       "<style scoped>\n",
       "    .dataframe tbody tr th:only-of-type {\n",
       "        vertical-align: middle;\n",
       "    }\n",
       "\n",
       "    .dataframe tbody tr th {\n",
       "        vertical-align: top;\n",
       "    }\n",
       "\n",
       "    .dataframe thead th {\n",
       "        text-align: right;\n",
       "    }\n",
       "</style>\n",
       "<table border=\"1\" class=\"dataframe\">\n",
       "  <thead>\n",
       "    <tr style=\"text-align: right;\">\n",
       "      <th></th>\n",
       "      <th>RowNumber</th>\n",
       "      <th>CustomerId</th>\n",
       "      <th>Surname</th>\n",
       "      <th>CreditScore</th>\n",
       "      <th>Geography</th>\n",
       "      <th>Gender</th>\n",
       "      <th>Age</th>\n",
       "      <th>Tenure</th>\n",
       "      <th>Balance</th>\n",
       "      <th>NumOfProducts</th>\n",
       "      <th>HasCrCard</th>\n",
       "      <th>IsActiveMember</th>\n",
       "      <th>EstimatedSalary</th>\n",
       "      <th>Exited</th>\n",
       "    </tr>\n",
       "  </thead>\n",
       "  <tbody>\n",
       "    <tr>\n",
       "      <td>0</td>\n",
       "      <td>1</td>\n",
       "      <td>15634602</td>\n",
       "      <td>Hargrave</td>\n",
       "      <td>619</td>\n",
       "      <td>France</td>\n",
       "      <td>Female</td>\n",
       "      <td>42</td>\n",
       "      <td>2.0</td>\n",
       "      <td>0.00</td>\n",
       "      <td>1</td>\n",
       "      <td>1</td>\n",
       "      <td>1</td>\n",
       "      <td>101348.88</td>\n",
       "      <td>1</td>\n",
       "    </tr>\n",
       "    <tr>\n",
       "      <td>1</td>\n",
       "      <td>2</td>\n",
       "      <td>15647311</td>\n",
       "      <td>Hill</td>\n",
       "      <td>608</td>\n",
       "      <td>Spain</td>\n",
       "      <td>Female</td>\n",
       "      <td>41</td>\n",
       "      <td>1.0</td>\n",
       "      <td>83807.86</td>\n",
       "      <td>1</td>\n",
       "      <td>0</td>\n",
       "      <td>1</td>\n",
       "      <td>112542.58</td>\n",
       "      <td>0</td>\n",
       "    </tr>\n",
       "    <tr>\n",
       "      <td>2</td>\n",
       "      <td>3</td>\n",
       "      <td>15619304</td>\n",
       "      <td>Onio</td>\n",
       "      <td>502</td>\n",
       "      <td>France</td>\n",
       "      <td>Female</td>\n",
       "      <td>42</td>\n",
       "      <td>8.0</td>\n",
       "      <td>159660.80</td>\n",
       "      <td>3</td>\n",
       "      <td>1</td>\n",
       "      <td>0</td>\n",
       "      <td>113931.57</td>\n",
       "      <td>1</td>\n",
       "    </tr>\n",
       "    <tr>\n",
       "      <td>3</td>\n",
       "      <td>4</td>\n",
       "      <td>15701354</td>\n",
       "      <td>Boni</td>\n",
       "      <td>699</td>\n",
       "      <td>France</td>\n",
       "      <td>Female</td>\n",
       "      <td>39</td>\n",
       "      <td>1.0</td>\n",
       "      <td>0.00</td>\n",
       "      <td>2</td>\n",
       "      <td>0</td>\n",
       "      <td>0</td>\n",
       "      <td>93826.63</td>\n",
       "      <td>0</td>\n",
       "    </tr>\n",
       "    <tr>\n",
       "      <td>4</td>\n",
       "      <td>5</td>\n",
       "      <td>15737888</td>\n",
       "      <td>Mitchell</td>\n",
       "      <td>850</td>\n",
       "      <td>Spain</td>\n",
       "      <td>Female</td>\n",
       "      <td>43</td>\n",
       "      <td>2.0</td>\n",
       "      <td>125510.82</td>\n",
       "      <td>1</td>\n",
       "      <td>1</td>\n",
       "      <td>1</td>\n",
       "      <td>79084.10</td>\n",
       "      <td>0</td>\n",
       "    </tr>\n",
       "  </tbody>\n",
       "</table>\n",
       "</div>"
      ],
      "text/plain": [
       "   RowNumber  CustomerId   Surname  CreditScore Geography  Gender  Age  \\\n",
       "0          1    15634602  Hargrave          619    France  Female   42   \n",
       "1          2    15647311      Hill          608     Spain  Female   41   \n",
       "2          3    15619304      Onio          502    France  Female   42   \n",
       "3          4    15701354      Boni          699    France  Female   39   \n",
       "4          5    15737888  Mitchell          850     Spain  Female   43   \n",
       "\n",
       "   Tenure    Balance  NumOfProducts  HasCrCard  IsActiveMember  \\\n",
       "0     2.0       0.00              1          1               1   \n",
       "1     1.0   83807.86              1          0               1   \n",
       "2     8.0  159660.80              3          1               0   \n",
       "3     1.0       0.00              2          0               0   \n",
       "4     2.0  125510.82              1          1               1   \n",
       "\n",
       "   EstimatedSalary  Exited  \n",
       "0        101348.88       1  \n",
       "1        112542.58       0  \n",
       "2        113931.57       1  \n",
       "3         93826.63       0  \n",
       "4         79084.10       0  "
      ]
     },
     "execution_count": 3,
     "metadata": {},
     "output_type": "execute_result"
    }
   ],
   "source": [
    "df.head(5)"
   ]
  },
  {
   "cell_type": "code",
   "execution_count": 4,
   "metadata": {},
   "outputs": [
    {
     "data": {
      "text/html": [
       "<div>\n",
       "<style scoped>\n",
       "    .dataframe tbody tr th:only-of-type {\n",
       "        vertical-align: middle;\n",
       "    }\n",
       "\n",
       "    .dataframe tbody tr th {\n",
       "        vertical-align: top;\n",
       "    }\n",
       "\n",
       "    .dataframe thead th {\n",
       "        text-align: right;\n",
       "    }\n",
       "</style>\n",
       "<table border=\"1\" class=\"dataframe\">\n",
       "  <thead>\n",
       "    <tr style=\"text-align: right;\">\n",
       "      <th></th>\n",
       "      <th>RowNumber</th>\n",
       "      <th>CustomerId</th>\n",
       "      <th>CreditScore</th>\n",
       "      <th>Age</th>\n",
       "      <th>Tenure</th>\n",
       "      <th>Balance</th>\n",
       "      <th>NumOfProducts</th>\n",
       "      <th>HasCrCard</th>\n",
       "      <th>IsActiveMember</th>\n",
       "      <th>EstimatedSalary</th>\n",
       "      <th>Exited</th>\n",
       "    </tr>\n",
       "  </thead>\n",
       "  <tbody>\n",
       "    <tr>\n",
       "      <td>count</td>\n",
       "      <td>10000.00000</td>\n",
       "      <td>1.000000e+04</td>\n",
       "      <td>10000.000000</td>\n",
       "      <td>10000.000000</td>\n",
       "      <td>9091.000000</td>\n",
       "      <td>10000.000000</td>\n",
       "      <td>10000.000000</td>\n",
       "      <td>10000.00000</td>\n",
       "      <td>10000.000000</td>\n",
       "      <td>10000.000000</td>\n",
       "      <td>10000.000000</td>\n",
       "    </tr>\n",
       "    <tr>\n",
       "      <td>mean</td>\n",
       "      <td>5000.50000</td>\n",
       "      <td>1.569094e+07</td>\n",
       "      <td>650.528800</td>\n",
       "      <td>38.921800</td>\n",
       "      <td>4.997690</td>\n",
       "      <td>76485.889288</td>\n",
       "      <td>1.530200</td>\n",
       "      <td>0.70550</td>\n",
       "      <td>0.515100</td>\n",
       "      <td>100090.239881</td>\n",
       "      <td>0.203700</td>\n",
       "    </tr>\n",
       "    <tr>\n",
       "      <td>std</td>\n",
       "      <td>2886.89568</td>\n",
       "      <td>7.193619e+04</td>\n",
       "      <td>96.653299</td>\n",
       "      <td>10.487806</td>\n",
       "      <td>2.894723</td>\n",
       "      <td>62397.405202</td>\n",
       "      <td>0.581654</td>\n",
       "      <td>0.45584</td>\n",
       "      <td>0.499797</td>\n",
       "      <td>57510.492818</td>\n",
       "      <td>0.402769</td>\n",
       "    </tr>\n",
       "    <tr>\n",
       "      <td>min</td>\n",
       "      <td>1.00000</td>\n",
       "      <td>1.556570e+07</td>\n",
       "      <td>350.000000</td>\n",
       "      <td>18.000000</td>\n",
       "      <td>0.000000</td>\n",
       "      <td>0.000000</td>\n",
       "      <td>1.000000</td>\n",
       "      <td>0.00000</td>\n",
       "      <td>0.000000</td>\n",
       "      <td>11.580000</td>\n",
       "      <td>0.000000</td>\n",
       "    </tr>\n",
       "    <tr>\n",
       "      <td>25%</td>\n",
       "      <td>2500.75000</td>\n",
       "      <td>1.562853e+07</td>\n",
       "      <td>584.000000</td>\n",
       "      <td>32.000000</td>\n",
       "      <td>2.000000</td>\n",
       "      <td>0.000000</td>\n",
       "      <td>1.000000</td>\n",
       "      <td>0.00000</td>\n",
       "      <td>0.000000</td>\n",
       "      <td>51002.110000</td>\n",
       "      <td>0.000000</td>\n",
       "    </tr>\n",
       "    <tr>\n",
       "      <td>50%</td>\n",
       "      <td>5000.50000</td>\n",
       "      <td>1.569074e+07</td>\n",
       "      <td>652.000000</td>\n",
       "      <td>37.000000</td>\n",
       "      <td>5.000000</td>\n",
       "      <td>97198.540000</td>\n",
       "      <td>1.000000</td>\n",
       "      <td>1.00000</td>\n",
       "      <td>1.000000</td>\n",
       "      <td>100193.915000</td>\n",
       "      <td>0.000000</td>\n",
       "    </tr>\n",
       "    <tr>\n",
       "      <td>75%</td>\n",
       "      <td>7500.25000</td>\n",
       "      <td>1.575323e+07</td>\n",
       "      <td>718.000000</td>\n",
       "      <td>44.000000</td>\n",
       "      <td>7.000000</td>\n",
       "      <td>127644.240000</td>\n",
       "      <td>2.000000</td>\n",
       "      <td>1.00000</td>\n",
       "      <td>1.000000</td>\n",
       "      <td>149388.247500</td>\n",
       "      <td>0.000000</td>\n",
       "    </tr>\n",
       "    <tr>\n",
       "      <td>max</td>\n",
       "      <td>10000.00000</td>\n",
       "      <td>1.581569e+07</td>\n",
       "      <td>850.000000</td>\n",
       "      <td>92.000000</td>\n",
       "      <td>10.000000</td>\n",
       "      <td>250898.090000</td>\n",
       "      <td>4.000000</td>\n",
       "      <td>1.00000</td>\n",
       "      <td>1.000000</td>\n",
       "      <td>199992.480000</td>\n",
       "      <td>1.000000</td>\n",
       "    </tr>\n",
       "  </tbody>\n",
       "</table>\n",
       "</div>"
      ],
      "text/plain": [
       "         RowNumber    CustomerId   CreditScore           Age       Tenure  \\\n",
       "count  10000.00000  1.000000e+04  10000.000000  10000.000000  9091.000000   \n",
       "mean    5000.50000  1.569094e+07    650.528800     38.921800     4.997690   \n",
       "std     2886.89568  7.193619e+04     96.653299     10.487806     2.894723   \n",
       "min        1.00000  1.556570e+07    350.000000     18.000000     0.000000   \n",
       "25%     2500.75000  1.562853e+07    584.000000     32.000000     2.000000   \n",
       "50%     5000.50000  1.569074e+07    652.000000     37.000000     5.000000   \n",
       "75%     7500.25000  1.575323e+07    718.000000     44.000000     7.000000   \n",
       "max    10000.00000  1.581569e+07    850.000000     92.000000    10.000000   \n",
       "\n",
       "             Balance  NumOfProducts    HasCrCard  IsActiveMember  \\\n",
       "count   10000.000000   10000.000000  10000.00000    10000.000000   \n",
       "mean    76485.889288       1.530200      0.70550        0.515100   \n",
       "std     62397.405202       0.581654      0.45584        0.499797   \n",
       "min         0.000000       1.000000      0.00000        0.000000   \n",
       "25%         0.000000       1.000000      0.00000        0.000000   \n",
       "50%     97198.540000       1.000000      1.00000        1.000000   \n",
       "75%    127644.240000       2.000000      1.00000        1.000000   \n",
       "max    250898.090000       4.000000      1.00000        1.000000   \n",
       "\n",
       "       EstimatedSalary        Exited  \n",
       "count     10000.000000  10000.000000  \n",
       "mean     100090.239881      0.203700  \n",
       "std       57510.492818      0.402769  \n",
       "min          11.580000      0.000000  \n",
       "25%       51002.110000      0.000000  \n",
       "50%      100193.915000      0.000000  \n",
       "75%      149388.247500      0.000000  \n",
       "max      199992.480000      1.000000  "
      ]
     },
     "execution_count": 4,
     "metadata": {},
     "output_type": "execute_result"
    }
   ],
   "source": [
    "df.describe()"
   ]
  },
  {
   "cell_type": "code",
   "execution_count": 5,
   "metadata": {},
   "outputs": [
    {
     "name": "stdout",
     "output_type": "stream",
     "text": [
      "<class 'pandas.core.frame.DataFrame'>\n",
      "RangeIndex: 10000 entries, 0 to 9999\n",
      "Data columns (total 14 columns):\n",
      "RowNumber          10000 non-null int64\n",
      "CustomerId         10000 non-null int64\n",
      "Surname            10000 non-null object\n",
      "CreditScore        10000 non-null int64\n",
      "Geography          10000 non-null object\n",
      "Gender             10000 non-null object\n",
      "Age                10000 non-null int64\n",
      "Tenure             9091 non-null float64\n",
      "Balance            10000 non-null float64\n",
      "NumOfProducts      10000 non-null int64\n",
      "HasCrCard          10000 non-null int64\n",
      "IsActiveMember     10000 non-null int64\n",
      "EstimatedSalary    10000 non-null float64\n",
      "Exited             10000 non-null int64\n",
      "dtypes: float64(3), int64(8), object(3)\n",
      "memory usage: 1.1+ MB\n"
     ]
    },
    {
     "data": {
      "text/plain": [
       "None"
      ]
     },
     "metadata": {},
     "output_type": "display_data"
    },
    {
     "data": {
      "text/plain": [
       "RowNumber            int64\n",
       "CustomerId           int64\n",
       "Surname             object\n",
       "CreditScore          int64\n",
       "Geography           object\n",
       "Gender              object\n",
       "Age                  int64\n",
       "Tenure             float64\n",
       "Balance            float64\n",
       "NumOfProducts        int64\n",
       "HasCrCard            int64\n",
       "IsActiveMember       int64\n",
       "EstimatedSalary    float64\n",
       "Exited               int64\n",
       "dtype: object"
      ]
     },
     "metadata": {},
     "output_type": "display_data"
    }
   ],
   "source": [
    "display(df.info())\n",
    "display(df.dtypes)"
   ]
  },
  {
   "cell_type": "code",
   "execution_count": 6,
   "metadata": {},
   "outputs": [
    {
     "data": {
      "text/plain": [
       "France     464\n",
       "Spain      229\n",
       "Germany    216\n",
       "Name: Geography, dtype: int64"
      ]
     },
     "execution_count": 6,
     "metadata": {},
     "output_type": "execute_result"
    }
   ],
   "source": [
    "df.query ('Tenure.isnull()')['Geography'].value_counts()"
   ]
  },
  {
   "cell_type": "markdown",
   "metadata": {},
   "source": [
    "#### столбец Tenure имеет 909 пропусков. Заменим пропуски медианными значениями по странам."
   ]
  },
  {
   "cell_type": "code",
   "execution_count": 7,
   "metadata": {},
   "outputs": [
    {
     "name": "stdout",
     "output_type": "stream",
     "text": [
      "Среднее значение количества недвижимости по Франции: 5.003956043956044\n",
      "Медианное значение количества недвижимости по Франции: 5.0\n"
     ]
    }
   ],
   "source": [
    "print (\"Среднее значение количества недвижимости по Франции:\", df.query ('\"France\" in Geography')['Tenure'].mean())\n",
    "print (\"Медианное значение количества недвижимости по Франции:\", df.query ('\"France\" in Geography')['Tenure'].median())"
   ]
  },
  {
   "cell_type": "code",
   "execution_count": 8,
   "metadata": {},
   "outputs": [
    {
     "name": "stdout",
     "output_type": "stream",
     "text": [
      "Среднее значение количества недвижимости по Испании: 5.001779359430605\n",
      "Медианное значение количества недвижимости по Испании: 5.0\n"
     ]
    }
   ],
   "source": [
    "print (\"Среднее значение количества недвижимости по Испании:\", df.query ('\"Spain\" in Geography')['Tenure'].mean())\n",
    "print (\"Медианное значение количества недвижимости по Испании:\", df.query ('\"Spain\" in Geography')['Tenure'].median())"
   ]
  },
  {
   "cell_type": "code",
   "execution_count": 9,
   "metadata": {},
   "outputs": [
    {
     "name": "stdout",
     "output_type": "stream",
     "text": [
      "Среднее значение количества недвижимости по Германии: 4.981247274313127\n",
      "Медианное значение количества недвижимости по Германии: 5.0\n"
     ]
    }
   ],
   "source": [
    "print (\"Среднее значение количества недвижимости по Германии:\", df.query ('\"Germany\" in Geography')['Tenure'].mean())\n",
    "print (\"Медианное значение количества недвижимости по Германии:\", df.query ('\"Germany\" in Geography')['Tenure'].median())"
   ]
  },
  {
   "cell_type": "markdown",
   "metadata": {},
   "source": [
    "####    Как видим, медианные и средние значения по странам практически одинаковы меджу собой, что означает что выбросов нет. Заменим пропущенные значения в столбце Tenure медианным - 5."
   ]
  },
  {
   "cell_type": "code",
   "execution_count": 10,
   "metadata": {},
   "outputs": [],
   "source": [
    "df.fillna (5, inplace = True)"
   ]
  },
  {
   "cell_type": "markdown",
   "metadata": {},
   "source": [
    "####    Удалим столбцы с Фамилиями, Id пользователя и нумерацией строк, т.к. для модели они не несут никакой обучающей информации."
   ]
  },
  {
   "cell_type": "code",
   "execution_count": 11,
   "metadata": {},
   "outputs": [],
   "source": [
    "df = df.drop (['RowNumber'], axis=1)\n",
    "df = df.drop (['Surname'], axis=1)\n",
    "df = df.drop (['CustomerId'], axis=1)"
   ]
  },
  {
   "cell_type": "markdown",
   "metadata": {},
   "source": [
    "#### Столбцы Geography и Gender необходимо преобразовать прямым кодированием в численные значения. Чтобы не попасть в dummy_trap удалим первый столбец, т.к. по оставшимся двум его можно восстановить"
   ]
  },
  {
   "cell_type": "code",
   "execution_count": 13,
   "metadata": {},
   "outputs": [],
   "source": [
    "df = pd.get_dummies(df, drop_first=True)"
   ]
  },
  {
   "cell_type": "code",
   "execution_count": 14,
   "metadata": {},
   "outputs": [
    {
     "data": {
      "text/plain": [
       "Index(['CreditScore', 'Age', 'Tenure', 'Balance', 'NumOfProducts', 'HasCrCard',\n",
       "       'IsActiveMember', 'EstimatedSalary', 'Exited', 'Geography_Germany',\n",
       "       'Geography_Spain', 'Gender_Male'],\n",
       "      dtype='object')"
      ]
     },
     "execution_count": 14,
     "metadata": {},
     "output_type": "execute_result"
    }
   ],
   "source": [
    "df.columns"
   ]
  },
  {
   "cell_type": "markdown",
   "metadata": {},
   "source": [
    "#### Разделим датафрейм на целевой и остальные признаки, поделим на выборки"
   ]
  },
  {
   "cell_type": "code",
   "execution_count": 15,
   "metadata": {},
   "outputs": [],
   "source": [
    "df_train, df_valid = train_test_split(df, test_size=0.40, random_state = 42)"
   ]
  },
  {
   "cell_type": "code",
   "execution_count": 16,
   "metadata": {},
   "outputs": [
    {
     "data": {
      "text/plain": [
       "(6000, 11)"
      ]
     },
     "metadata": {},
     "output_type": "display_data"
    },
    {
     "data": {
      "text/plain": [
       "(6000,)"
      ]
     },
     "metadata": {},
     "output_type": "display_data"
    }
   ],
   "source": [
    "features_train = df_train.drop ('Exited', axis=1)\n",
    "display(features_train.shape)\n",
    "target_train = df_train['Exited']\n",
    "display(target_train.shape)"
   ]
  },
  {
   "cell_type": "code",
   "execution_count": 17,
   "metadata": {},
   "outputs": [
    {
     "data": {
      "text/plain": [
       "(2000, 11)"
      ]
     },
     "metadata": {},
     "output_type": "display_data"
    },
    {
     "data": {
      "text/plain": [
       "(2000,)"
      ]
     },
     "metadata": {},
     "output_type": "display_data"
    }
   ],
   "source": [
    "df_valid, df_test = train_test_split(df_valid, test_size=0.50, random_state = 42)\n",
    "features_valid = df_valid.drop ('Exited', axis=1)\n",
    "display(features_valid.shape)\n",
    "target_valid = df_valid['Exited']\n",
    "display(target_valid.shape)"
   ]
  },
  {
   "cell_type": "code",
   "execution_count": 18,
   "metadata": {},
   "outputs": [
    {
     "data": {
      "text/plain": [
       "(2000, 11)"
      ]
     },
     "metadata": {},
     "output_type": "display_data"
    },
    {
     "data": {
      "text/plain": [
       "(2000,)"
      ]
     },
     "metadata": {},
     "output_type": "display_data"
    }
   ],
   "source": [
    "features_test = df_test.drop ('Exited', axis=1)\n",
    "display(features_test.shape)\n",
    "target_test = df_test['Exited']\n",
    "display(target_test.shape)"
   ]
  },
  {
   "cell_type": "markdown",
   "metadata": {},
   "source": [
    "#### Масштабируем признаки"
   ]
  },
  {
   "cell_type": "code",
   "execution_count": 19,
   "metadata": {},
   "outputs": [],
   "source": [
    "zoom = ['CreditScore', 'Age', 'Tenure', 'Balance',\n",
    "       'NumOfProducts', 'EstimatedSalary']"
   ]
  },
  {
   "cell_type": "code",
   "execution_count": 20,
   "metadata": {},
   "outputs": [],
   "source": [
    "scaler = StandardScaler()\n",
    "scaler.fit(features_train[zoom])\n",
    "features_train[zoom] = scaler.transform(features_train[zoom])\n",
    "features_valid[zoom] = scaler.transform(features_valid[zoom])\n",
    "features_test[zoom] = scaler.transform(features_test[zoom])"
   ]
  },
  {
   "cell_type": "code",
   "execution_count": 21,
   "metadata": {
    "scrolled": false
   },
   "outputs": [
    {
     "data": {
      "text/html": [
       "<div>\n",
       "<style scoped>\n",
       "    .dataframe tbody tr th:only-of-type {\n",
       "        vertical-align: middle;\n",
       "    }\n",
       "\n",
       "    .dataframe tbody tr th {\n",
       "        vertical-align: top;\n",
       "    }\n",
       "\n",
       "    .dataframe thead th {\n",
       "        text-align: right;\n",
       "    }\n",
       "</style>\n",
       "<table border=\"1\" class=\"dataframe\">\n",
       "  <thead>\n",
       "    <tr style=\"text-align: right;\">\n",
       "      <th></th>\n",
       "      <th>CreditScore</th>\n",
       "      <th>Age</th>\n",
       "      <th>Tenure</th>\n",
       "      <th>Balance</th>\n",
       "      <th>NumOfProducts</th>\n",
       "      <th>HasCrCard</th>\n",
       "      <th>IsActiveMember</th>\n",
       "      <th>EstimatedSalary</th>\n",
       "      <th>Geography_Germany</th>\n",
       "      <th>Geography_Spain</th>\n",
       "      <th>Gender_Male</th>\n",
       "    </tr>\n",
       "  </thead>\n",
       "  <tbody>\n",
       "    <tr>\n",
       "      <td>9761</td>\n",
       "      <td>1.603068</td>\n",
       "      <td>2.027653</td>\n",
       "      <td>0.012657</td>\n",
       "      <td>-0.048229</td>\n",
       "      <td>0.824078</td>\n",
       "      <td>1</td>\n",
       "      <td>1</td>\n",
       "      <td>-1.452982</td>\n",
       "      <td>1</td>\n",
       "      <td>0</td>\n",
       "      <td>0</td>\n",
       "    </tr>\n",
       "  </tbody>\n",
       "</table>\n",
       "</div>"
      ],
      "text/plain": [
       "      CreditScore       Age    Tenure   Balance  NumOfProducts  HasCrCard  \\\n",
       "9761     1.603068  2.027653  0.012657 -0.048229       0.824078          1   \n",
       "\n",
       "      IsActiveMember  EstimatedSalary  Geography_Germany  Geography_Spain  \\\n",
       "9761               1        -1.452982                  1                0   \n",
       "\n",
       "      Gender_Male  \n",
       "9761            0  "
      ]
     },
     "metadata": {},
     "output_type": "display_data"
    },
    {
     "data": {
      "text/plain": [
       "(6000, 11)"
      ]
     },
     "metadata": {},
     "output_type": "display_data"
    },
    {
     "data": {
      "text/html": [
       "<div>\n",
       "<style scoped>\n",
       "    .dataframe tbody tr th:only-of-type {\n",
       "        vertical-align: middle;\n",
       "    }\n",
       "\n",
       "    .dataframe tbody tr th {\n",
       "        vertical-align: top;\n",
       "    }\n",
       "\n",
       "    .dataframe thead th {\n",
       "        text-align: right;\n",
       "    }\n",
       "</style>\n",
       "<table border=\"1\" class=\"dataframe\">\n",
       "  <thead>\n",
       "    <tr style=\"text-align: right;\">\n",
       "      <th></th>\n",
       "      <th>CreditScore</th>\n",
       "      <th>Age</th>\n",
       "      <th>Tenure</th>\n",
       "      <th>Balance</th>\n",
       "      <th>NumOfProducts</th>\n",
       "      <th>HasCrCard</th>\n",
       "      <th>IsActiveMember</th>\n",
       "      <th>EstimatedSalary</th>\n",
       "      <th>Geography_Germany</th>\n",
       "      <th>Geography_Spain</th>\n",
       "      <th>Gender_Male</th>\n",
       "    </tr>\n",
       "  </thead>\n",
       "  <tbody>\n",
       "    <tr>\n",
       "      <td>8113</td>\n",
       "      <td>-2.401689</td>\n",
       "      <td>-0.465343</td>\n",
       "      <td>0.374276</td>\n",
       "      <td>0.236</td>\n",
       "      <td>-0.905967</td>\n",
       "      <td>1</td>\n",
       "      <td>1</td>\n",
       "      <td>-1.542971</td>\n",
       "      <td>0</td>\n",
       "      <td>1</td>\n",
       "      <td>1</td>\n",
       "    </tr>\n",
       "  </tbody>\n",
       "</table>\n",
       "</div>"
      ],
      "text/plain": [
       "      CreditScore       Age    Tenure  Balance  NumOfProducts  HasCrCard  \\\n",
       "8113    -2.401689 -0.465343  0.374276    0.236      -0.905967          1   \n",
       "\n",
       "      IsActiveMember  EstimatedSalary  Geography_Germany  Geography_Spain  \\\n",
       "8113               1        -1.542971                  0                1   \n",
       "\n",
       "      Gender_Male  \n",
       "8113            1  "
      ]
     },
     "metadata": {},
     "output_type": "display_data"
    },
    {
     "data": {
      "text/plain": [
       "(2000, 11)"
      ]
     },
     "metadata": {},
     "output_type": "display_data"
    },
    {
     "data": {
      "text/html": [
       "<div>\n",
       "<style scoped>\n",
       "    .dataframe tbody tr th:only-of-type {\n",
       "        vertical-align: middle;\n",
       "    }\n",
       "\n",
       "    .dataframe tbody tr th {\n",
       "        vertical-align: top;\n",
       "    }\n",
       "\n",
       "    .dataframe thead th {\n",
       "        text-align: right;\n",
       "    }\n",
       "</style>\n",
       "<table border=\"1\" class=\"dataframe\">\n",
       "  <thead>\n",
       "    <tr style=\"text-align: right;\">\n",
       "      <th></th>\n",
       "      <th>CreditScore</th>\n",
       "      <th>Age</th>\n",
       "      <th>Tenure</th>\n",
       "      <th>Balance</th>\n",
       "      <th>NumOfProducts</th>\n",
       "      <th>HasCrCard</th>\n",
       "      <th>IsActiveMember</th>\n",
       "      <th>EstimatedSalary</th>\n",
       "      <th>Geography_Germany</th>\n",
       "      <th>Geography_Spain</th>\n",
       "      <th>Gender_Male</th>\n",
       "    </tr>\n",
       "  </thead>\n",
       "  <tbody>\n",
       "    <tr>\n",
       "      <td>7072</td>\n",
       "      <td>0.347691</td>\n",
       "      <td>-0.17769</td>\n",
       "      <td>1.459133</td>\n",
       "      <td>0.936984</td>\n",
       "      <td>-0.905967</td>\n",
       "      <td>1</td>\n",
       "      <td>0</td>\n",
       "      <td>-1.275502</td>\n",
       "      <td>0</td>\n",
       "      <td>0</td>\n",
       "      <td>1</td>\n",
       "    </tr>\n",
       "  </tbody>\n",
       "</table>\n",
       "</div>"
      ],
      "text/plain": [
       "      CreditScore      Age    Tenure   Balance  NumOfProducts  HasCrCard  \\\n",
       "7072     0.347691 -0.17769  1.459133  0.936984      -0.905967          1   \n",
       "\n",
       "      IsActiveMember  EstimatedSalary  Geography_Germany  Geography_Spain  \\\n",
       "7072               0        -1.275502                  0                0   \n",
       "\n",
       "      Gender_Male  \n",
       "7072            1  "
      ]
     },
     "metadata": {},
     "output_type": "display_data"
    },
    {
     "data": {
      "text/plain": [
       "(2000, 11)"
      ]
     },
     "metadata": {},
     "output_type": "display_data"
    }
   ],
   "source": [
    "display(features_train.head(1))\n",
    "display(features_train.shape)\n",
    "display(features_valid.head(1))\n",
    "display(features_valid.shape)\n",
    "display(features_test.head(1))\n",
    "display(features_valid.shape)"
   ]
  },
  {
   "cell_type": "markdown",
   "metadata": {},
   "source": [
    "# 2. Исследование задачи"
   ]
  },
  {
   "cell_type": "markdown",
   "metadata": {},
   "source": [
    "#### Построим модели без учета баланса классов"
   ]
  },
  {
   "cell_type": "markdown",
   "metadata": {},
   "source": [
    "#### Модель решающего дерева"
   ]
  },
  {
   "cell_type": "code",
   "execution_count": 22,
   "metadata": {},
   "outputs": [
    {
     "name": "stdout",
     "output_type": "stream",
     "text": [
      "F1 мера на валидационной выборке при Глубине: 1 = 0.0\n",
      "F1 мера на валидационной выборке при Глубине: 4 = 0.47186932849364793\n",
      "F1 мера на валидационной выборке при Глубине: 7 = 0.5117056856187291\n",
      "F1 мера на валидационной выборке при Глубине: 10 = 0.49465648854961836\n",
      "F1 мера на валидационной выборке при Глубине: 13 = 0.46218487394957986\n",
      "F1 мера на валидационной выборке при Глубине: 16 = 0.46376811594202894\n"
     ]
    },
    {
     "name": "stderr",
     "output_type": "stream",
     "text": [
      "/opt/conda/lib/python3.7/site-packages/sklearn/metrics/classification.py:1437: UndefinedMetricWarning: F-score is ill-defined and being set to 0.0 due to no predicted samples.\n",
      "  'precision', 'predicted', average, warn_for)\n"
     ]
    }
   ],
   "source": [
    "for depth in range (1, 18, 3):\n",
    "    model = DecisionTreeClassifier(random_state = 42, max_depth = depth)\n",
    "    model.fit(features_train, target_train)\n",
    "    predicted_valid = model.predict(features_valid)\n",
    "    print(\"F1 мера на валидационной выборке при Глубине:\", depth, \"=\", f1_score(target_valid, predicted_valid))    "
   ]
  },
  {
   "cell_type": "code",
   "execution_count": 23,
   "metadata": {},
   "outputs": [
    {
     "name": "stdout",
     "output_type": "stream",
     "text": [
      "F1 мера на обучающей выборке: 0.6462147451756556\n",
      "F1 мера на валидационной выборке 0.5117056856187291\n",
      "Accuracy на валидационной выборке 0.854\n"
     ]
    }
   ],
   "source": [
    "model = DecisionTreeClassifier(random_state = 42, max_depth = 7)\n",
    "model.fit(features_train, target_train)\n",
    "predicted_valid = model.predict(features_valid)\n",
    "predicted_train = model.predict(features_train)\n",
    "print(\"F1 мера на обучающей выборке:\", f1_score(target_train, predicted_train))\n",
    "print(\"F1 мера на валидационной выборке\",f1_score(target_valid, predicted_valid))\n",
    "print(\"Accuracy на валидационной выборке\",accuracy_score(target_valid, predicted_valid))"
   ]
  },
  {
   "cell_type": "markdown",
   "metadata": {},
   "source": [
    "#### Модель случайного леса со стандартными параметрами"
   ]
  },
  {
   "cell_type": "code",
   "execution_count": 24,
   "metadata": {},
   "outputs": [
    {
     "name": "stdout",
     "output_type": "stream",
     "text": [
      "F1 мера на обучающей выборке: 0.9628378378378378\n",
      "F1 мера на валидационной выборке 0.5205930807248764\n",
      "Accuracy на валидационной выборке 0.8545\n"
     ]
    },
    {
     "name": "stderr",
     "output_type": "stream",
     "text": [
      "/opt/conda/lib/python3.7/site-packages/sklearn/ensemble/forest.py:245: FutureWarning: The default value of n_estimators will change from 10 in version 0.20 to 100 in 0.22.\n",
      "  \"10 in version 0.20 to 100 in 0.22.\", FutureWarning)\n"
     ]
    }
   ],
   "source": [
    "model = RandomForestClassifier (random_state = 42, n_jobs = -1)\n",
    "model.fit(features_train,target_train)\n",
    "predicted_train = model.predict(features_train)\n",
    "predicted_valid = model.predict(features_valid)\n",
    "print(\"F1 мера на обучающей выборке:\", f1_score(target_train, predicted_train))\n",
    "print(\"F1 мера на валидационной выборке\",f1_score(target_valid, predicted_valid))\n",
    "print(\"Accuracy на валидационной выборке\",accuracy_score(target_valid, predicted_valid))"
   ]
  },
  {
   "cell_type": "markdown",
   "metadata": {},
   "source": [
    "#### Проверим модели на адекватность, делая одно и тоже предсказание"
   ]
  },
  {
   "cell_type": "code",
   "execution_count": 25,
   "metadata": {},
   "outputs": [
    {
     "name": "stdout",
     "output_type": "stream",
     "text": [
      "Предсказание нулем: 0.81\n",
      "Предсказание единицей: 0.19\n"
     ]
    }
   ],
   "source": [
    "constant_z = pd.Series(0, index=target_valid.index)\n",
    "constant_o = pd.Series(1, index=target_valid.index)\n",
    "print('Предсказание нулем:', accuracy_score(target_valid, constant_z))\n",
    "print('Предсказание единицей:', accuracy_score(target_valid, constant_o))"
   ]
  },
  {
   "cell_type": "code",
   "execution_count": 26,
   "metadata": {},
   "outputs": [
    {
     "data": {
      "text/plain": [
       "0    1620\n",
       "1     380\n",
       "Name: Exited, dtype: int64"
      ]
     },
     "execution_count": 26,
     "metadata": {},
     "output_type": "execute_result"
    }
   ],
   "source": [
    "target_valid.value_counts()"
   ]
  },
  {
   "cell_type": "markdown",
   "metadata": {},
   "source": [
    "####    Как видно баланс классов составляет ~ 4 к 1. Предсказание нулем практичесеки полностью соответствует предсказаниям нашей модели, что является явным признаком ее неадекватности."
   ]
  },
  {
   "cell_type": "markdown",
   "metadata": {},
   "source": [
    "#### Построим матрицу ошибок"
   ]
  },
  {
   "cell_type": "code",
   "execution_count": 27,
   "metadata": {},
   "outputs": [
    {
     "data": {
      "text/plain": [
       "array([[1551,   69],\n",
       "       [ 222,  158]])"
      ]
     },
     "execution_count": 27,
     "metadata": {},
     "output_type": "execute_result"
    }
   ],
   "source": [
    "confusion_matrix (target_valid, predicted_valid)"
   ]
  },
  {
   "cell_type": "markdown",
   "metadata": {},
   "source": [
    "####    Как видно, наша модель предсказывает большое количество истинно негативных ответов "
   ]
  },
  {
   "cell_type": "markdown",
   "metadata": {},
   "source": [
    "#### Вычислим значения ROC-AUC для нашей базовой модели."
   ]
  },
  {
   "cell_type": "code",
   "execution_count": 28,
   "metadata": {},
   "outputs": [],
   "source": [
    "predicted_valid = model.predict(features_valid)\n",
    "probabilities_valid = model.predict_proba(features_valid)\n",
    "probabilities_one_valid = probabilities_valid[:, 1]"
   ]
  },
  {
   "cell_type": "code",
   "execution_count": 29,
   "metadata": {},
   "outputs": [],
   "source": [
    "fpr, tpr, thresholds = roc_curve(target_valid, probabilities_one_valid)"
   ]
  },
  {
   "cell_type": "code",
   "execution_count": 30,
   "metadata": {},
   "outputs": [
    {
     "data": {
      "image/png": "[encoded data removed]",
      "text/plain": [
       "<Figure size 432x288 with 1 Axes>"
      ]
     },
     "metadata": {
      "needs_background": "light"
     },
     "output_type": "display_data"
    }
   ],
   "source": [
    "plt.figure()\n",
    "plt.plot([0, 1], [0, 1], linestyle=':')\n",
    "plt.plot(fpr, tpr)\n",
    "plt.xlim([0.0, 1.0])\n",
    "plt.ylim([0.0, 1.0])\n",
    "plt.xlabel('False Positive Rate')\n",
    "plt.ylabel('True Positive Rate')\n",
    "plt.title('ROC-кривая базовой модели')\n",
    "plt.show()"
   ]
  },
  {
   "cell_type": "code",
   "execution_count": 31,
   "metadata": {},
   "outputs": [
    {
     "name": "stdout",
     "output_type": "stream",
     "text": [
      "0.7835672514619882\n"
     ]
    }
   ],
   "source": [
    "auc_roc = roc_auc_score (target_valid , probabilities_one_valid)\n",
    "print(auc_roc)"
   ]
  },
  {
   "cell_type": "markdown",
   "metadata": {},
   "source": [
    "# 3. Борьба с дисбалансом"
   ]
  },
  {
   "cell_type": "markdown",
   "metadata": {},
   "source": [
    "#### Применим метод взвешивания классов и сравним F1 меру с полученой ранее"
   ]
  },
  {
   "cell_type": "code",
   "execution_count": 32,
   "metadata": {},
   "outputs": [
    {
     "name": "stdout",
     "output_type": "stream",
     "text": [
      "F1 мера на валидационной выборке: 0.5523385300668152\n"
     ]
    }
   ],
   "source": [
    "model = DecisionTreeClassifier(random_state = 42, max_depth = 7, class_weight=\"balanced\")\n",
    "model.fit(features_train, target_train)\n",
    "predicted_valid = model.predict(features_valid)\n",
    "accuracy_valid = accuracy_score(target_valid, predicted_valid)\n",
    "print(\"F1 мера на валидационной выборке:\", f1_score(target_valid, predicted_valid))"
   ]
  },
  {
   "cell_type": "code",
   "execution_count": 33,
   "metadata": {},
   "outputs": [
    {
     "name": "stdout",
     "output_type": "stream",
     "text": [
      "F1 мера на валидационной выборке 0.5016722408026756\n"
     ]
    },
    {
     "name": "stderr",
     "output_type": "stream",
     "text": [
      "/opt/conda/lib/python3.7/site-packages/sklearn/ensemble/forest.py:245: FutureWarning: The default value of n_estimators will change from 10 in version 0.20 to 100 in 0.22.\n",
      "  \"10 in version 0.20 to 100 in 0.22.\", FutureWarning)\n"
     ]
    }
   ],
   "source": [
    "model = RandomForestClassifier (random_state=42, n_jobs = -1, class_weight=\"balanced\")\n",
    "model.fit(features_train,target_train)\n",
    "predicted_train = model.predict(features_train)\n",
    "predicted_valid = model.predict(features_valid)\n",
    "print(\"F1 мера на валидационной выборке\", f1_score(target_valid, predicted_valid))"
   ]
  },
  {
   "cell_type": "markdown",
   "metadata": {},
   "source": [
    "####    Изменение баланса классов в случае с Деревом решений дало положительный результат.   Однако в случае с моделью случайного леса значение метрики ухудшилось. Применим дургой метод. "
   ]
  },
  {
   "cell_type": "markdown",
   "metadata": {},
   "source": [
    "#### Применим технику upsampling для меньшего класса ( 1 )"
   ]
  },
  {
   "cell_type": "code",
   "execution_count": 34,
   "metadata": {},
   "outputs": [],
   "source": [
    "def upsample(features, target, repeat):\n",
    "    features_zeros = features[target == 0]\n",
    "    features_ones = features[target == 1]\n",
    "    target_zeros = target[target == 0]\n",
    "    target_ones = target[target == 1]\n",
    "\n",
    "    features_upsampled = pd.concat([features_zeros] + [features_ones] * repeat)\n",
    "    target_upsampled = pd.concat([target_zeros] + [target_ones] * repeat)\n",
    "    \n",
    "    features_upsampled, target_upsampled = shuffle(\n",
    "        features_upsampled, target_upsampled, random_state = 42)\n",
    "    \n",
    "    return features_upsampled, target_upsampled\n",
    "\n",
    "features_TrUp, target_TrUp = upsample(features_train, target_train, 4)"
   ]
  },
  {
   "cell_type": "code",
   "execution_count": 35,
   "metadata": {},
   "outputs": [
    {
     "name": "stdout",
     "output_type": "stream",
     "text": [
      "F1 мера на валидационной выборке при Глубине: 1 = 0.4231433506044905\n",
      "F1 мера на валидационной выборке при Глубине: 4 = 0.5080875356803044\n",
      "F1 мера на валидационной выборке при Глубине: 7 = 0.5527192008879023\n",
      "F1 мера на валидационной выборке при Глубине: 10 = 0.5077399380804954\n",
      "F1 мера на валидационной выборке при Глубине: 13 = 0.5000000000000001\n",
      "F1 мера на валидационной выборке при Глубине: 16 = 0.45566502463054187\n"
     ]
    }
   ],
   "source": [
    "for depth in range (1, 18, 3):\n",
    "    model = DecisionTreeClassifier(random_state = 42, max_depth = depth)\n",
    "    model.fit(features_TrUp,target_TrUp)\n",
    "    predicted_valid = model.predict(features_valid)\n",
    "    print(\"F1 мера на валидационной выборке при Глубине:\", depth, \"=\", f1_score(target_valid, predicted_valid))"
   ]
  },
  {
   "cell_type": "code",
   "execution_count": 36,
   "metadata": {},
   "outputs": [
    {
     "name": "stdout",
     "output_type": "stream",
     "text": [
      "F1 мера на обучающей выборке: 0.6544066620402498\n",
      "F1 мера на валидационной выборке 0.5527192008879023\n"
     ]
    }
   ],
   "source": [
    "model = DecisionTreeClassifier(random_state = 42, max_depth = 7)\n",
    "model.fit(features_TrUp,target_TrUp)\n",
    "predicted_valid = model.predict(features_valid)\n",
    "predicted_train = model.predict(features_train)\n",
    "print(\"F1 мера на обучающей выборке:\", f1_score(target_train, predicted_train))\n",
    "print(\"F1 мера на валидационной выборке\",f1_score(target_valid, predicted_valid))"
   ]
  },
  {
   "cell_type": "code",
   "execution_count": 37,
   "metadata": {},
   "outputs": [
    {
     "name": "stdout",
     "output_type": "stream",
     "text": [
      "F1: 0.46379310344827585\n"
     ]
    }
   ],
   "source": [
    "model = LogisticRegression (solver='liblinear', random_state = 42)\n",
    "model.fit(features_TrUp,target_TrUp )\n",
    "predicted_valid = model.predict(features_valid)\n",
    "print(\"F1:\", f1_score(target_valid, predicted_valid))"
   ]
  },
  {
   "cell_type": "markdown",
   "metadata": {},
   "source": [
    "####    Данная модель показывает наихудшие результаты, несмотря на скорость ее работы с ней в ТЗ мы не уложимся, переходим к следующей модели."
   ]
  },
  {
   "cell_type": "code",
   "execution_count": 38,
   "metadata": {},
   "outputs": [
    {
     "name": "stdout",
     "output_type": "stream",
     "text": [
      "$На обучающей$ Деревьев: 1 Глубина: 1 Разделение при 2 F1 мера 0.38125303545410394\n",
      "----------------------------------------------------------------------------------------\n",
      "$На валидационной$ Деревьев: 1 Глубина: 1 Разделение при 2 F1 мера 0.36830520909757886\n",
      "----------------------------------------------------------------------------------------\n",
      "$На обучающей$ Деревьев: 1 Глубина: 1 Разделение при 4 F1 мера 0.38125303545410394\n",
      "----------------------------------------------------------------------------------------\n",
      "$На валидационной$ Деревьев: 1 Глубина: 1 Разделение при 4 F1 мера 0.36830520909757886\n",
      "----------------------------------------------------------------------------------------\n",
      "$На обучающей$ Деревьев: 11 Глубина: 1 Разделение при 2 F1 мера 0.47100712105798576\n",
      "----------------------------------------------------------------------------------------\n",
      "$На валидационной$ Деревьев: 11 Глубина: 1 Разделение при 2 F1 мера 0.45597484276729555\n",
      "----------------------------------------------------------------------------------------\n",
      "$На обучающей$ Деревьев: 11 Глубина: 1 Разделение при 4 F1 мера 0.47100712105798576\n",
      "----------------------------------------------------------------------------------------\n",
      "$На валидационной$ Деревьев: 11 Глубина: 1 Разделение при 4 F1 мера 0.45597484276729555\n",
      "----------------------------------------------------------------------------------------\n",
      "$На обучающей$ Деревьев: 21 Глубина: 1 Разделение при 2 F1 мера 0.47678018575851394\n",
      "----------------------------------------------------------------------------------------\n",
      "$На валидационной$ Деревьев: 21 Глубина: 1 Разделение при 2 F1 мера 0.4552058111380145\n",
      "----------------------------------------------------------------------------------------\n",
      "$На обучающей$ Деревьев: 21 Глубина: 1 Разделение при 4 F1 мера 0.47678018575851394\n",
      "----------------------------------------------------------------------------------------\n",
      "$На валидационной$ Деревьев: 21 Глубина: 1 Разделение при 4 F1 мера 0.4552058111380145\n",
      "----------------------------------------------------------------------------------------\n",
      "$На обучающей$ Деревьев: 31 Глубина: 1 Разделение при 2 F1 мера 0.4963380281690141\n",
      "----------------------------------------------------------------------------------------\n",
      "$На валидационной$ Деревьев: 31 Глубина: 1 Разделение при 2 F1 мера 0.4624889673433363\n",
      "----------------------------------------------------------------------------------------\n",
      "$На обучающей$ Деревьев: 31 Глубина: 1 Разделение при 4 F1 мера 0.4963380281690141\n",
      "----------------------------------------------------------------------------------------\n",
      "$На валидационной$ Деревьев: 31 Глубина: 1 Разделение при 4 F1 мера 0.4624889673433363\n",
      "----------------------------------------------------------------------------------------\n",
      "$На обучающей$ Деревьев: 41 Глубина: 1 Разделение при 2 F1 мера 0.5213699405604302\n",
      "----------------------------------------------------------------------------------------\n",
      "$На валидационной$ Деревьев: 41 Глубина: 1 Разделение при 2 F1 мера 0.4798598949211909\n",
      "----------------------------------------------------------------------------------------\n",
      "$На обучающей$ Деревьев: 41 Глубина: 1 Разделение при 4 F1 мера 0.5213699405604302\n",
      "----------------------------------------------------------------------------------------\n",
      "$На валидационной$ Деревьев: 41 Глубина: 1 Разделение при 4 F1 мера 0.4798598949211909\n",
      "----------------------------------------------------------------------------------------\n",
      "$На обучающей$ Деревьев: 51 Глубина: 1 Разделение при 2 F1 мера 0.5177111716621253\n",
      "----------------------------------------------------------------------------------------\n",
      "$На валидационной$ Деревьев: 51 Глубина: 1 Разделение при 2 F1 мера 0.4804753820033956\n",
      "----------------------------------------------------------------------------------------\n",
      "$На обучающей$ Деревьев: 51 Глубина: 1 Разделение при 4 F1 мера 0.5177111716621253\n",
      "----------------------------------------------------------------------------------------\n",
      "$На валидационной$ Деревьев: 51 Глубина: 1 Разделение при 4 F1 мера 0.4804753820033956\n",
      "----------------------------------------------------------------------------------------\n",
      "$На обучающей$ Деревьев: 61 Глубина: 1 Разделение при 2 F1 мера 0.5175054704595187\n",
      "----------------------------------------------------------------------------------------\n",
      "$На валидационной$ Деревьев: 61 Глубина: 1 Разделение при 2 F1 мера 0.4812286689419795\n",
      "----------------------------------------------------------------------------------------\n",
      "$На обучающей$ Деревьев: 61 Глубина: 1 Разделение при 4 F1 мера 0.5175054704595187\n",
      "----------------------------------------------------------------------------------------\n",
      "$На валидационной$ Деревьев: 61 Глубина: 1 Разделение при 4 F1 мера 0.4812286689419795\n",
      "----------------------------------------------------------------------------------------\n",
      "$На обучающей$ Деревьев: 71 Глубина: 1 Разделение при 2 F1 мера 0.5173333333333333\n",
      "----------------------------------------------------------------------------------------\n",
      "$На валидационной$ Деревьев: 71 Глубина: 1 Разделение при 2 F1 мера 0.47146401985111674\n",
      "----------------------------------------------------------------------------------------\n",
      "$На обучающей$ Деревьев: 71 Глубина: 1 Разделение при 4 F1 мера 0.5173333333333333\n",
      "----------------------------------------------------------------------------------------\n",
      "$На валидационной$ Деревьев: 71 Глубина: 1 Разделение при 4 F1 мера 0.47146401985111674\n",
      "----------------------------------------------------------------------------------------\n",
      "$На обучающей$ Деревьев: 81 Глубина: 1 Разделение при 2 F1 мера 0.5258292550299076\n",
      "----------------------------------------------------------------------------------------\n",
      "$На валидационной$ Деревьев: 81 Глубина: 1 Разделение при 2 F1 мера 0.48417450812660395\n",
      "----------------------------------------------------------------------------------------\n",
      "$На обучающей$ Деревьев: 81 Глубина: 1 Разделение при 4 F1 мера 0.5258292550299076\n",
      "----------------------------------------------------------------------------------------\n",
      "$На валидационной$ Деревьев: 81 Глубина: 1 Разделение при 4 F1 мера 0.48417450812660395\n",
      "----------------------------------------------------------------------------------------\n",
      "$На обучающей$ Деревьев: 91 Глубина: 1 Разделение при 2 F1 мера 0.5264586160108548\n",
      "----------------------------------------------------------------------------------------\n",
      "$На валидационной$ Деревьев: 91 Глубина: 1 Разделение при 2 F1 мера 0.4817021276595745\n",
      "----------------------------------------------------------------------------------------\n",
      "$На обучающей$ Деревьев: 91 Глубина: 1 Разделение при 4 F1 мера 0.5264586160108548\n",
      "----------------------------------------------------------------------------------------\n",
      "$На валидационной$ Деревьев: 91 Глубина: 1 Разделение при 4 F1 мера 0.4817021276595745\n",
      "----------------------------------------------------------------------------------------\n",
      "$На обучающей$ Деревьев: 101 Глубина: 1 Разделение при 2 F1 мера 0.5208625035004202\n",
      "----------------------------------------------------------------------------------------\n",
      "$На валидационной$ Деревьев: 101 Глубина: 1 Разделение при 2 F1 мера 0.480349344978166\n",
      "----------------------------------------------------------------------------------------\n",
      "$На обучающей$ Деревьев: 101 Глубина: 1 Разделение при 4 F1 мера 0.5208625035004202\n",
      "----------------------------------------------------------------------------------------\n",
      "$На валидационной$ Деревьев: 101 Глубина: 1 Разделение при 4 F1 мера 0.480349344978166\n",
      "----------------------------------------------------------------------------------------\n",
      "$На обучающей$ Деревьев: 1 Глубина: 6 Разделение при 2 F1 мера 0.5438373570520966\n",
      "----------------------------------------------------------------------------------------\n",
      "$На валидационной$ Деревьев: 1 Глубина: 6 Разделение при 2 F1 мера 0.4809081527347781\n",
      "----------------------------------------------------------------------------------------\n",
      "$На обучающей$ Деревьев: 1 Глубина: 6 Разделение при 4 F1 мера 0.5438373570520966\n",
      "----------------------------------------------------------------------------------------\n",
      "$На валидационной$ Деревьев: 1 Глубина: 6 Разделение при 4 F1 мера 0.4809081527347781\n",
      "----------------------------------------------------------------------------------------\n",
      "$На обучающей$ Деревьев: 11 Глубина: 6 Разделение при 2 F1 мера 0.6190941674812643\n",
      "----------------------------------------------------------------------------------------\n",
      "$На валидационной$ Деревьев: 11 Глубина: 6 Разделение при 2 F1 мера 0.5421319796954314\n",
      "----------------------------------------------------------------------------------------\n",
      "$На обучающей$ Деревьев: 11 Глубина: 6 Разделение при 4 F1 мера 0.6193422338000651\n",
      "----------------------------------------------------------------------------------------\n",
      "$На валидационной$ Деревьев: 11 Глубина: 6 Разделение при 4 F1 мера 0.5404298874104402\n",
      "----------------------------------------------------------------------------------------\n",
      "$На обучающей$ Деревьев: 21 Глубина: 6 Разделение при 2 F1 мера 0.628\n",
      "----------------------------------------------------------------------------------------\n",
      "$На валидационной$ Деревьев: 21 Глубина: 6 Разделение при 2 F1 мера 0.5524402907580478\n",
      "----------------------------------------------------------------------------------------\n",
      "$На обучающей$ Деревьев: 21 Глубина: 6 Разделение при 4 F1 мера 0.6286666666666667\n",
      "----------------------------------------------------------------------------------------\n",
      "$На валидационной$ Деревьев: 21 Глубина: 6 Разделение при 4 F1 мера 0.5549738219895288\n",
      "----------------------------------------------------------------------------------------\n",
      "$На обучающей$ Деревьев: 31 Глубина: 6 Разделение при 2 F1 мера 0.6267372600926538\n",
      "----------------------------------------------------------------------------------------\n",
      "$На валидационной$ Деревьев: 31 Глубина: 6 Разделение при 2 F1 мера 0.5507246376811594\n",
      "----------------------------------------------------------------------------------------\n",
      "$На обучающей$ Деревьев: 31 Глубина: 6 Разделение при 4 F1 мера 0.626984126984127\n",
      "----------------------------------------------------------------------------------------\n",
      "$На валидационной$ Деревьев: 31 Глубина: 6 Разделение при 4 F1 мера 0.55625\n",
      "----------------------------------------------------------------------------------------\n",
      "$На обучающей$ Деревьев: 41 Глубина: 6 Разделение при 2 F1 мера 0.6381977135171486\n",
      "----------------------------------------------------------------------------------------\n",
      "$На валидационной$ Деревьев: 41 Глубина: 6 Разделение при 2 F1 мера 0.5580404685835996\n",
      "----------------------------------------------------------------------------------------\n",
      "$На обучающей$ Деревьев: 41 Глубина: 6 Разделение при 4 F1 мера 0.6363329962925515\n",
      "----------------------------------------------------------------------------------------\n",
      "$На валидационной$ Деревьев: 41 Глубина: 6 Разделение при 4 F1 мера 0.5607675906183369\n",
      "----------------------------------------------------------------------------------------\n",
      "$На обучающей$ Деревьев: 51 Глубина: 6 Разделение при 2 F1 мера 0.6395153147088524\n",
      "----------------------------------------------------------------------------------------\n",
      "$На валидационной$ Деревьев: 51 Глубина: 6 Разделение при 2 F1 мера 0.5534188034188035\n",
      "----------------------------------------------------------------------------------------\n",
      "$На обучающей$ Деревьев: 51 Глубина: 6 Разделение при 4 F1 мера 0.6404341926729985\n",
      "----------------------------------------------------------------------------------------\n",
      "$На валидационной$ Деревьев: 51 Глубина: 6 Разделение при 4 F1 мера 0.5487674169346194\n",
      "----------------------------------------------------------------------------------------\n",
      "$На обучающей$ Деревьев: 61 Глубина: 6 Разделение при 2 F1 мера 0.6379310344827587\n",
      "----------------------------------------------------------------------------------------\n",
      "$На валидационной$ Деревьев: 61 Глубина: 6 Разделение при 2 F1 мера 0.5550847457627119\n",
      "----------------------------------------------------------------------------------------\n",
      "$На обучающей$ Деревьев: 61 Глубина: 6 Разделение при 4 F1 мера 0.6412571046472751\n",
      "----------------------------------------------------------------------------------------\n",
      "$На валидационной$ Деревьев: 61 Глубина: 6 Разделение при 4 F1 мера 0.5559105431309903\n",
      "----------------------------------------------------------------------------------------\n",
      "$На обучающей$ Деревьев: 71 Глубина: 6 Разделение при 2 F1 мера 0.6390374331550802\n",
      "----------------------------------------------------------------------------------------\n",
      "$На валидационной$ Деревьев: 71 Глубина: 6 Разделение при 2 F1 мера 0.5553191489361702\n",
      "----------------------------------------------------------------------------------------\n",
      "$На обучающей$ Деревьев: 71 Глубина: 6 Разделение при 4 F1 мера 0.6375545851528384\n",
      "----------------------------------------------------------------------------------------\n",
      "$На валидационной$ Деревьев: 71 Глубина: 6 Разделение при 4 F1 мера 0.5595744680851064\n",
      "----------------------------------------------------------------------------------------\n",
      "$На обучающей$ Деревьев: 81 Глубина: 6 Разделение при 2 F1 мера 0.6346472341835044\n",
      "----------------------------------------------------------------------------------------\n",
      "$На валидационной$ Деревьев: 81 Глубина: 6 Разделение при 2 F1 мера 0.5612565445026179\n",
      "----------------------------------------------------------------------------------------\n",
      "$На обучающей$ Деревьев: 81 Глубина: 6 Разделение при 4 F1 мера 0.6355202120609675\n",
      "----------------------------------------------------------------------------------------\n",
      "$На валидационной$ Деревьев: 81 Глубина: 6 Разделение при 4 F1 мера 0.5656779661016949\n",
      "----------------------------------------------------------------------------------------\n",
      "$На обучающей$ Деревьев: 91 Глубина: 6 Разделение при 2 F1 мера 0.6302910052910053\n",
      "----------------------------------------------------------------------------------------\n",
      "$На валидационной$ Деревьев: 91 Глубина: 6 Разделение при 2 F1 мера 0.5548523206751055\n",
      "----------------------------------------------------------------------------------------\n",
      "$На обучающей$ Деревьев: 91 Глубина: 6 Разделение при 4 F1 мера 0.6313348790990394\n",
      "----------------------------------------------------------------------------------------\n",
      "$На валидационной$ Деревьев: 91 Глубина: 6 Разделение при 4 F1 мера 0.556854410201913\n",
      "----------------------------------------------------------------------------------------\n",
      "$На обучающей$ Деревьев: 101 Глубина: 6 Разделение при 2 F1 мера 0.6360026472534746\n",
      "----------------------------------------------------------------------------------------\n",
      "$На валидационной$ Деревьев: 101 Глубина: 6 Разделение при 2 F1 мера 0.5595744680851064\n",
      "----------------------------------------------------------------------------------------\n",
      "$На обучающей$ Деревьев: 101 Глубина: 6 Разделение при 4 F1 мера 0.6356692128860844\n",
      "----------------------------------------------------------------------------------------\n",
      "$На валидационной$ Деревьев: 101 Глубина: 6 Разделение при 4 F1 мера 0.55923159018143\n",
      "----------------------------------------------------------------------------------------\n",
      "$На обучающей$ Деревьев: 1 Глубина: 11 Разделение при 2 F1 мера 0.6903520208604954\n",
      "----------------------------------------------------------------------------------------\n",
      "$На валидационной$ Деревьев: 1 Глубина: 11 Разделение при 2 F1 мера 0.48751248751248755\n",
      "----------------------------------------------------------------------------------------\n",
      "$На обучающей$ Деревьев: 1 Глубина: 11 Разделение при 4 F1 мера 0.6810957051065268\n",
      "----------------------------------------------------------------------------------------\n",
      "$На валидационной$ Деревьев: 1 Глубина: 11 Разделение при 4 F1 мера 0.46701570680628274\n",
      "----------------------------------------------------------------------------------------\n",
      "$На обучающей$ Деревьев: 11 Глубина: 11 Разделение при 2 F1 мера 0.8515072571641236\n",
      "----------------------------------------------------------------------------------------\n",
      "$На валидационной$ Деревьев: 11 Глубина: 11 Разделение при 2 F1 мера 0.5516403402187121\n",
      "----------------------------------------------------------------------------------------\n",
      "$На обучающей$ Деревьев: 11 Глубина: 11 Разделение при 4 F1 мера 0.8406654343807762\n",
      "----------------------------------------------------------------------------------------\n",
      "$На валидационной$ Деревьев: 11 Глубина: 11 Разделение при 4 F1 мера 0.5606796116504854\n",
      "----------------------------------------------------------------------------------------\n",
      "$На обучающей$ Деревьев: 21 Глубина: 11 Разделение при 2 F1 мера 0.8530947054436987\n",
      "----------------------------------------------------------------------------------------\n",
      "$На валидационной$ Деревьев: 21 Глубина: 11 Разделение при 2 F1 мера 0.5500603136308806\n",
      "----------------------------------------------------------------------------------------\n",
      "$На обучающей$ Деревьев: 21 Глубина: 11 Разделение при 4 F1 мера 0.843108504398827\n",
      "----------------------------------------------------------------------------------------\n",
      "$На валидационной$ Деревьев: 21 Глубина: 11 Разделение при 4 F1 мера 0.558472553699284\n",
      "----------------------------------------------------------------------------------------\n",
      "$На обучающей$ Деревьев: 31 Глубина: 11 Разделение при 2 F1 мера 0.8559732043170823\n",
      "----------------------------------------------------------------------------------------\n",
      "$На валидационной$ Деревьев: 31 Глубина: 11 Разделение при 2 F1 мера 0.5515587529976019\n",
      "----------------------------------------------------------------------------------------\n",
      "$На обучающей$ Деревьев: 31 Глубина: 11 Разделение при 4 F1 мера 0.8486187845303866\n",
      "----------------------------------------------------------------------------------------\n",
      "$На валидационной$ Деревьев: 31 Глубина: 11 Разделение при 4 F1 мера 0.5611510791366906\n",
      "----------------------------------------------------------------------------------------\n",
      "$На обучающей$ Деревьев: 41 Глубина: 11 Разделение при 2 F1 мера 0.8591549295774649\n",
      "----------------------------------------------------------------------------------------\n",
      "$На валидационной$ Деревьев: 41 Глубина: 11 Разделение при 2 F1 мера 0.5603864734299516\n",
      "----------------------------------------------------------------------------------------\n",
      "$На обучающей$ Деревьев: 41 Глубина: 11 Разделение при 4 F1 мера 0.8503878832656077\n",
      "----------------------------------------------------------------------------------------\n",
      "$На валидационной$ Деревьев: 41 Глубина: 11 Разделение при 4 F1 мера 0.5642256902761105\n",
      "----------------------------------------------------------------------------------------\n",
      "$На обучающей$ Деревьев: 51 Глубина: 11 Разделение при 2 F1 мера 0.8637037037037038\n",
      "----------------------------------------------------------------------------------------\n",
      "$На валидационной$ Деревьев: 51 Глубина: 11 Разделение при 2 F1 мера 0.5648484848484849\n",
      "----------------------------------------------------------------------------------------\n",
      "$На обучающей$ Деревьев: 51 Глубина: 11 Разделение при 4 F1 мера 0.8531365313653136\n",
      "----------------------------------------------------------------------------------------\n",
      "$На валидационной$ Деревьев: 51 Глубина: 11 Разделение при 4 F1 мера 0.5690276110444178\n",
      "----------------------------------------------------------------------------------------\n",
      "$На обучающей$ Деревьев: 61 Глубина: 11 Разделение при 2 F1 мера 0.8647647276769174\n",
      "----------------------------------------------------------------------------------------\n",
      "$На валидационной$ Деревьев: 61 Глубина: 11 Разделение при 2 F1 мера 0.5631067961165048\n",
      "----------------------------------------------------------------------------------------\n",
      "$На обучающей$ Деревьев: 61 Глубина: 11 Разделение при 4 F1 мера 0.8614927590048274\n",
      "----------------------------------------------------------------------------------------\n",
      "$На валидационной$ Деревьев: 61 Глубина: 11 Разделение при 4 F1 мера 0.5714285714285714\n",
      "----------------------------------------------------------------------------------------\n",
      "$На обучающей$ Деревьев: 71 Глубина: 11 Разделение при 2 F1 мера 0.8616863905325444\n",
      "----------------------------------------------------------------------------------------\n",
      "$На валидационной$ Деревьев: 71 Глубина: 11 Разделение при 2 F1 мера 0.5665445665445665\n",
      "----------------------------------------------------------------------------------------\n",
      "$На обучающей$ Деревьев: 71 Глубина: 11 Разделение при 4 F1 мера 0.8621200889547813\n",
      "----------------------------------------------------------------------------------------\n",
      "$На валидационной$ Деревьев: 71 Глубина: 11 Разделение при 4 F1 мера 0.5717732207478889\n",
      "----------------------------------------------------------------------------------------\n",
      "$На обучающей$ Деревьев: 81 Глубина: 11 Разделение при 2 F1 мера 0.8642249352571217\n",
      "----------------------------------------------------------------------------------------\n",
      "$На валидационной$ Деревьев: 81 Глубина: 11 Разделение при 2 F1 мера 0.5662211421628189\n",
      "----------------------------------------------------------------------------------------\n",
      "$На обучающей$ Деревьев: 81 Глубина: 11 Разделение при 4 F1 мера 0.8640059127864005\n",
      "----------------------------------------------------------------------------------------\n",
      "$На валидационной$ Деревьев: 81 Глубина: 11 Разделение при 4 F1 мера 0.5772946859903382\n",
      "----------------------------------------------------------------------------------------\n",
      "$На обучающей$ Деревьев: 91 Глубина: 11 Разделение при 2 F1 мера 0.8657047724750276\n",
      "----------------------------------------------------------------------------------------\n",
      "$На валидационной$ Деревьев: 91 Глубина: 11 Разделение при 2 F1 мера 0.5610640870616687\n",
      "----------------------------------------------------------------------------------------\n",
      "$На обучающей$ Деревьев: 91 Глубина: 11 Разделение при 4 F1 мера 0.8629479128186185\n",
      "----------------------------------------------------------------------------------------\n",
      "$На валидационной$ Деревьев: 91 Глубина: 11 Разделение при 4 F1 мера 0.576969696969697\n",
      "----------------------------------------------------------------------------------------\n",
      "$На обучающей$ Деревьев: 101 Глубина: 11 Разделение при 2 F1 мера 0.8669623059866962\n",
      "----------------------------------------------------------------------------------------\n",
      "$На валидационной$ Деревьев: 101 Глубина: 11 Разделение при 2 F1 мера 0.5642256902761105\n",
      "----------------------------------------------------------------------------------------\n",
      "$На обучающей$ Деревьев: 101 Глубина: 11 Разделение при 4 F1 мера 0.8618784530386739\n",
      "----------------------------------------------------------------------------------------\n",
      "$На валидационной$ Деревьев: 101 Глубина: 11 Разделение при 4 F1 мера 0.5738498789346247\n",
      "----------------------------------------------------------------------------------------\n",
      "$На обучающей$ Деревьев: 1 Глубина: 16 Разделение при 2 F1 мера 0.8422545196738745\n",
      "----------------------------------------------------------------------------------------\n",
      "$На валидационной$ Деревьев: 1 Глубина: 16 Разделение при 2 F1 мера 0.4475982532751092\n",
      "----------------------------------------------------------------------------------------\n",
      "$На обучающей$ Деревьев: 1 Глубина: 16 Разделение при 4 F1 мера 0.828125\n",
      "----------------------------------------------------------------------------------------\n",
      "$На валидационной$ Деревьев: 1 Глубина: 16 Разделение при 4 F1 мера 0.4720357941834452\n",
      "----------------------------------------------------------------------------------------\n",
      "$На обучающей$ Деревьев: 11 Глубина: 16 Разделение при 2 F1 мера 0.9808153477218226\n",
      "----------------------------------------------------------------------------------------\n",
      "$На валидационной$ Деревьев: 11 Глубина: 16 Разделение при 2 F1 мера 0.561038961038961\n",
      "----------------------------------------------------------------------------------------\n",
      "$На обучающей$ Деревьев: 11 Глубина: 16 Разделение при 4 F1 мера 0.97807891590275\n",
      "----------------------------------------------------------------------------------------\n",
      "$На валидационной$ Деревьев: 11 Глубина: 16 Разделение при 4 F1 мера 0.5305591677503251\n",
      "----------------------------------------------------------------------------------------\n",
      "$На обучающей$ Деревьев: 21 Глубина: 16 Разделение при 2 F1 мера 0.9867310012062726\n",
      "----------------------------------------------------------------------------------------\n",
      "$На валидационной$ Деревьев: 21 Глубина: 16 Разделение при 2 F1 мера 0.5620052770448548\n",
      "----------------------------------------------------------------------------------------\n",
      "$На обучающей$ Деревьев: 21 Глубина: 16 Разделение при 4 F1 мера 0.9867310012062726\n",
      "----------------------------------------------------------------------------------------\n",
      "$На валидационной$ Деревьев: 21 Глубина: 16 Разделение при 4 F1 мера 0.5578947368421052\n",
      "----------------------------------------------------------------------------------------\n",
      "$На обучающей$ Деревьев: 31 Глубина: 16 Разделение при 2 F1 мера 0.9923170238576627\n",
      "----------------------------------------------------------------------------------------\n",
      "$На валидационной$ Деревьев: 31 Глубина: 16 Разделение при 2 F1 мера 0.563758389261745\n",
      "----------------------------------------------------------------------------------------\n",
      "$На обучающей$ Деревьев: 31 Глубина: 16 Разделение при 4 F1 мера 0.9899152884227511\n",
      "----------------------------------------------------------------------------------------\n",
      "$На валидационной$ Деревьев: 31 Глубина: 16 Разделение при 4 F1 мера 0.5664429530201343\n",
      "----------------------------------------------------------------------------------------\n",
      "$На обучающей$ Деревьев: 41 Глубина: 16 Разделение при 2 F1 мера 0.9923170238576627\n",
      "----------------------------------------------------------------------------------------\n",
      "$На валидационной$ Деревьев: 41 Глубина: 16 Разделение при 2 F1 мера 0.568733153638814\n",
      "----------------------------------------------------------------------------------------\n",
      "$На обучающей$ Деревьев: 41 Глубина: 16 Разделение при 4 F1 мера 0.9915151515151515\n",
      "----------------------------------------------------------------------------------------\n",
      "$На валидационной$ Деревьев: 41 Глубина: 16 Разделение при 4 F1 мера 0.5714285714285715\n",
      "----------------------------------------------------------------------------------------\n",
      "$На обучающей$ Деревьев: 51 Глубина: 16 Разделение при 2 F1 мера 0.9935222672064777\n",
      "----------------------------------------------------------------------------------------\n",
      "$На валидационной$ Деревьев: 51 Глубина: 16 Разделение при 2 F1 мера 0.5679347826086957\n",
      "----------------------------------------------------------------------------------------\n",
      "$На обучающей$ Деревьев: 51 Глубина: 16 Разделение при 4 F1 мера 0.9915151515151515\n",
      "----------------------------------------------------------------------------------------\n",
      "$На валидационной$ Деревьев: 51 Глубина: 16 Разделение при 4 F1 мера 0.5810810810810811\n",
      "----------------------------------------------------------------------------------------\n",
      "$На обучающей$ Деревьев: 61 Глубина: 16 Разделение при 2 F1 мера 0.9951338199513382\n",
      "----------------------------------------------------------------------------------------\n",
      "$На валидационной$ Деревьев: 61 Глубина: 16 Разделение при 2 F1 мера 0.5593451568894954\n",
      "----------------------------------------------------------------------------------------\n",
      "$На обучающей$ Деревьев: 61 Глубина: 16 Разделение при 4 F1 мера 0.9915151515151515\n",
      "----------------------------------------------------------------------------------------\n",
      "$На валидационной$ Деревьев: 61 Глубина: 16 Разделение при 4 F1 мера 0.5660377358490567\n",
      "----------------------------------------------------------------------------------------\n",
      "$На обучающей$ Деревьев: 71 Глубина: 16 Разделение при 2 F1 мера 0.9955375253549696\n",
      "----------------------------------------------------------------------------------------\n",
      "$На валидационной$ Деревьев: 71 Глубина: 16 Разделение при 2 F1 мера 0.5648021828103684\n",
      "----------------------------------------------------------------------------------------\n",
      "$На обучающей$ Деревьев: 71 Глубина: 16 Разделение при 4 F1 мера 0.9919159256265158\n",
      "----------------------------------------------------------------------------------------\n",
      "$На валидационной$ Деревьев: 71 Глубина: 16 Разделение при 4 F1 мера 0.5710419485791609\n",
      "----------------------------------------------------------------------------------------\n",
      "$На обучающей$ Деревьев: 81 Глубина: 16 Разделение при 2 F1 мера 0.9963459196102314\n",
      "----------------------------------------------------------------------------------------\n",
      "$На валидационной$ Деревьев: 81 Глубина: 16 Разделение при 2 F1 мера 0.5698630136986302\n",
      "----------------------------------------------------------------------------------------\n",
      "$На обучающей$ Деревьев: 81 Глубина: 16 Разделение при 4 F1 мера 0.9919159256265158\n",
      "----------------------------------------------------------------------------------------\n",
      "$На валидационной$ Деревьев: 81 Глубина: 16 Разделение при 4 F1 мера 0.5671641791044777\n",
      "----------------------------------------------------------------------------------------\n",
      "$На обучающей$ Деревьев: 91 Глубина: 16 Разделение при 2 F1 мера 0.9963459196102314\n",
      "----------------------------------------------------------------------------------------\n",
      "$На валидационной$ Деревьев: 91 Глубина: 16 Разделение при 2 F1 мера 0.5671232876712329\n",
      "----------------------------------------------------------------------------------------\n",
      "$На обучающей$ Деревьев: 91 Глубина: 16 Разделение при 4 F1 мера 0.9935222672064777\n",
      "----------------------------------------------------------------------------------------\n",
      "$На валидационной$ Деревьев: 91 Глубина: 16 Разделение при 4 F1 мера 0.5663474692202463\n",
      "----------------------------------------------------------------------------------------\n",
      "$На обучающей$ Деревьев: 101 Глубина: 16 Разделение при 2 F1 мера 0.9959415584415584\n",
      "----------------------------------------------------------------------------------------\n",
      "$На валидационной$ Деревьев: 101 Глубина: 16 Разделение при 2 F1 мера 0.5655737704918034\n",
      "----------------------------------------------------------------------------------------\n",
      "$На обучающей$ Деревьев: 101 Глубина: 16 Разделение при 4 F1 мера 0.9919159256265158\n",
      "----------------------------------------------------------------------------------------\n",
      "$На валидационной$ Деревьев: 101 Глубина: 16 Разделение при 4 F1 мера 0.569482288828338\n",
      "----------------------------------------------------------------------------------------\n"
     ]
    }
   ],
   "source": [
    "for depth in range (1, 21, 5):\n",
    "    for estimators in range (1, 111, 10):\n",
    "        for split in range (2, 6, 2):\n",
    "            model = RandomForestClassifier (random_state=42, n_estimators = estimators, max_depth = depth,\n",
    "                                        n_jobs = -1, min_samples_split = split)\n",
    "            model.fit(features_TrUp,target_TrUp )\n",
    "            predicted_train = model.predict(features_train)\n",
    "            predicted_valid = model.predict(features_valid)\n",
    "            print('$На обучающей$ Деревьев:',estimators, 'Глубина:', depth,'Разделение при', split,\n",
    "              'F1 мера', f1_score(target_train, predicted_train))\n",
    "            print(\"----------------------------------------------------------------------------------------\")\n",
    "            print('$На валидационной$ Деревьев:',estimators, 'Глубина:', depth,'Разделение при', split,\n",
    "              'F1 мера', f1_score(target_valid, predicted_valid))\n",
    "            print(\"----------------------------------------------------------------------------------------\")            "
   ]
  },
  {
   "cell_type": "code",
   "execution_count": 45,
   "metadata": {
    "scrolled": true
   },
   "outputs": [
    {
     "name": "stdout",
     "output_type": "stream",
     "text": [
      "На обучающей 0.8614927590048274\n",
      "-------------------------------------------------------\n",
      "На валидационной 0.5714285714285714\n",
      "-------------------------------------------------------\n",
      "На тестовой 0.6331877729257641\n",
      "-------------------------------------------------------\n"
     ]
    }
   ],
   "source": [
    "model = RandomForestClassifier (random_state=42, n_estimators = 61, max_depth = 11,\n",
    "                                        n_jobs = -1, min_samples_split = 4)\n",
    "model.fit(features_TrUp,target_TrUp )\n",
    "predicted_train = model.predict(features_train)\n",
    "predicted_valid = model.predict(features_valid)\n",
    "predicted_test = model.predict(features_test)\n",
    "print('На обучающей', f1_score(target_train, predicted_train))\n",
    "print(\"-------------------------------------------------------\")\n",
    "print('На валидационной', f1_score(target_valid, predicted_valid))\n",
    "print(\"-------------------------------------------------------\")\n",
    "print('На тестовой', f1_score(target_test, predicted_test))\n",
    "print(\"-------------------------------------------------------\")"
   ]
  },
  {
   "cell_type": "markdown",
   "metadata": {},
   "source": [
    "####    После подбора наиболее выгодных гиперпараметров, можно смело сказать, что модель леса обеспечивает необходимую точность, хоть и является самой медленной. Как альтернативу, из-за скорости работы, можно использовать модель дерева решений, которая так же удовлетворяет нашим потребностям, но работает быстрее."
   ]
  },
  {
   "cell_type": "markdown",
   "metadata": {},
   "source": [
    "# 4. Тестирование модели"
   ]
  },
  {
   "cell_type": "code",
   "execution_count": 40,
   "metadata": {},
   "outputs": [
    {
     "name": "stdout",
     "output_type": "stream",
     "text": [
      "На тестовой 0.6384692849949647\n"
     ]
    }
   ],
   "source": [
    "print('На тестовой', f1_score(target_test, predicted_test))"
   ]
  },
  {
   "cell_type": "markdown",
   "metadata": {},
   "source": [
    "### Вывод:\n",
    "- в ходе исследования мы изучили данные, где обнаружили, некоторые столбцы были лишними для обучения моделей и усложнили бы нам дальнейшую работу, вследствие чего было принято решение убрать их из датафрейма.\n",
    "- в таблице обнаружились пропущенные значения , которые решено было заменить на медианные значения по регионам.\n",
    "- при дальнейшем изучении данных выявилась проблема дисбаланса классов, где один класс превосходил другой в ~4 раза. Для исправления ситуации были проверены 2 метода, а именно: Взвешивание классов и Upsampling, т.к. использовать Downsampling для такой небольшой выборки и проводить обучение модели на 2000 значений считаю неправильным.\n",
    "- после устранения дисбаланса классов и тестирования разных моделей для выбора наилучшей (обеспечивающей F1-меру = 0.59) мы остановились на модели случайного леса с подобранными гиперпараметрами.   "
   ]
  },
  {
   "cell_type": "markdown",
   "metadata": {},
   "source": [
    "# 5. Исследование метрики AUC-ROC"
   ]
  },
  {
   "cell_type": "code",
   "execution_count": 41,
   "metadata": {},
   "outputs": [],
   "source": [
    "predicted_valid = model.predict(features_valid)\n",
    "probabilities_valid = model.predict_proba(features_valid)\n",
    "probabilities_one_valid = probabilities_valid[:, 1]"
   ]
  },
  {
   "cell_type": "code",
   "execution_count": 42,
   "metadata": {},
   "outputs": [],
   "source": [
    "fpr, tpr, thresholds = roc_curve(target_valid, probabilities_one_valid)"
   ]
  },
  {
   "cell_type": "code",
   "execution_count": 43,
   "metadata": {},
   "outputs": [
    {
     "data": {
      "image/png": "[encoded data removed]",
      "text/plain": [
       "<Figure size 432x288 with 1 Axes>"
      ]
     },
     "metadata": {
      "needs_background": "light"
     },
     "output_type": "display_data"
    }
   ],
   "source": [
    "plt.figure()\n",
    "plt.plot([0, 1], [0, 1], linestyle=':')\n",
    "plt.plot(fpr, tpr)\n",
    "plt.xlim([0.0, 1.0])\n",
    "plt.ylim([0.0, 1.0])\n",
    "plt.xlabel('False Positive Rate')\n",
    "plt.ylabel('True Positive Rate')\n",
    "plt.title('ROC-кривая улучшенной модели')\n",
    "plt.show()"
   ]
  },
  {
   "cell_type": "code",
   "execution_count": 44,
   "metadata": {},
   "outputs": [
    {
     "name": "stdout",
     "output_type": "stream",
     "text": [
      "0.8414311241065627\n"
     ]
    }
   ],
   "source": [
    "auc_roc = roc_auc_score (target_valid , probabilities_one_valid)\n",
    "print(auc_roc)"
   ]
  },
  {
   "cell_type": "markdown",
   "metadata": {},
   "source": [
    "#### AUC-ROC улучшенной модели возрасла с 0.78 до 0.84."
   ]
  }
 ],
 "metadata": {
  "kernelspec": {
   "display_name": "Python 3",
   "language": "python",
   "name": "python3"
  },
  "language_info": {
   "codemirror_mode": {
    "name": "ipython",
    "version": 3
   },
   "file_extension": ".py",
   "mimetype": "text/x-python",
   "name": "python",
   "nbconvert_exporter": "python",
   "pygments_lexer": "ipython3",
   "version": "3.7.7"
  },
  "toc": {
   "base_numbering": 1,
   "nav_menu": {},
   "number_sections": false,
   "sideBar": true,
   "skip_h1_title": true,
   "title_cell": "Table of Contents",
   "title_sidebar": "Contents",
   "toc_cell": false,
   "toc_position": {},
   "toc_section_display": true,
   "toc_window_display": false
  }
 },
 "nbformat": 4,
 "nbformat_minor": 2
}
