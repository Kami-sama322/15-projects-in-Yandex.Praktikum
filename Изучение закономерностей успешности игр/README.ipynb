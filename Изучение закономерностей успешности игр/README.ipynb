{
 "cells": [
  {
   "cell_type": "markdown",
   "metadata": {},
   "source": [
    "# <p style=\"text-align: center;\"> Изучение закономерностей успешности в продаже видеоигр </p>\n",
    "\n",
    "**В данном проекте мы, на сонове историчесих данных по продажам, выявим закономерности, определяющие фактор успешности тех или иных игр в разных регионах и на разных платформах, а так же сделаем прогноз на следующий год**\n",
    "\n",
    "- для решения задачи: \n",
    "    - изучим датасет и проведем предобработку данных\n",
    "    - проведем исследовательский анализ данных\n",
    "    - составим портрет пользователей по регионам\n",
    "    - выдвенем и проверим гипотезы\n",
    "    - сделаем вывод по результатам исследования\n",
    "\n",
    "\n",
    "**Для выполнения проекта использовались библиотеки:**  \n",
    "- *Pandas*  \n",
    "- *Numpy*    \n",
    "- *Matplotlib*  \n",
    "- *SciPy*"
   ]
  },
  {
   "cell_type": "code",
   "execution_count": null,
   "metadata": {},
   "outputs": [],
   "source": []
  }
 ],
 "metadata": {
  "kernelspec": {
   "display_name": "Python 3",
   "language": "python",
   "name": "python3"
  },
  "language_info": {
   "codemirror_mode": {
    "name": "ipython",
    "version": 3
   },
   "file_extension": ".py",
   "mimetype": "text/x-python",
   "name": "python",
   "nbconvert_exporter": "python",
   "pygments_lexer": "ipython3",
   "version": "3.7.7"
  }
 },
 "nbformat": 4,
 "nbformat_minor": 4
}
