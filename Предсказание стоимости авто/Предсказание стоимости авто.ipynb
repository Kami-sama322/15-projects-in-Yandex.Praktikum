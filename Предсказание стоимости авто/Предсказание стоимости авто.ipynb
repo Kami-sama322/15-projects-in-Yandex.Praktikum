{
 "cells": [
  {
   "cell_type": "code",
   "execution_count": 1,
   "metadata": {},
   "outputs": [],
   "source": [
    "import pandas as pd\n",
    "import numpy as np\n",
    "from xgboost import XGBRegressor\n",
    "from catboost import CatBoostRegressor\n",
    "from lightgbm import LGBMRegressor\n",
    "from lightgbm import LGBMClassifier\n",
    "from sklearn.dummy import DummyRegressor\n",
    "from sklearn.metrics import mean_squared_error\n",
    "import matplotlib.pyplot as plt\n",
    "import seaborn as sns\n",
    "from sklearn.preprocessing import OrdinalEncoder\n",
    "from sklearn.model_selection import train_test_split\n",
    "from sklearn.model_selection import RandomizedSearchCV"
   ]
  },
  {
   "cell_type": "markdown",
   "metadata": {},
   "source": [
    "# 1. Подготовка данных"
   ]
  },
  {
   "cell_type": "code",
   "execution_count": 2,
   "metadata": {},
   "outputs": [],
   "source": [
    "df = pd.read_csv (\"/datasets/autos.csv\")"
   ]
  },
  {
   "cell_type": "code",
   "execution_count": 3,
   "metadata": {},
   "outputs": [],
   "source": [
    "df, df_test = train_test_split(df, test_size=0.2, random_state=42)"
   ]
  },
  {
   "cell_type": "markdown",
   "metadata": {},
   "source": [
    "#### разделим исходный датасет на рабочий и проверочный"
   ]
  },
  {
   "cell_type": "code",
   "execution_count": 5,
   "metadata": {},
   "outputs": [
    {
     "data": {
      "text/plain": [
       "(283495, 16)"
      ]
     },
     "metadata": {},
     "output_type": "display_data"
    },
    {
     "data": {
      "text/plain": [
       "(70874, 16)"
      ]
     },
     "metadata": {},
     "output_type": "display_data"
    }
   ],
   "source": [
    "display(df.shape)\n",
    "display(df_test.shape)"
   ]
  },
  {
   "cell_type": "code",
   "execution_count": 6,
   "metadata": {},
   "outputs": [],
   "source": [
    "df_test.dropna(inplace=True)"
   ]
  },
  {
   "cell_type": "code",
   "execution_count": 8,
   "metadata": {},
   "outputs": [
    {
     "name": "stdout",
     "output_type": "stream",
     "text": [
      "<class 'pandas.core.frame.DataFrame'>\n",
      "Int64Index: 283495 entries, 107156 to 121958\n",
      "Data columns (total 16 columns):\n",
      "DateCrawled          283495 non-null object\n",
      "Price                283495 non-null int64\n",
      "VehicleType          253498 non-null object\n",
      "RegistrationYear     283495 non-null int64\n",
      "Gearbox              267544 non-null object\n",
      "Power                283495 non-null int64\n",
      "Model                267684 non-null object\n",
      "Kilometer            283495 non-null int64\n",
      "RegistrationMonth    283495 non-null int64\n",
      "FuelType             257066 non-null object\n",
      "Brand                283495 non-null object\n",
      "NotRepaired          226394 non-null object\n",
      "DateCreated          283495 non-null object\n",
      "NumberOfPictures     283495 non-null int64\n",
      "PostalCode           283495 non-null int64\n",
      "LastSeen             283495 non-null object\n",
      "dtypes: int64(7), object(9)\n",
      "memory usage: 36.8+ MB\n"
     ]
    }
   ],
   "source": [
    "df.info()"
   ]
  },
  {
   "cell_type": "code",
   "execution_count": 9,
   "metadata": {},
   "outputs": [
    {
     "data": {
      "text/plain": [
       "DateCrawled              0\n",
       "Price                    0\n",
       "VehicleType          29997\n",
       "RegistrationYear         0\n",
       "Gearbox              15951\n",
       "Power                    0\n",
       "Model                15811\n",
       "Kilometer                0\n",
       "RegistrationMonth        0\n",
       "FuelType             26429\n",
       "Brand                    0\n",
       "NotRepaired          57101\n",
       "DateCreated              0\n",
       "NumberOfPictures         0\n",
       "PostalCode               0\n",
       "LastSeen                 0\n",
       "dtype: int64"
      ]
     },
     "execution_count": 9,
     "metadata": {},
     "output_type": "execute_result"
    }
   ],
   "source": [
    "df.isnull().sum()"
   ]
  },
  {
   "cell_type": "markdown",
   "metadata": {},
   "source": [
    "#### Как видим в датасете много пропущенных значений, которые следует обработать."
   ]
  },
  {
   "cell_type": "code",
   "execution_count": 10,
   "metadata": {},
   "outputs": [
    {
     "data": {
      "text/html": [
       "<div>\n",
       "<style scoped>\n",
       "    .dataframe tbody tr th:only-of-type {\n",
       "        vertical-align: middle;\n",
       "    }\n",
       "\n",
       "    .dataframe tbody tr th {\n",
       "        vertical-align: top;\n",
       "    }\n",
       "\n",
       "    .dataframe thead th {\n",
       "        text-align: right;\n",
       "    }\n",
       "</style>\n",
       "<table border=\"1\" class=\"dataframe\">\n",
       "  <thead>\n",
       "    <tr style=\"text-align: right;\">\n",
       "      <th></th>\n",
       "      <th>Price</th>\n",
       "      <th>RegistrationYear</th>\n",
       "      <th>Power</th>\n",
       "      <th>Kilometer</th>\n",
       "      <th>RegistrationMonth</th>\n",
       "      <th>NumberOfPictures</th>\n",
       "      <th>PostalCode</th>\n",
       "    </tr>\n",
       "  </thead>\n",
       "  <tbody>\n",
       "    <tr>\n",
       "      <td>count</td>\n",
       "      <td>283495.000000</td>\n",
       "      <td>283495.000000</td>\n",
       "      <td>283495.000000</td>\n",
       "      <td>283495.000000</td>\n",
       "      <td>283495.000000</td>\n",
       "      <td>283495.0</td>\n",
       "      <td>283495.000000</td>\n",
       "    </tr>\n",
       "    <tr>\n",
       "      <td>mean</td>\n",
       "      <td>4406.829461</td>\n",
       "      <td>2004.327963</td>\n",
       "      <td>109.727692</td>\n",
       "      <td>128250.339512</td>\n",
       "      <td>5.710827</td>\n",
       "      <td>0.0</td>\n",
       "      <td>50494.489458</td>\n",
       "    </tr>\n",
       "    <tr>\n",
       "      <td>std</td>\n",
       "      <td>4505.093187</td>\n",
       "      <td>93.281850</td>\n",
       "      <td>179.875514</td>\n",
       "      <td>37860.210427</td>\n",
       "      <td>3.727439</td>\n",
       "      <td>0.0</td>\n",
       "      <td>25788.220471</td>\n",
       "    </tr>\n",
       "    <tr>\n",
       "      <td>min</td>\n",
       "      <td>0.000000</td>\n",
       "      <td>1000.000000</td>\n",
       "      <td>0.000000</td>\n",
       "      <td>5000.000000</td>\n",
       "      <td>0.000000</td>\n",
       "      <td>0.0</td>\n",
       "      <td>1067.000000</td>\n",
       "    </tr>\n",
       "    <tr>\n",
       "      <td>25%</td>\n",
       "      <td>1050.000000</td>\n",
       "      <td>1999.000000</td>\n",
       "      <td>68.000000</td>\n",
       "      <td>125000.000000</td>\n",
       "      <td>3.000000</td>\n",
       "      <td>0.0</td>\n",
       "      <td>30163.000000</td>\n",
       "    </tr>\n",
       "    <tr>\n",
       "      <td>50%</td>\n",
       "      <td>2700.000000</td>\n",
       "      <td>2003.000000</td>\n",
       "      <td>105.000000</td>\n",
       "      <td>150000.000000</td>\n",
       "      <td>6.000000</td>\n",
       "      <td>0.0</td>\n",
       "      <td>49377.000000</td>\n",
       "    </tr>\n",
       "    <tr>\n",
       "      <td>75%</td>\n",
       "      <td>6399.000000</td>\n",
       "      <td>2008.000000</td>\n",
       "      <td>141.000000</td>\n",
       "      <td>150000.000000</td>\n",
       "      <td>9.000000</td>\n",
       "      <td>0.0</td>\n",
       "      <td>71083.000000</td>\n",
       "    </tr>\n",
       "    <tr>\n",
       "      <td>max</td>\n",
       "      <td>20000.000000</td>\n",
       "      <td>9999.000000</td>\n",
       "      <td>20000.000000</td>\n",
       "      <td>150000.000000</td>\n",
       "      <td>12.000000</td>\n",
       "      <td>0.0</td>\n",
       "      <td>99998.000000</td>\n",
       "    </tr>\n",
       "  </tbody>\n",
       "</table>\n",
       "</div>"
      ],
      "text/plain": [
       "               Price  RegistrationYear          Power      Kilometer  \\\n",
       "count  283495.000000     283495.000000  283495.000000  283495.000000   \n",
       "mean     4406.829461       2004.327963     109.727692  128250.339512   \n",
       "std      4505.093187         93.281850     179.875514   37860.210427   \n",
       "min         0.000000       1000.000000       0.000000    5000.000000   \n",
       "25%      1050.000000       1999.000000      68.000000  125000.000000   \n",
       "50%      2700.000000       2003.000000     105.000000  150000.000000   \n",
       "75%      6399.000000       2008.000000     141.000000  150000.000000   \n",
       "max     20000.000000       9999.000000   20000.000000  150000.000000   \n",
       "\n",
       "       RegistrationMonth  NumberOfPictures     PostalCode  \n",
       "count      283495.000000          283495.0  283495.000000  \n",
       "mean            5.710827               0.0   50494.489458  \n",
       "std             3.727439               0.0   25788.220471  \n",
       "min             0.000000               0.0    1067.000000  \n",
       "25%             3.000000               0.0   30163.000000  \n",
       "50%             6.000000               0.0   49377.000000  \n",
       "75%             9.000000               0.0   71083.000000  \n",
       "max            12.000000               0.0   99998.000000  "
      ]
     },
     "execution_count": 10,
     "metadata": {},
     "output_type": "execute_result"
    }
   ],
   "source": [
    "df.describe()"
   ]
  },
  {
   "cell_type": "markdown",
   "metadata": {},
   "source": [
    "#### Глядя на значения средних и медиан можно с уверенностью сказать, что в датасете есть выбросы, какие именно нам скажут графики при дальнейшем изучении."
   ]
  },
  {
   "cell_type": "code",
   "execution_count": 11,
   "metadata": {},
   "outputs": [],
   "source": [
    "# сразу приведем столбцы DateCrawled, DateCreated, LastSeen к типу datetime\n",
    "df['DateCrawled'] = pd.to_datetime(df['DateCrawled'], format='%Y.%m.%d %H:%M:%S')\n",
    "df_test['DateCreated'] = pd.to_datetime(df_test['DateCreated'], format='%Y.%m.%d %H:%M:%S')\n",
    "df['DateCreated'] = pd.to_datetime(df['DateCreated'], format='%Y.%m.%d')\n",
    "df['LastSeen'] = pd.to_datetime(df['LastSeen'], format='%Y.%m.%d %H:%M:%S')"
   ]
  },
  {
   "cell_type": "code",
   "execution_count": 12,
   "metadata": {},
   "outputs": [
    {
     "data": {
      "text/plain": [
       "2"
      ]
     },
     "execution_count": 12,
     "metadata": {},
     "output_type": "execute_result"
    }
   ],
   "source": [
    "df.duplicated().sum()"
   ]
  },
  {
   "cell_type": "code",
   "execution_count": 13,
   "metadata": {},
   "outputs": [],
   "source": [
    "df.drop_duplicates().reset_index(drop = True, inplace = True)"
   ]
  },
  {
   "cell_type": "markdown",
   "metadata": {},
   "source": [
    "#### сразу удалим дублирующие строки и приступим к изучению графиков"
   ]
  },
  {
   "cell_type": "code",
   "execution_count": 14,
   "metadata": {},
   "outputs": [
    {
     "data": {
      "text/plain": [
       "<matplotlib.axes._subplots.AxesSubplot at 0x7fc9f7c27b90>"
      ]
     },
     "execution_count": 14,
     "metadata": {},
     "output_type": "execute_result"
    },
    {
     "data": {
      "image/png": "[encoded data removed]",
      "text/plain": [
       "<Figure size 1080x504 with 1 Axes>"
      ]
     },
     "metadata": {
      "needs_background": "light"
     },
     "output_type": "display_data"
    }
   ],
   "source": [
    "df['Price'].plot(kind='hist', bins=20, figsize= (15, 7), xticks = (range (0, 21000, 1000)), grid=True)"
   ]
  },
  {
   "cell_type": "markdown",
   "metadata": {},
   "source": [
    "#### Очень много цен находятся в границах от 0 до 1000."
   ]
  },
  {
   "cell_type": "code",
   "execution_count": 15,
   "metadata": {},
   "outputs": [
    {
     "data": {
      "text/plain": [
       "<matplotlib.axes._subplots.AxesSubplot at 0x7fc9f7b28ad0>"
      ]
     },
     "execution_count": 15,
     "metadata": {},
     "output_type": "execute_result"
    },
    {
     "data": {
      "image/png": "[encoded data removed]",
      "text/plain": [
       "<Figure size 1080x504 with 1 Axes>"
      ]
     },
     "metadata": {
      "needs_background": "light"
     },
     "output_type": "display_data"
    }
   ],
   "source": [
    "df['VehicleType'].value_counts().plot(kind=\"bar\", figsize= (15, 7), rot = 0, grid=True, yticks = (range (0, 95000, 5000)))"
   ]
  },
  {
   "cell_type": "markdown",
   "metadata": {},
   "source": [
    "#### Ничего необычного, что делать с пропусками решим когда изучим все графики."
   ]
  },
  {
   "cell_type": "code",
   "execution_count": 16,
   "metadata": {},
   "outputs": [
    {
     "data": {
      "text/plain": [
       "<matplotlib.axes._subplots.AxesSubplot at 0x7fc9f7b16490>"
      ]
     },
     "execution_count": 16,
     "metadata": {},
     "output_type": "execute_result"
    },
    {
     "data": {
      "image/png": "[encoded data removed]",
      "text/plain": [
       "<Figure size 5400x648 with 1 Axes>"
      ]
     },
     "metadata": {
      "needs_background": "light"
     },
     "output_type": "display_data"
    }
   ],
   "source": [
    "df.groupby(by='RegistrationYear')['Price'].count().plot(kind='bar', figsize= (75, 9))"
   ]
  },
  {
   "cell_type": "markdown",
   "metadata": {},
   "source": [
    "#### Очень много выбросов. Посмотрим сколько значений лежит в диапазоне от 1980 до 2018 года"
   ]
  },
  {
   "cell_type": "code",
   "execution_count": 17,
   "metadata": {},
   "outputs": [
    {
     "data": {
      "text/html": [
       "<div>\n",
       "<style scoped>\n",
       "    .dataframe tbody tr th:only-of-type {\n",
       "        vertical-align: middle;\n",
       "    }\n",
       "\n",
       "    .dataframe tbody tr th {\n",
       "        vertical-align: top;\n",
       "    }\n",
       "\n",
       "    .dataframe thead th {\n",
       "        text-align: right;\n",
       "    }\n",
       "</style>\n",
       "<table border=\"1\" class=\"dataframe\">\n",
       "  <thead>\n",
       "    <tr style=\"text-align: right;\">\n",
       "      <th></th>\n",
       "      <th>DateCrawled</th>\n",
       "      <th>Price</th>\n",
       "      <th>VehicleType</th>\n",
       "      <th>RegistrationYear</th>\n",
       "      <th>Gearbox</th>\n",
       "      <th>Power</th>\n",
       "      <th>Model</th>\n",
       "      <th>Kilometer</th>\n",
       "      <th>RegistrationMonth</th>\n",
       "      <th>FuelType</th>\n",
       "      <th>Brand</th>\n",
       "      <th>NotRepaired</th>\n",
       "      <th>DateCreated</th>\n",
       "      <th>NumberOfPictures</th>\n",
       "      <th>PostalCode</th>\n",
       "      <th>LastSeen</th>\n",
       "    </tr>\n",
       "  </thead>\n",
       "  <tbody>\n",
       "    <tr>\n",
       "      <td>107156</td>\n",
       "      <td>2016-03-17 15:47:14</td>\n",
       "      <td>16780</td>\n",
       "      <td>suv</td>\n",
       "      <td>2009</td>\n",
       "      <td>manual</td>\n",
       "      <td>140</td>\n",
       "      <td>tiguan</td>\n",
       "      <td>90000</td>\n",
       "      <td>3</td>\n",
       "      <td>gasoline</td>\n",
       "      <td>volkswagen</td>\n",
       "      <td>yes</td>\n",
       "      <td>2016-03-17</td>\n",
       "      <td>0</td>\n",
       "      <td>41069</td>\n",
       "      <td>2016-04-06 23:45:20</td>\n",
       "    </tr>\n",
       "    <tr>\n",
       "      <td>20206</td>\n",
       "      <td>2016-03-14 19:36:43</td>\n",
       "      <td>9100</td>\n",
       "      <td>coupe</td>\n",
       "      <td>1987</td>\n",
       "      <td>manual</td>\n",
       "      <td>160</td>\n",
       "      <td>other</td>\n",
       "      <td>150000</td>\n",
       "      <td>9</td>\n",
       "      <td>petrol</td>\n",
       "      <td>porsche</td>\n",
       "      <td>no</td>\n",
       "      <td>2016-03-14</td>\n",
       "      <td>0</td>\n",
       "      <td>23826</td>\n",
       "      <td>2016-04-06 04:17:19</td>\n",
       "    </tr>\n",
       "    <tr>\n",
       "      <td>323736</td>\n",
       "      <td>2016-03-17 14:52:09</td>\n",
       "      <td>2500</td>\n",
       "      <td>convertible</td>\n",
       "      <td>2001</td>\n",
       "      <td>manual</td>\n",
       "      <td>147</td>\n",
       "      <td>astra</td>\n",
       "      <td>150000</td>\n",
       "      <td>6</td>\n",
       "      <td>petrol</td>\n",
       "      <td>opel</td>\n",
       "      <td>no</td>\n",
       "      <td>2016-03-17</td>\n",
       "      <td>0</td>\n",
       "      <td>52531</td>\n",
       "      <td>2016-04-06 21:17:48</td>\n",
       "    </tr>\n",
       "    <tr>\n",
       "      <td>233344</td>\n",
       "      <td>2016-03-21 16:45:33</td>\n",
       "      <td>600</td>\n",
       "      <td>NaN</td>\n",
       "      <td>2000</td>\n",
       "      <td>manual</td>\n",
       "      <td>193</td>\n",
       "      <td>5er</td>\n",
       "      <td>150000</td>\n",
       "      <td>0</td>\n",
       "      <td>NaN</td>\n",
       "      <td>bmw</td>\n",
       "      <td>NaN</td>\n",
       "      <td>2016-03-21</td>\n",
       "      <td>0</td>\n",
       "      <td>26607</td>\n",
       "      <td>2016-03-21 16:45:33</td>\n",
       "    </tr>\n",
       "    <tr>\n",
       "      <td>112072</td>\n",
       "      <td>2016-03-25 20:52:37</td>\n",
       "      <td>12790</td>\n",
       "      <td>sedan</td>\n",
       "      <td>2012</td>\n",
       "      <td>manual</td>\n",
       "      <td>150</td>\n",
       "      <td>civic</td>\n",
       "      <td>70000</td>\n",
       "      <td>3</td>\n",
       "      <td>gasoline</td>\n",
       "      <td>honda</td>\n",
       "      <td>no</td>\n",
       "      <td>2016-03-25</td>\n",
       "      <td>0</td>\n",
       "      <td>44319</td>\n",
       "      <td>2016-04-07 03:46:57</td>\n",
       "    </tr>\n",
       "    <tr>\n",
       "      <td>...</td>\n",
       "      <td>...</td>\n",
       "      <td>...</td>\n",
       "      <td>...</td>\n",
       "      <td>...</td>\n",
       "      <td>...</td>\n",
       "      <td>...</td>\n",
       "      <td>...</td>\n",
       "      <td>...</td>\n",
       "      <td>...</td>\n",
       "      <td>...</td>\n",
       "      <td>...</td>\n",
       "      <td>...</td>\n",
       "      <td>...</td>\n",
       "      <td>...</td>\n",
       "      <td>...</td>\n",
       "      <td>...</td>\n",
       "    </tr>\n",
       "    <tr>\n",
       "      <td>119879</td>\n",
       "      <td>2016-03-20 13:42:09</td>\n",
       "      <td>200</td>\n",
       "      <td>small</td>\n",
       "      <td>1998</td>\n",
       "      <td>manual</td>\n",
       "      <td>50</td>\n",
       "      <td>polo</td>\n",
       "      <td>150000</td>\n",
       "      <td>10</td>\n",
       "      <td>petrol</td>\n",
       "      <td>volkswagen</td>\n",
       "      <td>yes</td>\n",
       "      <td>2016-03-20</td>\n",
       "      <td>0</td>\n",
       "      <td>35099</td>\n",
       "      <td>2016-04-06 14:44:24</td>\n",
       "    </tr>\n",
       "    <tr>\n",
       "      <td>259178</td>\n",
       "      <td>2016-04-02 00:47:21</td>\n",
       "      <td>4690</td>\n",
       "      <td>NaN</td>\n",
       "      <td>2017</td>\n",
       "      <td>manual</td>\n",
       "      <td>105</td>\n",
       "      <td>astra</td>\n",
       "      <td>125000</td>\n",
       "      <td>8</td>\n",
       "      <td>petrol</td>\n",
       "      <td>opel</td>\n",
       "      <td>no</td>\n",
       "      <td>2016-04-01</td>\n",
       "      <td>0</td>\n",
       "      <td>9526</td>\n",
       "      <td>2016-04-06 04:16:31</td>\n",
       "    </tr>\n",
       "    <tr>\n",
       "      <td>131932</td>\n",
       "      <td>2016-03-27 17:52:44</td>\n",
       "      <td>12525</td>\n",
       "      <td>sedan</td>\n",
       "      <td>2004</td>\n",
       "      <td>manual</td>\n",
       "      <td>192</td>\n",
       "      <td>5er</td>\n",
       "      <td>150000</td>\n",
       "      <td>6</td>\n",
       "      <td>petrol</td>\n",
       "      <td>bmw</td>\n",
       "      <td>no</td>\n",
       "      <td>2016-03-27</td>\n",
       "      <td>0</td>\n",
       "      <td>90530</td>\n",
       "      <td>2016-04-05 14:16:22</td>\n",
       "    </tr>\n",
       "    <tr>\n",
       "      <td>146867</td>\n",
       "      <td>2016-03-22 05:36:17</td>\n",
       "      <td>4444</td>\n",
       "      <td>sedan</td>\n",
       "      <td>2004</td>\n",
       "      <td>manual</td>\n",
       "      <td>150</td>\n",
       "      <td>3er</td>\n",
       "      <td>150000</td>\n",
       "      <td>2</td>\n",
       "      <td>gasoline</td>\n",
       "      <td>bmw</td>\n",
       "      <td>no</td>\n",
       "      <td>2016-03-22</td>\n",
       "      <td>0</td>\n",
       "      <td>51069</td>\n",
       "      <td>2016-03-22 08:46:23</td>\n",
       "    </tr>\n",
       "    <tr>\n",
       "      <td>121958</td>\n",
       "      <td>2016-03-18 23:06:16</td>\n",
       "      <td>9999</td>\n",
       "      <td>small</td>\n",
       "      <td>2014</td>\n",
       "      <td>manual</td>\n",
       "      <td>69</td>\n",
       "      <td>500</td>\n",
       "      <td>30000</td>\n",
       "      <td>11</td>\n",
       "      <td>petrol</td>\n",
       "      <td>fiat</td>\n",
       "      <td>no</td>\n",
       "      <td>2016-03-18</td>\n",
       "      <td>0</td>\n",
       "      <td>56321</td>\n",
       "      <td>2016-04-06 19:45:11</td>\n",
       "    </tr>\n",
       "  </tbody>\n",
       "</table>\n",
       "<p>280656 rows × 16 columns</p>\n",
       "</div>"
      ],
      "text/plain": [
       "               DateCrawled  Price  VehicleType  RegistrationYear Gearbox  \\\n",
       "107156 2016-03-17 15:47:14  16780          suv              2009  manual   \n",
       "20206  2016-03-14 19:36:43   9100        coupe              1987  manual   \n",
       "323736 2016-03-17 14:52:09   2500  convertible              2001  manual   \n",
       "233344 2016-03-21 16:45:33    600          NaN              2000  manual   \n",
       "112072 2016-03-25 20:52:37  12790        sedan              2012  manual   \n",
       "...                    ...    ...          ...               ...     ...   \n",
       "119879 2016-03-20 13:42:09    200        small              1998  manual   \n",
       "259178 2016-04-02 00:47:21   4690          NaN              2017  manual   \n",
       "131932 2016-03-27 17:52:44  12525        sedan              2004  manual   \n",
       "146867 2016-03-22 05:36:17   4444        sedan              2004  manual   \n",
       "121958 2016-03-18 23:06:16   9999        small              2014  manual   \n",
       "\n",
       "        Power   Model  Kilometer  RegistrationMonth  FuelType       Brand  \\\n",
       "107156    140  tiguan      90000                  3  gasoline  volkswagen   \n",
       "20206     160   other     150000                  9    petrol     porsche   \n",
       "323736    147   astra     150000                  6    petrol        opel   \n",
       "233344    193     5er     150000                  0       NaN         bmw   \n",
       "112072    150   civic      70000                  3  gasoline       honda   \n",
       "...       ...     ...        ...                ...       ...         ...   \n",
       "119879     50    polo     150000                 10    petrol  volkswagen   \n",
       "259178    105   astra     125000                  8    petrol        opel   \n",
       "131932    192     5er     150000                  6    petrol         bmw   \n",
       "146867    150     3er     150000                  2  gasoline         bmw   \n",
       "121958     69     500      30000                 11    petrol        fiat   \n",
       "\n",
       "       NotRepaired DateCreated  NumberOfPictures  PostalCode  \\\n",
       "107156         yes  2016-03-17                 0       41069   \n",
       "20206           no  2016-03-14                 0       23826   \n",
       "323736          no  2016-03-17                 0       52531   \n",
       "233344         NaN  2016-03-21                 0       26607   \n",
       "112072          no  2016-03-25                 0       44319   \n",
       "...            ...         ...               ...         ...   \n",
       "119879         yes  2016-03-20                 0       35099   \n",
       "259178          no  2016-04-01                 0        9526   \n",
       "131932          no  2016-03-27                 0       90530   \n",
       "146867          no  2016-03-22                 0       51069   \n",
       "121958          no  2016-03-18                 0       56321   \n",
       "\n",
       "                  LastSeen  \n",
       "107156 2016-04-06 23:45:20  \n",
       "20206  2016-04-06 04:17:19  \n",
       "323736 2016-04-06 21:17:48  \n",
       "233344 2016-03-21 16:45:33  \n",
       "112072 2016-04-07 03:46:57  \n",
       "...                    ...  \n",
       "119879 2016-04-06 14:44:24  \n",
       "259178 2016-04-06 04:16:31  \n",
       "131932 2016-04-05 14:16:22  \n",
       "146867 2016-03-22 08:46:23  \n",
       "121958 2016-04-06 19:45:11  \n",
       "\n",
       "[280656 rows x 16 columns]"
      ]
     },
     "execution_count": 17,
     "metadata": {},
     "output_type": "execute_result"
    }
   ],
   "source": [
    "df.query('1980 <= RegistrationYear <= 2018')"
   ]
  },
  {
   "cell_type": "markdown",
   "metadata": {},
   "source": [
    "#### 99% значений лежит в этом диапазоне. Остальное будем удалять."
   ]
  },
  {
   "cell_type": "code",
   "execution_count": 18,
   "metadata": {},
   "outputs": [
    {
     "data": {
      "text/plain": [
       "<matplotlib.axes._subplots.AxesSubplot at 0x7fc9f7af5890>"
      ]
     },
     "execution_count": 18,
     "metadata": {},
     "output_type": "execute_result"
    },
    {
     "data": {
      "image/png": "[encoded data removed]",
      "text/plain": [
       "<Figure size 432x288 with 1 Axes>"
      ]
     },
     "metadata": {
      "needs_background": "light"
     },
     "output_type": "display_data"
    }
   ],
   "source": [
    "df['Gearbox'].value_counts().plot(kind=\"bar\")"
   ]
  },
  {
   "cell_type": "markdown",
   "metadata": {},
   "source": [
    "#### Ничего необычного, что делать с пропусками решим когда изучим все графики."
   ]
  },
  {
   "cell_type": "code",
   "execution_count": 19,
   "metadata": {},
   "outputs": [
    {
     "data": {
      "text/plain": [
       "<matplotlib.axes._subplots.AxesSubplot at 0x7fc9f6e4af90>"
      ]
     },
     "execution_count": 19,
     "metadata": {},
     "output_type": "execute_result"
    },
    {
     "data": {
      "image/png": "[encoded data removed]",
      "text/plain": [
       "<Figure size 7200x648 with 1 Axes>"
      ]
     },
     "metadata": {
      "needs_background": "light"
     },
     "output_type": "display_data"
    }
   ],
   "source": [
    "df.groupby(by='Power')['Price'].count().plot(kind='bar', figsize= (100, 9))"
   ]
  },
  {
   "cell_type": "code",
   "execution_count": 20,
   "metadata": {},
   "outputs": [],
   "source": [
    "gh = pd.DataFrame(df.groupby(by='Power')['Price'].count()).reset_index ()\n",
    "gh.columns = ['power', \"count\"]"
   ]
  },
  {
   "cell_type": "code",
   "execution_count": 21,
   "metadata": {},
   "outputs": [
    {
     "data": {
      "text/plain": [
       "<matplotlib.axes._subplots.AxesSubplot at 0x7fc9efe48490>"
      ]
     },
     "execution_count": 21,
     "metadata": {},
     "output_type": "execute_result"
    },
    {
     "data": {
      "image/png": "[encoded data removed]",
      "text/plain": [
       "<Figure size 7200x720 with 1 Axes>"
      ]
     },
     "metadata": {
      "needs_background": "light"
     },
     "output_type": "display_data"
    }
   ],
   "source": [
    "fig, ax = plt.subplots(figsize=(100, 10))\n",
    "sns.boxplot(data=gh, x='power', y='count', orient = \"v\", ax=ax, )"
   ]
  },
  {
   "cell_type": "markdown",
   "metadata": {},
   "source": [
    "#### График очень большой и с ним трудно работать, но по нему видно огромное количество вбросов, попробуем выбрать диапазон вменяемых значений л.с."
   ]
  },
  {
   "cell_type": "code",
   "execution_count": 22,
   "metadata": {},
   "outputs": [
    {
     "data": {
      "text/html": [
       "<div>\n",
       "<style scoped>\n",
       "    .dataframe tbody tr th:only-of-type {\n",
       "        vertical-align: middle;\n",
       "    }\n",
       "\n",
       "    .dataframe tbody tr th {\n",
       "        vertical-align: top;\n",
       "    }\n",
       "\n",
       "    .dataframe thead th {\n",
       "        text-align: right;\n",
       "    }\n",
       "</style>\n",
       "<table border=\"1\" class=\"dataframe\">\n",
       "  <thead>\n",
       "    <tr style=\"text-align: right;\">\n",
       "      <th></th>\n",
       "      <th>Price</th>\n",
       "    </tr>\n",
       "    <tr>\n",
       "      <th>Power</th>\n",
       "      <th></th>\n",
       "    </tr>\n",
       "  </thead>\n",
       "  <tbody>\n",
       "    <tr>\n",
       "      <td>0</td>\n",
       "      <td>32270</td>\n",
       "    </tr>\n",
       "    <tr>\n",
       "      <td>1</td>\n",
       "      <td>30</td>\n",
       "    </tr>\n",
       "    <tr>\n",
       "      <td>2</td>\n",
       "      <td>9</td>\n",
       "    </tr>\n",
       "    <tr>\n",
       "      <td>3</td>\n",
       "      <td>8</td>\n",
       "    </tr>\n",
       "    <tr>\n",
       "      <td>4</td>\n",
       "      <td>23</td>\n",
       "    </tr>\n",
       "    <tr>\n",
       "      <td>...</td>\n",
       "      <td>...</td>\n",
       "    </tr>\n",
       "    <tr>\n",
       "      <td>17410</td>\n",
       "      <td>1</td>\n",
       "    </tr>\n",
       "    <tr>\n",
       "      <td>17700</td>\n",
       "      <td>1</td>\n",
       "    </tr>\n",
       "    <tr>\n",
       "      <td>17932</td>\n",
       "      <td>1</td>\n",
       "    </tr>\n",
       "    <tr>\n",
       "      <td>19208</td>\n",
       "      <td>1</td>\n",
       "    </tr>\n",
       "    <tr>\n",
       "      <td>20000</td>\n",
       "      <td>1</td>\n",
       "    </tr>\n",
       "  </tbody>\n",
       "</table>\n",
       "<p>652 rows × 1 columns</p>\n",
       "</div>"
      ],
      "text/plain": [
       "       Price\n",
       "Power       \n",
       "0      32270\n",
       "1         30\n",
       "2          9\n",
       "3          8\n",
       "4         23\n",
       "...      ...\n",
       "17410      1\n",
       "17700      1\n",
       "17932      1\n",
       "19208      1\n",
       "20000      1\n",
       "\n",
       "[652 rows x 1 columns]"
      ]
     },
     "metadata": {},
     "output_type": "display_data"
    }
   ],
   "source": [
    "power = df.groupby(by='Power')['Price'].count()\n",
    "power = pd.DataFrame(data = power)\n",
    "display(power)"
   ]
  },
  {
   "cell_type": "markdown",
   "metadata": {},
   "source": [
    "#### 40225 нулевых значений мощности, абсолютно невменяемые значения в 20000 л.с., все это не поможет нашим моделям качественно обучиться, выберем порог, где вхождения меньше определенного нами количества автоматически отбросятся."
   ]
  },
  {
   "cell_type": "code",
   "execution_count": 23,
   "metadata": {},
   "outputs": [
    {
     "data": {
      "text/plain": [
       "<matplotlib.axes._subplots.AxesSubplot at 0x7fc9e6693550>"
      ]
     },
     "execution_count": 23,
     "metadata": {},
     "output_type": "execute_result"
    },
    {
     "data": {
      "image/png": "[encoded data removed]",
      "text/plain": [
       "<Figure size 6480x648 with 1 Axes>"
      ]
     },
     "metadata": {
      "needs_background": "light"
     },
     "output_type": "display_data"
    }
   ],
   "source": [
    "power = power.query('Price > 50')\n",
    "power.plot(kind='bar', figsize= (90, 9))"
   ]
  },
  {
   "cell_type": "code",
   "execution_count": 24,
   "metadata": {},
   "outputs": [
    {
     "data": {
      "text/html": [
       "<div>\n",
       "<style scoped>\n",
       "    .dataframe tbody tr th:only-of-type {\n",
       "        vertical-align: middle;\n",
       "    }\n",
       "\n",
       "    .dataframe tbody tr th {\n",
       "        vertical-align: top;\n",
       "    }\n",
       "\n",
       "    .dataframe thead th {\n",
       "        text-align: right;\n",
       "    }\n",
       "</style>\n",
       "<table border=\"1\" class=\"dataframe\">\n",
       "  <thead>\n",
       "    <tr style=\"text-align: right;\">\n",
       "      <th></th>\n",
       "      <th>DateCrawled</th>\n",
       "      <th>Price</th>\n",
       "      <th>VehicleType</th>\n",
       "      <th>RegistrationYear</th>\n",
       "      <th>Gearbox</th>\n",
       "      <th>Power</th>\n",
       "      <th>Model</th>\n",
       "      <th>Kilometer</th>\n",
       "      <th>RegistrationMonth</th>\n",
       "      <th>FuelType</th>\n",
       "      <th>Brand</th>\n",
       "      <th>NotRepaired</th>\n",
       "      <th>DateCreated</th>\n",
       "      <th>NumberOfPictures</th>\n",
       "      <th>PostalCode</th>\n",
       "      <th>LastSeen</th>\n",
       "    </tr>\n",
       "  </thead>\n",
       "  <tbody>\n",
       "    <tr>\n",
       "      <td>133797</td>\n",
       "      <td>2016-04-01 11:57:07</td>\n",
       "      <td>15990</td>\n",
       "      <td>other</td>\n",
       "      <td>2016</td>\n",
       "      <td>auto</td>\n",
       "      <td>5</td>\n",
       "      <td>NaN</td>\n",
       "      <td>5000</td>\n",
       "      <td>4</td>\n",
       "      <td>gasoline</td>\n",
       "      <td>sonstige_autos</td>\n",
       "      <td>no</td>\n",
       "      <td>2016-04-01</td>\n",
       "      <td>0</td>\n",
       "      <td>19288</td>\n",
       "      <td>2016-04-07 08:46:09</td>\n",
       "    </tr>\n",
       "    <tr>\n",
       "      <td>30097</td>\n",
       "      <td>2016-03-24 22:52:33</td>\n",
       "      <td>6850</td>\n",
       "      <td>small</td>\n",
       "      <td>2012</td>\n",
       "      <td>auto</td>\n",
       "      <td>5</td>\n",
       "      <td>NaN</td>\n",
       "      <td>30000</td>\n",
       "      <td>4</td>\n",
       "      <td>gasoline</td>\n",
       "      <td>sonstige_autos</td>\n",
       "      <td>no</td>\n",
       "      <td>2016-03-24</td>\n",
       "      <td>0</td>\n",
       "      <td>24784</td>\n",
       "      <td>2016-04-06 02:17:41</td>\n",
       "    </tr>\n",
       "  </tbody>\n",
       "</table>\n",
       "</div>"
      ],
      "text/plain": [
       "               DateCrawled  Price VehicleType  RegistrationYear Gearbox  \\\n",
       "133797 2016-04-01 11:57:07  15990       other              2016    auto   \n",
       "30097  2016-03-24 22:52:33   6850       small              2012    auto   \n",
       "\n",
       "        Power Model  Kilometer  RegistrationMonth  FuelType           Brand  \\\n",
       "133797      5   NaN       5000                  4  gasoline  sonstige_autos   \n",
       "30097       5   NaN      30000                  4  gasoline  sonstige_autos   \n",
       "\n",
       "       NotRepaired DateCreated  NumberOfPictures  PostalCode  \\\n",
       "133797          no  2016-04-01                 0       19288   \n",
       "30097           no  2016-03-24                 0       24784   \n",
       "\n",
       "                  LastSeen  \n",
       "133797 2016-04-07 08:46:09  \n",
       "30097  2016-04-06 02:17:41  "
      ]
     },
     "metadata": {},
     "output_type": "display_data"
    },
    {
     "data": {
      "text/html": [
       "<div>\n",
       "<style scoped>\n",
       "    .dataframe tbody tr th:only-of-type {\n",
       "        vertical-align: middle;\n",
       "    }\n",
       "\n",
       "    .dataframe tbody tr th {\n",
       "        vertical-align: top;\n",
       "    }\n",
       "\n",
       "    .dataframe thead th {\n",
       "        text-align: right;\n",
       "    }\n",
       "</style>\n",
       "<table border=\"1\" class=\"dataframe\">\n",
       "  <thead>\n",
       "    <tr style=\"text-align: right;\">\n",
       "      <th></th>\n",
       "      <th>DateCrawled</th>\n",
       "      <th>Price</th>\n",
       "      <th>VehicleType</th>\n",
       "      <th>RegistrationYear</th>\n",
       "      <th>Gearbox</th>\n",
       "      <th>Power</th>\n",
       "      <th>Model</th>\n",
       "      <th>Kilometer</th>\n",
       "      <th>RegistrationMonth</th>\n",
       "      <th>FuelType</th>\n",
       "      <th>Brand</th>\n",
       "      <th>NotRepaired</th>\n",
       "      <th>DateCreated</th>\n",
       "      <th>NumberOfPictures</th>\n",
       "      <th>PostalCode</th>\n",
       "      <th>LastSeen</th>\n",
       "    </tr>\n",
       "  </thead>\n",
       "  <tbody>\n",
       "    <tr>\n",
       "      <td>48364</td>\n",
       "      <td>2016-03-08 20:52:27</td>\n",
       "      <td>800</td>\n",
       "      <td>small</td>\n",
       "      <td>1971</td>\n",
       "      <td>manual</td>\n",
       "      <td>18</td>\n",
       "      <td>500</td>\n",
       "      <td>80000</td>\n",
       "      <td>4</td>\n",
       "      <td>petrol</td>\n",
       "      <td>fiat</td>\n",
       "      <td>yes</td>\n",
       "      <td>2016-03-08</td>\n",
       "      <td>0</td>\n",
       "      <td>76829</td>\n",
       "      <td>2016-03-09 12:46:17</td>\n",
       "    </tr>\n",
       "    <tr>\n",
       "      <td>68185</td>\n",
       "      <td>2016-03-25 14:48:15</td>\n",
       "      <td>19900</td>\n",
       "      <td>convertible</td>\n",
       "      <td>1932</td>\n",
       "      <td>manual</td>\n",
       "      <td>18</td>\n",
       "      <td>other</td>\n",
       "      <td>5000</td>\n",
       "      <td>2</td>\n",
       "      <td>petrol</td>\n",
       "      <td>bmw</td>\n",
       "      <td>no</td>\n",
       "      <td>2016-03-25</td>\n",
       "      <td>0</td>\n",
       "      <td>99735</td>\n",
       "      <td>2016-04-06 18:15:26</td>\n",
       "    </tr>\n",
       "  </tbody>\n",
       "</table>\n",
       "</div>"
      ],
      "text/plain": [
       "              DateCrawled  Price  VehicleType  RegistrationYear Gearbox  \\\n",
       "48364 2016-03-08 20:52:27    800        small              1971  manual   \n",
       "68185 2016-03-25 14:48:15  19900  convertible              1932  manual   \n",
       "\n",
       "       Power  Model  Kilometer  RegistrationMonth FuelType Brand NotRepaired  \\\n",
       "48364     18    500      80000                  4   petrol  fiat         yes   \n",
       "68185     18  other       5000                  2   petrol   bmw          no   \n",
       "\n",
       "      DateCreated  NumberOfPictures  PostalCode            LastSeen  \n",
       "48364  2016-03-08                 0       76829 2016-03-09 12:46:17  \n",
       "68185  2016-03-25                 0       99735 2016-04-06 18:15:26  "
      ]
     },
     "metadata": {},
     "output_type": "display_data"
    },
    {
     "data": {
      "text/html": [
       "<div>\n",
       "<style scoped>\n",
       "    .dataframe tbody tr th:only-of-type {\n",
       "        vertical-align: middle;\n",
       "    }\n",
       "\n",
       "    .dataframe tbody tr th {\n",
       "        vertical-align: top;\n",
       "    }\n",
       "\n",
       "    .dataframe thead th {\n",
       "        text-align: right;\n",
       "    }\n",
       "</style>\n",
       "<table border=\"1\" class=\"dataframe\">\n",
       "  <thead>\n",
       "    <tr style=\"text-align: right;\">\n",
       "      <th></th>\n",
       "      <th>DateCrawled</th>\n",
       "      <th>Price</th>\n",
       "      <th>VehicleType</th>\n",
       "      <th>RegistrationYear</th>\n",
       "      <th>Gearbox</th>\n",
       "      <th>Power</th>\n",
       "      <th>Model</th>\n",
       "      <th>Kilometer</th>\n",
       "      <th>RegistrationMonth</th>\n",
       "      <th>FuelType</th>\n",
       "      <th>Brand</th>\n",
       "      <th>NotRepaired</th>\n",
       "      <th>DateCreated</th>\n",
       "      <th>NumberOfPictures</th>\n",
       "      <th>PostalCode</th>\n",
       "      <th>LastSeen</th>\n",
       "    </tr>\n",
       "  </thead>\n",
       "  <tbody>\n",
       "    <tr>\n",
       "      <td>233439</td>\n",
       "      <td>2016-03-20 16:57:18</td>\n",
       "      <td>0</td>\n",
       "      <td>sedan</td>\n",
       "      <td>1989</td>\n",
       "      <td>manual</td>\n",
       "      <td>26</td>\n",
       "      <td>601</td>\n",
       "      <td>100000</td>\n",
       "      <td>7</td>\n",
       "      <td>petrol</td>\n",
       "      <td>trabant</td>\n",
       "      <td>no</td>\n",
       "      <td>2016-03-20</td>\n",
       "      <td>0</td>\n",
       "      <td>18337</td>\n",
       "      <td>2016-03-24 09:45:40</td>\n",
       "    </tr>\n",
       "    <tr>\n",
       "      <td>21468</td>\n",
       "      <td>2016-03-27 15:39:31</td>\n",
       "      <td>4800</td>\n",
       "      <td>sedan</td>\n",
       "      <td>1988</td>\n",
       "      <td>manual</td>\n",
       "      <td>26</td>\n",
       "      <td>601</td>\n",
       "      <td>40000</td>\n",
       "      <td>4</td>\n",
       "      <td>petrol</td>\n",
       "      <td>trabant</td>\n",
       "      <td>no</td>\n",
       "      <td>2016-03-27</td>\n",
       "      <td>0</td>\n",
       "      <td>74363</td>\n",
       "      <td>2016-04-07 12:17:58</td>\n",
       "    </tr>\n",
       "  </tbody>\n",
       "</table>\n",
       "</div>"
      ],
      "text/plain": [
       "               DateCrawled  Price VehicleType  RegistrationYear Gearbox  \\\n",
       "233439 2016-03-20 16:57:18      0       sedan              1989  manual   \n",
       "21468  2016-03-27 15:39:31   4800       sedan              1988  manual   \n",
       "\n",
       "        Power Model  Kilometer  RegistrationMonth FuelType    Brand  \\\n",
       "233439     26   601     100000                  7   petrol  trabant   \n",
       "21468      26   601      40000                  4   petrol  trabant   \n",
       "\n",
       "       NotRepaired DateCreated  NumberOfPictures  PostalCode  \\\n",
       "233439          no  2016-03-20                 0       18337   \n",
       "21468           no  2016-03-27                 0       74363   \n",
       "\n",
       "                  LastSeen  \n",
       "233439 2016-03-24 09:45:40  \n",
       "21468  2016-04-07 12:17:58  "
      ]
     },
     "metadata": {},
     "output_type": "display_data"
    }
   ],
   "source": [
    "display(df.query('Power == 5').head(2))\n",
    "display(df.query('Power == 18').head(2))\n",
    "display(df.query('Power == 26').head(2))"
   ]
  },
  {
   "cell_type": "markdown",
   "metadata": {},
   "source": [
    "####  Остались еще подозрительные значения мощностей авто (например 5 л.с.) н ок ним мы вернемся чуть позже, когда дойдем до брендов автомобилей."
   ]
  },
  {
   "cell_type": "code",
   "execution_count": 25,
   "metadata": {},
   "outputs": [
    {
     "data": {
      "text/plain": [
       "<matplotlib.axes._subplots.AxesSubplot at 0x7fc9e6779510>"
      ]
     },
     "execution_count": 25,
     "metadata": {},
     "output_type": "execute_result"
    },
    {
     "data": {
      "image/png": "[encoded data removed]",
      "text/plain": [
       "<Figure size 5040x648 with 1 Axes>"
      ]
     },
     "metadata": {
      "needs_background": "light"
     },
     "output_type": "display_data"
    }
   ],
   "source": [
    "df.groupby(by='Model')['Price'].count().plot(kind='bar', figsize= (70, 9))"
   ]
  },
  {
   "cell_type": "markdown",
   "metadata": {},
   "source": [
    "#### За исключение пропусков все впорядке."
   ]
  },
  {
   "cell_type": "code",
   "execution_count": 26,
   "metadata": {},
   "outputs": [
    {
     "data": {
      "text/plain": [
       "<matplotlib.axes._subplots.AxesSubplot at 0x7fc9e6133ed0>"
      ]
     },
     "execution_count": 26,
     "metadata": {},
     "output_type": "execute_result"
    },
    {
     "data": {
      "image/png": "[encoded data removed]",
      "text/plain": [
       "<Figure size 1800x648 with 1 Axes>"
      ]
     },
     "metadata": {
      "needs_background": "light"
     },
     "output_type": "display_data"
    }
   ],
   "source": [
    "df['Kilometer'].plot(kind='hist', figsize= (25, 9), xticks=range(0, 160000, 5000))"
   ]
  },
  {
   "cell_type": "markdown",
   "metadata": {},
   "source": [
    "#### пробеги автомобилей без вбросов, ничего необычного, двигаемся дальше."
   ]
  },
  {
   "cell_type": "code",
   "execution_count": 27,
   "metadata": {},
   "outputs": [
    {
     "data": {
      "text/plain": [
       "<matplotlib.axes._subplots.AxesSubplot at 0x7fc9e5d4d2d0>"
      ]
     },
     "execution_count": 27,
     "metadata": {},
     "output_type": "execute_result"
    },
    {
     "data": {
      "image/png": "[encoded data removed]",
      "text/plain": [
       "<Figure size 1080x648 with 1 Axes>"
      ]
     },
     "metadata": {
      "needs_background": "light"
     },
     "output_type": "display_data"
    }
   ],
   "source": [
    "df['RegistrationMonth'].plot(kind='hist', figsize= (15, 9))"
   ]
  },
  {
   "cell_type": "markdown",
   "metadata": {},
   "source": [
    "#### Не понятно значение 0 месяца регистрации, но в остальном все в порядке, однако для модели эта графа врятли несет в себе полезную информацию."
   ]
  },
  {
   "cell_type": "code",
   "execution_count": 28,
   "metadata": {},
   "outputs": [
    {
     "data": {
      "text/plain": [
       "<matplotlib.axes._subplots.AxesSubplot at 0x7fc9e5ce1410>"
      ]
     },
     "execution_count": 28,
     "metadata": {},
     "output_type": "execute_result"
    },
    {
     "data": {
      "image/png": "[encoded data removed]",
      "text/plain": [
       "<Figure size 1080x648 with 1 Axes>"
      ]
     },
     "metadata": {
      "needs_background": "light"
     },
     "output_type": "display_data"
    }
   ],
   "source": [
    "df.groupby(by='FuelType')['Price'].count().plot(kind='bar', figsize= (15, 9))"
   ]
  },
  {
   "cell_type": "code",
   "execution_count": 29,
   "metadata": {},
   "outputs": [
    {
     "data": {
      "text/html": [
       "<div>\n",
       "<style scoped>\n",
       "    .dataframe tbody tr th:only-of-type {\n",
       "        vertical-align: middle;\n",
       "    }\n",
       "\n",
       "    .dataframe tbody tr th {\n",
       "        vertical-align: top;\n",
       "    }\n",
       "\n",
       "    .dataframe thead th {\n",
       "        text-align: right;\n",
       "    }\n",
       "</style>\n",
       "<table border=\"1\" class=\"dataframe\">\n",
       "  <thead>\n",
       "    <tr style=\"text-align: right;\">\n",
       "      <th></th>\n",
       "      <th>DateCrawled</th>\n",
       "      <th>Price</th>\n",
       "      <th>VehicleType</th>\n",
       "      <th>RegistrationYear</th>\n",
       "      <th>Gearbox</th>\n",
       "      <th>Power</th>\n",
       "      <th>Model</th>\n",
       "      <th>Kilometer</th>\n",
       "      <th>RegistrationMonth</th>\n",
       "      <th>FuelType</th>\n",
       "      <th>Brand</th>\n",
       "      <th>NotRepaired</th>\n",
       "      <th>DateCreated</th>\n",
       "      <th>NumberOfPictures</th>\n",
       "      <th>PostalCode</th>\n",
       "      <th>LastSeen</th>\n",
       "    </tr>\n",
       "  </thead>\n",
       "  <tbody>\n",
       "    <tr>\n",
       "      <td>68585</td>\n",
       "      <td>2016-03-05 22:51:48</td>\n",
       "      <td>0</td>\n",
       "      <td>wagon</td>\n",
       "      <td>2016</td>\n",
       "      <td>manual</td>\n",
       "      <td>0</td>\n",
       "      <td>other</td>\n",
       "      <td>5000</td>\n",
       "      <td>5</td>\n",
       "      <td>other</td>\n",
       "      <td>mini</td>\n",
       "      <td>NaN</td>\n",
       "      <td>2016-03-05</td>\n",
       "      <td>0</td>\n",
       "      <td>73262</td>\n",
       "      <td>2016-04-07 03:46:16</td>\n",
       "    </tr>\n",
       "    <tr>\n",
       "      <td>24321</td>\n",
       "      <td>2016-03-10 11:55:03</td>\n",
       "      <td>4800</td>\n",
       "      <td>suv</td>\n",
       "      <td>1966</td>\n",
       "      <td>manual</td>\n",
       "      <td>50</td>\n",
       "      <td>other</td>\n",
       "      <td>60000</td>\n",
       "      <td>3</td>\n",
       "      <td>other</td>\n",
       "      <td>audi</td>\n",
       "      <td>no</td>\n",
       "      <td>2016-03-10</td>\n",
       "      <td>0</td>\n",
       "      <td>29348</td>\n",
       "      <td>2016-03-15 01:16:25</td>\n",
       "    </tr>\n",
       "    <tr>\n",
       "      <td>175423</td>\n",
       "      <td>2016-03-14 18:45:09</td>\n",
       "      <td>2700</td>\n",
       "      <td>other</td>\n",
       "      <td>1975</td>\n",
       "      <td>manual</td>\n",
       "      <td>26</td>\n",
       "      <td>NaN</td>\n",
       "      <td>40000</td>\n",
       "      <td>5</td>\n",
       "      <td>other</td>\n",
       "      <td>trabant</td>\n",
       "      <td>no</td>\n",
       "      <td>2016-03-14</td>\n",
       "      <td>0</td>\n",
       "      <td>8485</td>\n",
       "      <td>2016-04-04 01:45:04</td>\n",
       "    </tr>\n",
       "    <tr>\n",
       "      <td>80768</td>\n",
       "      <td>2016-03-12 17:49:25</td>\n",
       "      <td>4000</td>\n",
       "      <td>sedan</td>\n",
       "      <td>2005</td>\n",
       "      <td>manual</td>\n",
       "      <td>105</td>\n",
       "      <td>astra</td>\n",
       "      <td>150000</td>\n",
       "      <td>4</td>\n",
       "      <td>other</td>\n",
       "      <td>opel</td>\n",
       "      <td>no</td>\n",
       "      <td>2016-03-12</td>\n",
       "      <td>0</td>\n",
       "      <td>53879</td>\n",
       "      <td>2016-03-17 20:48:39</td>\n",
       "    </tr>\n",
       "    <tr>\n",
       "      <td>285045</td>\n",
       "      <td>2016-03-05 16:54:33</td>\n",
       "      <td>0</td>\n",
       "      <td>sedan</td>\n",
       "      <td>1983</td>\n",
       "      <td>manual</td>\n",
       "      <td>26</td>\n",
       "      <td>601</td>\n",
       "      <td>20000</td>\n",
       "      <td>9</td>\n",
       "      <td>other</td>\n",
       "      <td>trabant</td>\n",
       "      <td>no</td>\n",
       "      <td>2016-03-05</td>\n",
       "      <td>0</td>\n",
       "      <td>29549</td>\n",
       "      <td>2016-03-06 04:16:16</td>\n",
       "    </tr>\n",
       "  </tbody>\n",
       "</table>\n",
       "</div>"
      ],
      "text/plain": [
       "               DateCrawled  Price VehicleType  RegistrationYear Gearbox  \\\n",
       "68585  2016-03-05 22:51:48      0       wagon              2016  manual   \n",
       "24321  2016-03-10 11:55:03   4800         suv              1966  manual   \n",
       "175423 2016-03-14 18:45:09   2700       other              1975  manual   \n",
       "80768  2016-03-12 17:49:25   4000       sedan              2005  manual   \n",
       "285045 2016-03-05 16:54:33      0       sedan              1983  manual   \n",
       "\n",
       "        Power  Model  Kilometer  RegistrationMonth FuelType    Brand  \\\n",
       "68585       0  other       5000                  5    other     mini   \n",
       "24321      50  other      60000                  3    other     audi   \n",
       "175423     26    NaN      40000                  5    other  trabant   \n",
       "80768     105  astra     150000                  4    other     opel   \n",
       "285045     26    601      20000                  9    other  trabant   \n",
       "\n",
       "       NotRepaired DateCreated  NumberOfPictures  PostalCode  \\\n",
       "68585          NaN  2016-03-05                 0       73262   \n",
       "24321           no  2016-03-10                 0       29348   \n",
       "175423          no  2016-03-14                 0        8485   \n",
       "80768           no  2016-03-12                 0       53879   \n",
       "285045          no  2016-03-05                 0       29549   \n",
       "\n",
       "                  LastSeen  \n",
       "68585  2016-04-07 03:46:16  \n",
       "24321  2016-03-15 01:16:25  \n",
       "175423 2016-04-04 01:45:04  \n",
       "80768  2016-03-17 20:48:39  \n",
       "285045 2016-03-06 04:16:16  "
      ]
     },
     "execution_count": 29,
     "metadata": {},
     "output_type": "execute_result"
    }
   ],
   "source": [
    "df.query('FuelType == \"other\"').head(5)"
   ]
  },
  {
   "cell_type": "markdown",
   "metadata": {},
   "source": [
    "#### В целом график выглядит нормально. cng и lpg это автомобили на газу. В категории прочее снова мелькает sonstige_autos, до которого мы вскоре дойдем и обработку данных начнем именно с него."
   ]
  },
  {
   "cell_type": "code",
   "execution_count": 30,
   "metadata": {},
   "outputs": [
    {
     "data": {
      "text/plain": [
       "<matplotlib.axes._subplots.AxesSubplot at 0x7fc9e5c796d0>"
      ]
     },
     "execution_count": 30,
     "metadata": {},
     "output_type": "execute_result"
    },
    {
     "data": {
      "image/png": "[encoded data removed]",
      "text/plain": [
       "<Figure size 1080x648 with 1 Axes>"
      ]
     },
     "metadata": {
      "needs_background": "light"
     },
     "output_type": "display_data"
    }
   ],
   "source": [
    "df.groupby(by='Brand')['Price'].count().plot(kind='bar', figsize= (15, 9))"
   ]
  },
  {
   "cell_type": "code",
   "execution_count": 31,
   "metadata": {},
   "outputs": [
    {
     "data": {
      "text/html": [
       "<div>\n",
       "<style scoped>\n",
       "    .dataframe tbody tr th:only-of-type {\n",
       "        vertical-align: middle;\n",
       "    }\n",
       "\n",
       "    .dataframe tbody tr th {\n",
       "        vertical-align: top;\n",
       "    }\n",
       "\n",
       "    .dataframe thead th {\n",
       "        text-align: right;\n",
       "    }\n",
       "</style>\n",
       "<table border=\"1\" class=\"dataframe\">\n",
       "  <thead>\n",
       "    <tr style=\"text-align: right;\">\n",
       "      <th></th>\n",
       "      <th>DateCrawled</th>\n",
       "      <th>Price</th>\n",
       "      <th>VehicleType</th>\n",
       "      <th>RegistrationYear</th>\n",
       "      <th>Gearbox</th>\n",
       "      <th>Power</th>\n",
       "      <th>Model</th>\n",
       "      <th>Kilometer</th>\n",
       "      <th>RegistrationMonth</th>\n",
       "      <th>FuelType</th>\n",
       "      <th>Brand</th>\n",
       "      <th>NotRepaired</th>\n",
       "      <th>DateCreated</th>\n",
       "      <th>NumberOfPictures</th>\n",
       "      <th>PostalCode</th>\n",
       "      <th>LastSeen</th>\n",
       "    </tr>\n",
       "  </thead>\n",
       "  <tbody>\n",
       "    <tr>\n",
       "      <td>81744</td>\n",
       "      <td>2016-03-23 14:50:32</td>\n",
       "      <td>2400</td>\n",
       "      <td>wagon</td>\n",
       "      <td>1985</td>\n",
       "      <td>manual</td>\n",
       "      <td>50</td>\n",
       "      <td>NaN</td>\n",
       "      <td>80000</td>\n",
       "      <td>10</td>\n",
       "      <td>petrol</td>\n",
       "      <td>sonstige_autos</td>\n",
       "      <td>no</td>\n",
       "      <td>2016-03-23</td>\n",
       "      <td>0</td>\n",
       "      <td>99885</td>\n",
       "      <td>2016-04-05 17:21:32</td>\n",
       "    </tr>\n",
       "    <tr>\n",
       "      <td>237691</td>\n",
       "      <td>2016-03-27 15:52:11</td>\n",
       "      <td>950</td>\n",
       "      <td>NaN</td>\n",
       "      <td>2015</td>\n",
       "      <td>auto</td>\n",
       "      <td>12</td>\n",
       "      <td>NaN</td>\n",
       "      <td>5000</td>\n",
       "      <td>0</td>\n",
       "      <td>petrol</td>\n",
       "      <td>sonstige_autos</td>\n",
       "      <td>NaN</td>\n",
       "      <td>2016-03-27</td>\n",
       "      <td>0</td>\n",
       "      <td>26607</td>\n",
       "      <td>2016-04-07 14:32:22</td>\n",
       "    </tr>\n",
       "    <tr>\n",
       "      <td>148775</td>\n",
       "      <td>2016-03-22 21:57:46</td>\n",
       "      <td>4500</td>\n",
       "      <td>bus</td>\n",
       "      <td>1996</td>\n",
       "      <td>auto</td>\n",
       "      <td>230</td>\n",
       "      <td>NaN</td>\n",
       "      <td>150000</td>\n",
       "      <td>2</td>\n",
       "      <td>lpg</td>\n",
       "      <td>sonstige_autos</td>\n",
       "      <td>yes</td>\n",
       "      <td>2016-03-22</td>\n",
       "      <td>0</td>\n",
       "      <td>52538</td>\n",
       "      <td>2016-04-04 17:47:49</td>\n",
       "    </tr>\n",
       "    <tr>\n",
       "      <td>192225</td>\n",
       "      <td>2016-03-25 18:52:03</td>\n",
       "      <td>250</td>\n",
       "      <td>NaN</td>\n",
       "      <td>2017</td>\n",
       "      <td>NaN</td>\n",
       "      <td>0</td>\n",
       "      <td>NaN</td>\n",
       "      <td>150000</td>\n",
       "      <td>12</td>\n",
       "      <td>petrol</td>\n",
       "      <td>sonstige_autos</td>\n",
       "      <td>NaN</td>\n",
       "      <td>2016-03-25</td>\n",
       "      <td>0</td>\n",
       "      <td>31135</td>\n",
       "      <td>2016-03-25 18:52:03</td>\n",
       "    </tr>\n",
       "    <tr>\n",
       "      <td>343320</td>\n",
       "      <td>2016-04-04 11:45:18</td>\n",
       "      <td>10500</td>\n",
       "      <td>sedan</td>\n",
       "      <td>1975</td>\n",
       "      <td>manual</td>\n",
       "      <td>83</td>\n",
       "      <td>NaN</td>\n",
       "      <td>30000</td>\n",
       "      <td>6</td>\n",
       "      <td>petrol</td>\n",
       "      <td>sonstige_autos</td>\n",
       "      <td>no</td>\n",
       "      <td>2016-04-04</td>\n",
       "      <td>0</td>\n",
       "      <td>14195</td>\n",
       "      <td>2016-04-06 12:44:55</td>\n",
       "    </tr>\n",
       "    <tr>\n",
       "      <td>...</td>\n",
       "      <td>...</td>\n",
       "      <td>...</td>\n",
       "      <td>...</td>\n",
       "      <td>...</td>\n",
       "      <td>...</td>\n",
       "      <td>...</td>\n",
       "      <td>...</td>\n",
       "      <td>...</td>\n",
       "      <td>...</td>\n",
       "      <td>...</td>\n",
       "      <td>...</td>\n",
       "      <td>...</td>\n",
       "      <td>...</td>\n",
       "      <td>...</td>\n",
       "      <td>...</td>\n",
       "      <td>...</td>\n",
       "    </tr>\n",
       "    <tr>\n",
       "      <td>20159</td>\n",
       "      <td>2016-04-01 21:57:05</td>\n",
       "      <td>1600</td>\n",
       "      <td>NaN</td>\n",
       "      <td>4100</td>\n",
       "      <td>NaN</td>\n",
       "      <td>0</td>\n",
       "      <td>NaN</td>\n",
       "      <td>5000</td>\n",
       "      <td>0</td>\n",
       "      <td>NaN</td>\n",
       "      <td>sonstige_autos</td>\n",
       "      <td>NaN</td>\n",
       "      <td>2016-04-01</td>\n",
       "      <td>0</td>\n",
       "      <td>67686</td>\n",
       "      <td>2016-04-05 20:19:27</td>\n",
       "    </tr>\n",
       "    <tr>\n",
       "      <td>14397</td>\n",
       "      <td>2016-04-01 18:48:57</td>\n",
       "      <td>8500</td>\n",
       "      <td>bus</td>\n",
       "      <td>2011</td>\n",
       "      <td>manual</td>\n",
       "      <td>136</td>\n",
       "      <td>NaN</td>\n",
       "      <td>150000</td>\n",
       "      <td>5</td>\n",
       "      <td>cng</td>\n",
       "      <td>sonstige_autos</td>\n",
       "      <td>no</td>\n",
       "      <td>2016-04-01</td>\n",
       "      <td>0</td>\n",
       "      <td>25569</td>\n",
       "      <td>2016-04-01 18:48:57</td>\n",
       "    </tr>\n",
       "    <tr>\n",
       "      <td>201163</td>\n",
       "      <td>2016-03-26 13:52:46</td>\n",
       "      <td>6900</td>\n",
       "      <td>NaN</td>\n",
       "      <td>2016</td>\n",
       "      <td>manual</td>\n",
       "      <td>70</td>\n",
       "      <td>NaN</td>\n",
       "      <td>40000</td>\n",
       "      <td>12</td>\n",
       "      <td>petrol</td>\n",
       "      <td>sonstige_autos</td>\n",
       "      <td>no</td>\n",
       "      <td>2016-03-26</td>\n",
       "      <td>0</td>\n",
       "      <td>52072</td>\n",
       "      <td>2016-04-06 02:17:11</td>\n",
       "    </tr>\n",
       "    <tr>\n",
       "      <td>86416</td>\n",
       "      <td>2016-04-01 19:57:10</td>\n",
       "      <td>0</td>\n",
       "      <td>NaN</td>\n",
       "      <td>1990</td>\n",
       "      <td>NaN</td>\n",
       "      <td>0</td>\n",
       "      <td>NaN</td>\n",
       "      <td>150000</td>\n",
       "      <td>0</td>\n",
       "      <td>NaN</td>\n",
       "      <td>sonstige_autos</td>\n",
       "      <td>NaN</td>\n",
       "      <td>2016-04-01</td>\n",
       "      <td>0</td>\n",
       "      <td>27749</td>\n",
       "      <td>2016-04-01 19:57:10</td>\n",
       "    </tr>\n",
       "    <tr>\n",
       "      <td>314877</td>\n",
       "      <td>2016-03-22 11:58:44</td>\n",
       "      <td>13500</td>\n",
       "      <td>sedan</td>\n",
       "      <td>1997</td>\n",
       "      <td>auto</td>\n",
       "      <td>224</td>\n",
       "      <td>NaN</td>\n",
       "      <td>150000</td>\n",
       "      <td>7</td>\n",
       "      <td>petrol</td>\n",
       "      <td>sonstige_autos</td>\n",
       "      <td>no</td>\n",
       "      <td>2016-03-22</td>\n",
       "      <td>0</td>\n",
       "      <td>47269</td>\n",
       "      <td>2016-04-06 01:15:20</td>\n",
       "    </tr>\n",
       "  </tbody>\n",
       "</table>\n",
       "<p>2684 rows × 16 columns</p>\n",
       "</div>"
      ],
      "text/plain": [
       "               DateCrawled  Price VehicleType  RegistrationYear Gearbox  \\\n",
       "81744  2016-03-23 14:50:32   2400       wagon              1985  manual   \n",
       "237691 2016-03-27 15:52:11    950         NaN              2015    auto   \n",
       "148775 2016-03-22 21:57:46   4500         bus              1996    auto   \n",
       "192225 2016-03-25 18:52:03    250         NaN              2017     NaN   \n",
       "343320 2016-04-04 11:45:18  10500       sedan              1975  manual   \n",
       "...                    ...    ...         ...               ...     ...   \n",
       "20159  2016-04-01 21:57:05   1600         NaN              4100     NaN   \n",
       "14397  2016-04-01 18:48:57   8500         bus              2011  manual   \n",
       "201163 2016-03-26 13:52:46   6900         NaN              2016  manual   \n",
       "86416  2016-04-01 19:57:10      0         NaN              1990     NaN   \n",
       "314877 2016-03-22 11:58:44  13500       sedan              1997    auto   \n",
       "\n",
       "        Power Model  Kilometer  RegistrationMonth FuelType           Brand  \\\n",
       "81744      50   NaN      80000                 10   petrol  sonstige_autos   \n",
       "237691     12   NaN       5000                  0   petrol  sonstige_autos   \n",
       "148775    230   NaN     150000                  2      lpg  sonstige_autos   \n",
       "192225      0   NaN     150000                 12   petrol  sonstige_autos   \n",
       "343320     83   NaN      30000                  6   petrol  sonstige_autos   \n",
       "...       ...   ...        ...                ...      ...             ...   \n",
       "20159       0   NaN       5000                  0      NaN  sonstige_autos   \n",
       "14397     136   NaN     150000                  5      cng  sonstige_autos   \n",
       "201163     70   NaN      40000                 12   petrol  sonstige_autos   \n",
       "86416       0   NaN     150000                  0      NaN  sonstige_autos   \n",
       "314877    224   NaN     150000                  7   petrol  sonstige_autos   \n",
       "\n",
       "       NotRepaired DateCreated  NumberOfPictures  PostalCode  \\\n",
       "81744           no  2016-03-23                 0       99885   \n",
       "237691         NaN  2016-03-27                 0       26607   \n",
       "148775         yes  2016-03-22                 0       52538   \n",
       "192225         NaN  2016-03-25                 0       31135   \n",
       "343320          no  2016-04-04                 0       14195   \n",
       "...            ...         ...               ...         ...   \n",
       "20159          NaN  2016-04-01                 0       67686   \n",
       "14397           no  2016-04-01                 0       25569   \n",
       "201163          no  2016-03-26                 0       52072   \n",
       "86416          NaN  2016-04-01                 0       27749   \n",
       "314877          no  2016-03-22                 0       47269   \n",
       "\n",
       "                  LastSeen  \n",
       "81744  2016-04-05 17:21:32  \n",
       "237691 2016-04-07 14:32:22  \n",
       "148775 2016-04-04 17:47:49  \n",
       "192225 2016-03-25 18:52:03  \n",
       "343320 2016-04-06 12:44:55  \n",
       "...                    ...  \n",
       "20159  2016-04-05 20:19:27  \n",
       "14397  2016-04-01 18:48:57  \n",
       "201163 2016-04-06 02:17:11  \n",
       "86416  2016-04-01 19:57:10  \n",
       "314877 2016-04-06 01:15:20  \n",
       "\n",
       "[2684 rows x 16 columns]"
      ]
     },
     "metadata": {},
     "output_type": "display_data"
    }
   ],
   "source": [
    "# В глаза сразу бросается странный брэнд автомобилей, не знакомый мне до этого момента.\n",
    "df.query(\"Price < 1000 and Model.isnull()\")\n",
    "# Как говорит гугл sonstige_autos это модельки машин, поэтому без сожаления удаляем эти вбросы из нашего датасета\n",
    "display(df.query('Brand == \"sonstige_autos\"'))\n",
    "df = df.query('Brand != \"sonstige_autos\"').reset_index(drop=True)"
   ]
  },
  {
   "cell_type": "code",
   "execution_count": 32,
   "metadata": {},
   "outputs": [
    {
     "data": {
      "text/plain": [
       "<matplotlib.axes._subplots.AxesSubplot at 0x7fc9e5b3e990>"
      ]
     },
     "execution_count": 32,
     "metadata": {},
     "output_type": "execute_result"
    },
    {
     "data": {
      "image/png": "[encoded data removed]",
      "text/plain": [
       "<Figure size 1080x648 with 1 Axes>"
      ]
     },
     "metadata": {
      "needs_background": "light"
     },
     "output_type": "display_data"
    }
   ],
   "source": [
    "df.groupby(by='NotRepaired')['Price'].count().plot(kind='bar', figsize= (15, 9))"
   ]
  },
  {
   "cell_type": "code",
   "execution_count": 33,
   "metadata": {},
   "outputs": [
    {
     "data": {
      "text/html": [
       "<div>\n",
       "<style scoped>\n",
       "    .dataframe tbody tr th:only-of-type {\n",
       "        vertical-align: middle;\n",
       "    }\n",
       "\n",
       "    .dataframe tbody tr th {\n",
       "        vertical-align: top;\n",
       "    }\n",
       "\n",
       "    .dataframe thead th {\n",
       "        text-align: right;\n",
       "    }\n",
       "</style>\n",
       "<table border=\"1\" class=\"dataframe\">\n",
       "  <thead>\n",
       "    <tr style=\"text-align: right;\">\n",
       "      <th></th>\n",
       "      <th>DateCrawled</th>\n",
       "      <th>Price</th>\n",
       "      <th>VehicleType</th>\n",
       "      <th>RegistrationYear</th>\n",
       "      <th>Gearbox</th>\n",
       "      <th>Power</th>\n",
       "      <th>Model</th>\n",
       "      <th>Kilometer</th>\n",
       "      <th>RegistrationMonth</th>\n",
       "      <th>FuelType</th>\n",
       "      <th>Brand</th>\n",
       "      <th>NotRepaired</th>\n",
       "      <th>DateCreated</th>\n",
       "      <th>NumberOfPictures</th>\n",
       "      <th>PostalCode</th>\n",
       "      <th>LastSeen</th>\n",
       "    </tr>\n",
       "  </thead>\n",
       "  <tbody>\n",
       "    <tr>\n",
       "      <td>108001</td>\n",
       "      <td>2016-03-16 13:53:08</td>\n",
       "      <td>105</td>\n",
       "      <td>NaN</td>\n",
       "      <td>2010</td>\n",
       "      <td>NaN</td>\n",
       "      <td>0</td>\n",
       "      <td>q7</td>\n",
       "      <td>125000</td>\n",
       "      <td>0</td>\n",
       "      <td>NaN</td>\n",
       "      <td>audi</td>\n",
       "      <td>NaN</td>\n",
       "      <td>2016-03-16</td>\n",
       "      <td>0</td>\n",
       "      <td>27753</td>\n",
       "      <td>2016-03-24 04:15:39</td>\n",
       "    </tr>\n",
       "  </tbody>\n",
       "</table>\n",
       "</div>"
      ],
      "text/plain": [
       "               DateCrawled  Price VehicleType  RegistrationYear Gearbox  \\\n",
       "108001 2016-03-16 13:53:08    105         NaN              2010     NaN   \n",
       "\n",
       "        Power Model  Kilometer  RegistrationMonth FuelType Brand NotRepaired  \\\n",
       "108001      0    q7     125000                  0      NaN  audi         NaN   \n",
       "\n",
       "       DateCreated  NumberOfPictures  PostalCode            LastSeen  \n",
       "108001  2016-03-16                 0       27753 2016-03-24 04:15:39  "
      ]
     },
     "execution_count": 33,
     "metadata": {},
     "output_type": "execute_result"
    }
   ],
   "source": [
    "df.query('NotRepaired.isnull() and Price > 100').sort_values(by=\"Price\").head(1)"
   ]
  },
  {
   "cell_type": "markdown",
   "metadata": {},
   "source": [
    "#### Логично предположить, что пропущенные значения этого столбца означают, что машина не была в ремонте, но в глаза сразу же бросаются объявления, где, например, audi Q7 2010 года стоит 105 евро, что явно свидетельствует о том, что это тотал (разбитая машина не подлежащая восстановлению). "
   ]
  },
  {
   "cell_type": "code",
   "execution_count": 34,
   "metadata": {},
   "outputs": [
    {
     "name": "stdout",
     "output_type": "stream",
     "text": [
      "Нулевых значений: 0\n",
      "Распределение по количеству фотографий 0    280811\n",
      "Name: NumberOfPictures, dtype: int64\n"
     ]
    }
   ],
   "source": [
    "print(\"Нулевых значений:\", df['NumberOfPictures'].isnull().sum())\n",
    "print(\"Распределение по количеству фотографий\", df['NumberOfPictures'].value_counts())"
   ]
  },
  {
   "cell_type": "markdown",
   "metadata": {},
   "source": [
    "# 1.1. Обработка данных"
   ]
  },
  {
   "cell_type": "code",
   "execution_count": 35,
   "metadata": {},
   "outputs": [],
   "source": [
    "df.drop('NumberOfPictures', axis=1, inplace=True)\n",
    "df.drop('PostalCode', axis=1, inplace=True)\n",
    "df.drop('LastSeen', axis=1, inplace=True)\n",
    "df.drop('DateCrawled', axis=1, inplace=True)\n",
    "df.drop('RegistrationMonth', axis=1, inplace=True)\n",
    "\n",
    "df_test.drop('NumberOfPictures', axis=1, inplace=True)\n",
    "df_test.drop('PostalCode', axis=1, inplace=True)\n",
    "df_test.drop('LastSeen', axis=1, inplace=True)\n",
    "df_test.drop('DateCrawled', axis=1, inplace=True)\n",
    "df_test.drop('RegistrationMonth', axis=1, inplace=True)"
   ]
  },
  {
   "cell_type": "markdown",
   "metadata": {},
   "source": [
    "#### Эти столбцы не несут в себе никакой полезной информации для модели."
   ]
  },
  {
   "cell_type": "code",
   "execution_count": 36,
   "metadata": {},
   "outputs": [
    {
     "name": "stdout",
     "output_type": "stream",
     "text": [
      "<class 'pandas.core.frame.DataFrame'>\n",
      "RangeIndex: 280811 entries, 0 to 280810\n",
      "Data columns (total 11 columns):\n",
      "Price               280811 non-null int64\n",
      "VehicleType         251632 non-null object\n",
      "RegistrationYear    280811 non-null int64\n",
      "Gearbox             265725 non-null object\n",
      "Power               280811 non-null int64\n",
      "Model               267684 non-null object\n",
      "Kilometer           280811 non-null int64\n",
      "FuelType            255249 non-null object\n",
      "Brand               280811 non-null object\n",
      "NotRepaired         224761 non-null object\n",
      "DateCreated         280811 non-null datetime64[ns]\n",
      "dtypes: datetime64[ns](1), int64(4), object(6)\n",
      "memory usage: 23.6+ MB\n"
     ]
    }
   ],
   "source": [
    "df.info()"
   ]
  },
  {
   "cell_type": "code",
   "execution_count": 37,
   "metadata": {},
   "outputs": [],
   "source": [
    "# удалим выбросы по годам производства\n",
    "df = df.query('1980 <= RegistrationYear <= 2018').reset_index(drop=True)"
   ]
  },
  {
   "cell_type": "code",
   "execution_count": 38,
   "metadata": {},
   "outputs": [
    {
     "data": {
      "text/plain": [
       "<matplotlib.axes._subplots.AxesSubplot at 0x7fc9e5ab5ad0>"
      ]
     },
     "execution_count": 38,
     "metadata": {},
     "output_type": "execute_result"
    },
    {
     "data": {
      "image/png": "[encoded data removed]",
      "text/plain": [
       "<Figure size 6480x648 with 1 Axes>"
      ]
     },
     "metadata": {
      "needs_background": "light"
     },
     "output_type": "display_data"
    }
   ],
   "source": [
    "# Еще раз создадим сгруппированый по мощности датафрейм и посмотрим как изменилось распределение после удаления моделек авто.\n",
    "power = df.groupby(by='Power')['Price'].count()\n",
    "power = pd.DataFrame(data = power)\n",
    "power = power.query('Price > 50')\n",
    "power.plot(kind='bar', figsize= (90, 9))"
   ]
  },
  {
   "cell_type": "code",
   "execution_count": 39,
   "metadata": {},
   "outputs": [],
   "source": [
    "df = df.query('Power != 0').reset_index(drop=True)"
   ]
  },
  {
   "cell_type": "markdown",
   "metadata": {},
   "source": [
    "#### как видим теперь из выбросов остались только нулевые значения, удалим их из датафрейма."
   ]
  },
  {
   "cell_type": "code",
   "execution_count": 40,
   "metadata": {},
   "outputs": [],
   "source": [
    "money = pd.DataFrame(df.groupby(by=\"Price\")['Price'].count())\n",
    "money.columns = ['count']"
   ]
  },
  {
   "cell_type": "code",
   "execution_count": 41,
   "metadata": {},
   "outputs": [
    {
     "data": {
      "text/html": [
       "<div>\n",
       "<style scoped>\n",
       "    .dataframe tbody tr th:only-of-type {\n",
       "        vertical-align: middle;\n",
       "    }\n",
       "\n",
       "    .dataframe tbody tr th {\n",
       "        vertical-align: top;\n",
       "    }\n",
       "\n",
       "    .dataframe thead th {\n",
       "        text-align: right;\n",
       "    }\n",
       "</style>\n",
       "<table border=\"1\" class=\"dataframe\">\n",
       "  <thead>\n",
       "    <tr style=\"text-align: right;\">\n",
       "      <th></th>\n",
       "      <th>count</th>\n",
       "    </tr>\n",
       "    <tr>\n",
       "      <th>Price</th>\n",
       "      <th></th>\n",
       "    </tr>\n",
       "  </thead>\n",
       "  <tbody>\n",
       "    <tr>\n",
       "      <td>0</td>\n",
       "      <td>5356</td>\n",
       "    </tr>\n",
       "    <tr>\n",
       "      <td>1</td>\n",
       "      <td>534</td>\n",
       "    </tr>\n",
       "    <tr>\n",
       "      <td>50</td>\n",
       "      <td>119</td>\n",
       "    </tr>\n",
       "    <tr>\n",
       "      <td>80</td>\n",
       "      <td>57</td>\n",
       "    </tr>\n",
       "    <tr>\n",
       "      <td>100</td>\n",
       "      <td>490</td>\n",
       "    </tr>\n",
       "    <tr>\n",
       "      <td>120</td>\n",
       "      <td>110</td>\n",
       "    </tr>\n",
       "    <tr>\n",
       "      <td>150</td>\n",
       "      <td>858</td>\n",
       "    </tr>\n",
       "    <tr>\n",
       "      <td>180</td>\n",
       "      <td>141</td>\n",
       "    </tr>\n",
       "    <tr>\n",
       "      <td>190</td>\n",
       "      <td>54</td>\n",
       "    </tr>\n",
       "    <tr>\n",
       "      <td>199</td>\n",
       "      <td>173</td>\n",
       "    </tr>\n",
       "    <tr>\n",
       "      <td>200</td>\n",
       "      <td>1111</td>\n",
       "    </tr>\n",
       "    <tr>\n",
       "      <td>220</td>\n",
       "      <td>86</td>\n",
       "    </tr>\n",
       "    <tr>\n",
       "      <td>230</td>\n",
       "      <td>51</td>\n",
       "    </tr>\n",
       "    <tr>\n",
       "      <td>250</td>\n",
       "      <td>1242</td>\n",
       "    </tr>\n",
       "    <tr>\n",
       "      <td>280</td>\n",
       "      <td>116</td>\n",
       "    </tr>\n",
       "  </tbody>\n",
       "</table>\n",
       "</div>"
      ],
      "text/plain": [
       "       count\n",
       "Price       \n",
       "0       5356\n",
       "1        534\n",
       "50       119\n",
       "80        57\n",
       "100      490\n",
       "120      110\n",
       "150      858\n",
       "180      141\n",
       "190       54\n",
       "199      173\n",
       "200     1111\n",
       "220       86\n",
       "230       51\n",
       "250     1242\n",
       "280      116"
      ]
     },
     "execution_count": 41,
     "metadata": {},
     "output_type": "execute_result"
    }
   ],
   "source": [
    "money.query(\"count > 50\").sort_values(by='Price').head(15)"
   ]
  },
  {
   "cell_type": "code",
   "execution_count": 42,
   "metadata": {},
   "outputs": [],
   "source": [
    "df = df.query('Price >= 100').reset_index(drop=True)"
   ]
  },
  {
   "cell_type": "code",
   "execution_count": 43,
   "metadata": {},
   "outputs": [
    {
     "data": {
      "text/plain": [
       "<matplotlib.axes._subplots.AxesSubplot at 0x7fc9e584ec90>"
      ]
     },
     "execution_count": 43,
     "metadata": {},
     "output_type": "execute_result"
    },
    {
     "data": {
      "image/png": "[encoded data removed]",
      "text/plain": [
       "<Figure size 1080x504 with 1 Axes>"
      ]
     },
     "metadata": {
      "needs_background": "light"
     },
     "output_type": "display_data"
    }
   ],
   "source": [
    "df['Price'].plot(kind='hist', bins=20, figsize= (15, 7), xticks = (range (0, 21000, 1000)), grid=True)"
   ]
  },
  {
   "cell_type": "markdown",
   "metadata": {},
   "source": [
    "#### Как видно ближайший скачек количества машин - 100 евро. Думаю в данном случае можно считать это минимальной планкой и все объявления с ценой ниже признать выбросами и удалить."
   ]
  },
  {
   "cell_type": "code",
   "execution_count": 44,
   "metadata": {},
   "outputs": [
    {
     "data": {
      "text/plain": [
       "Price                   0\n",
       "VehicleType         16760\n",
       "RegistrationYear        0\n",
       "Gearbox              4724\n",
       "Power                   0\n",
       "Model                8349\n",
       "Kilometer               0\n",
       "FuelType            15538\n",
       "Brand                   0\n",
       "NotRepaired         36990\n",
       "DateCreated             0\n",
       "dtype: int64"
      ]
     },
     "execution_count": 44,
     "metadata": {},
     "output_type": "execute_result"
    }
   ],
   "source": [
    "df.isnull().sum()"
   ]
  },
  {
   "cell_type": "code",
   "execution_count": 45,
   "metadata": {},
   "outputs": [],
   "source": [
    "df_drop = df.copy()"
   ]
  },
  {
   "cell_type": "markdown",
   "metadata": {},
   "source": [
    "#### создаем копию датасета, где просто удалим все пропуски и, для сравнения, обучим модель на нем"
   ]
  },
  {
   "cell_type": "code",
   "execution_count": 48,
   "metadata": {},
   "outputs": [],
   "source": [
    "# Заполнение Model\n",
    "car_model = pd.DataFrame(df.groupby(by='Brand')['Model'].value_counts())\n",
    "car_model.columns = ['count']\n",
    "car_model = pd.DataFrame(car_model['count'].sort_values(ascending=False)).reset_index()\n",
    "for i in car_model['Brand'].unique():\n",
    "    maximum = car_model[car_model['Brand'] == i]['count'].max()\n",
    "    model = car_model.query('count == @maximum and Brand == @i')['Model'].reset_index(drop=True)\n",
    "    df.loc[df['Brand'] == i, 'Model'] = df.loc[df['Brand'] == i, 'Model'].fillna(model[0])"
   ]
  },
  {
   "cell_type": "code",
   "execution_count": 49,
   "metadata": {},
   "outputs": [],
   "source": [
    "# Заполнение VehicleType\n",
    "car_model = pd.DataFrame(df.groupby(by='Model')['VehicleType'].value_counts())\n",
    "car_model.columns = ['count']\n",
    "car_model = pd.DataFrame(car_model['count'].sort_values(ascending=False)).reset_index()\n",
    "for i in car_model['Model'].unique():\n",
    "    maximum = car_model[car_model['Model'] == i]['count'].max()\n",
    "    model = car_model.query('count == @maximum and Model == @i')['VehicleType'].reset_index(drop=True)\n",
    "    df.loc[df['Model'] == i, 'VehicleType'] = df.loc[df['Model'] == i, 'VehicleType'].fillna(model[0])"
   ]
  },
  {
   "cell_type": "code",
   "execution_count": 50,
   "metadata": {},
   "outputs": [],
   "source": [
    "# Заполнение Gearbox\n",
    "car_model = pd.DataFrame(df.groupby(by='Model')['Gearbox'].value_counts())\n",
    "car_model.columns = ['count']\n",
    "car_model = pd.DataFrame(car_model['count'].sort_values(ascending=False)).reset_index()\n",
    "for i in car_model['Model'].unique():\n",
    "    maximum = car_model[car_model['Model'] == i]['count'].max()\n",
    "    model = car_model.query('count == @maximum and Model == @i')['Gearbox'].reset_index(drop=True)\n",
    "    df.loc[df['Model'] == i, 'Gearbox'] = df.loc[df['Model'] == i, 'Gearbox'].fillna(model[0])"
   ]
  },
  {
   "cell_type": "code",
   "execution_count": 51,
   "metadata": {},
   "outputs": [],
   "source": [
    "# Заполнение FuelType\n",
    "car_model = pd.DataFrame(df.groupby(by='Model')['FuelType'].value_counts())\n",
    "car_model.columns = ['count']\n",
    "car_model = pd.DataFrame(car_model['count'].sort_values(ascending=False)).reset_index()\n",
    "for i in car_model['Model'].unique():\n",
    "    maximum = car_model[car_model['Model'] == i]['count'].max()\n",
    "    model = car_model.query('count == @maximum and Model == @i')['FuelType'].reset_index(drop=True)\n",
    "    df.loc[df['Model'] == i, 'FuelType'] = df.loc[df['Model'] == i, 'FuelType'].fillna(model[0])"
   ]
  },
  {
   "cell_type": "code",
   "execution_count": 52,
   "metadata": {},
   "outputs": [
    {
     "name": "stdout",
     "output_type": "stream",
     "text": [
      "Среднее реальное: 0.11311868997783797\n",
      "Среднее если забить пропуски нулями: 0.044859744635140746\n",
      "Среднее по предсказаниям: 0.045067259100119626\n"
     ]
    }
   ],
   "source": [
    "# заполнение NotRepaired\n",
    "df_repair = df.copy()\n",
    "df_repair.dropna(inplace=True)\n",
    "encoder = OrdinalEncoder()\n",
    "df_repair =  pd.DataFrame(encoder.fit_transform(df_repair), columns=df_repair.columns)\n",
    "\n",
    "X = df_repair.drop('NotRepaired', axis=1)\n",
    "y = df_repair['NotRepaired']\n",
    "\n",
    "X_train, X_test, y_train, y_test = train_test_split(X, y, test_size=0.4, random_state=42)\n",
    "\n",
    "lgbm = LGBMClassifier (\n",
    "    boosting_type='gbdt',\n",
    "    random_state=42    \n",
    ")\n",
    "\n",
    "lgbm.fit(X_train, y_train, eval_set=(X_test, y_test), verbose=False)\n",
    "\n",
    "pred = lgbm.predict(X_test)\n",
    "\n",
    "pred = pd.DataFrame(pred)\n",
    "pred['y'] = y_test\n",
    "print(\"Среднее реальное:\", pred['y'].mean())\n",
    "pred['y'] = pred['y'].fillna(0)\n",
    "print(\"Среднее если забить пропуски нулями:\", pred['y'].mean())\n",
    "print(\"Среднее по предсказаниям:\", pred[0].mean())\n",
    "\n",
    "# модель просто заполнила все нулями."
   ]
  },
  {
   "cell_type": "code",
   "execution_count": 53,
   "metadata": {},
   "outputs": [],
   "source": [
    "fd = df.copy()"
   ]
  },
  {
   "cell_type": "code",
   "execution_count": 54,
   "metadata": {},
   "outputs": [],
   "source": [
    "fd.fillna('no', inplace=True)"
   ]
  },
  {
   "cell_type": "markdown",
   "metadata": {},
   "source": [
    "Пропуски заполнили и после этого модели стали хуже предсказывать стоимость автомобиля, не сильно, но всеже.\n",
    "К примеру CatBoost Regressor скатился с 274.975 до 310.952  \n",
    "    Предлагаю все-же удалить все NaNы"
   ]
  },
  {
   "cell_type": "code",
   "execution_count": 88,
   "metadata": {},
   "outputs": [
    {
     "name": "stdout",
     "output_type": "stream",
     "text": [
      "<class 'pandas.core.frame.DataFrame'>\n",
      "RangeIndex: 184980 entries, 0 to 184979\n",
      "Data columns (total 11 columns):\n",
      "Price               184980 non-null float64\n",
      "VehicleType         184980 non-null float64\n",
      "RegistrationYear    184980 non-null float64\n",
      "Gearbox             184980 non-null float64\n",
      "Power               184980 non-null float64\n",
      "Model               184980 non-null float64\n",
      "Kilometer           184980 non-null float64\n",
      "FuelType            184980 non-null float64\n",
      "Brand               184980 non-null float64\n",
      "NotRepaired         184980 non-null float64\n",
      "DateCreated         184980 non-null float64\n",
      "dtypes: float64(11)\n",
      "memory usage: 15.5 MB\n"
     ]
    }
   ],
   "source": [
    "df_drop.dropna(inplace=True)\n",
    "df_drop.reset_index(inplace=True, drop=True)\n",
    "df_drop.info()"
   ]
  },
  {
   "cell_type": "markdown",
   "metadata": {},
   "source": [
    "# 2. Обучение моделей"
   ]
  },
  {
   "cell_type": "markdown",
   "metadata": {},
   "source": [
    "## 2.1. CatBoost Regressor"
   ]
  },
  {
   "cell_type": "markdown",
   "metadata": {},
   "source": [
    "## 2.1.1 CatBoost Regressor БЕЗ КОДИРОВАНИЯ КАТЕГОРИАЛЬНЫХ ПРИЗНАКОВ"
   ]
  },
  {
   "cell_type": "code",
   "execution_count": 56,
   "metadata": {},
   "outputs": [],
   "source": [
    "X = fd.drop('Price', axis=1)\n",
    "y = fd['Price']\n",
    "df_test_features = df_test.drop('Price', axis=1)\n",
    "df_test_target = df_test['Price']\n",
    "df_drop_features = df_drop.drop('Price', axis=1)\n",
    "df_drop_target = df_drop['Price']"
   ]
  },
  {
   "cell_type": "code",
   "execution_count": 57,
   "metadata": {},
   "outputs": [],
   "source": [
    "X_train, X_test, y_train, y_test = train_test_split(X, y, test_size=0.4, random_state=42)\n",
    "X_train_drop, X_test_drop, y_train_drop, y_test_drop = train_test_split(df_drop_features, \n",
    "                                                                        df_drop_target, \n",
    "                                                                        test_size=0.4, \n",
    "                                                                        random_state=42)"
   ]
  },
  {
   "cell_type": "code",
   "execution_count": 58,
   "metadata": {},
   "outputs": [],
   "source": [
    "cat_features = ['VehicleType', 'Gearbox', 'Model', 'FuelType', 'Brand', 'NotRepaired']"
   ]
  },
  {
   "cell_type": "code",
   "execution_count": 59,
   "metadata": {},
   "outputs": [],
   "source": [
    "catboost_model = CatBoostRegressor (\n",
    "                            random_state=42, \n",
    "                            iterations=700, \n",
    "                            verbose=350, \n",
    "                            learning_rate=0.1 \n",
    "                            )\n",
    "catboost_drop = CatBoostRegressor (\n",
    "                            random_state=42, \n",
    "                            iterations=700, \n",
    "                            verbose=350, \n",
    "                            learning_rate=0.1 \n",
    "                            )"
   ]
  },
  {
   "cell_type": "code",
   "execution_count": 60,
   "metadata": {},
   "outputs": [
    {
     "name": "stdout",
     "output_type": "stream",
     "text": [
      "0:\tlearn: 4266.8079366\ttest: 4254.2718360\tbest: 4254.2718360 (0)\ttotal: 711ms\tremaining: 8m 17s\n",
      "350:\tlearn: 1593.9972956\ttest: 1623.6635195\tbest: 1623.6635195 (350)\ttotal: 2m 46s\tremaining: 2m 45s\n",
      "699:\tlearn: 1530.1619137\ttest: 1587.0392443\tbest: 1587.0392443 (699)\ttotal: 5m 38s\tremaining: 0us\n",
      "\n",
      "bestTest = 1587.039244\n",
      "bestIteration = 699\n",
      "\n",
      "0:\tlearn: 4385.8105530\ttest: 4399.4330866\tbest: 4399.4330866 (0)\ttotal: 455ms\tremaining: 5m 18s\n",
      "350:\tlearn: 1552.4580020\ttest: 1612.2220065\tbest: 1612.2220065 (350)\ttotal: 2m 11s\tremaining: 2m 10s\n",
      "699:\tlearn: 1486.2575154\ttest: 1576.2902293\tbest: 1576.2902293 (699)\ttotal: 4m 19s\tremaining: 0us\n",
      "\n",
      "bestTest = 1576.290229\n",
      "bestIteration = 699\n",
      "\n",
      "CPU times: user 8min 57s, sys: 1min 5s, total: 10min 2s\n",
      "Wall time: 10min 12s\n"
     ]
    },
    {
     "data": {
      "text/plain": [
       "<catboost.core.CatBoostRegressor at 0x7fc9e574fdd0>"
      ]
     },
     "execution_count": 60,
     "metadata": {},
     "output_type": "execute_result"
    }
   ],
   "source": [
    "%%time\n",
    "catboost_model.fit(X_train, y_train, cat_features=cat_features, eval_set = (X_test, y_test), use_best_model=True)\n",
    "catboost_drop.fit(X_train_drop, y_train_drop, cat_features=cat_features, eval_set = (X_test_drop, y_test_drop), \n",
    "                                                                                             use_best_model=True)"
   ]
  },
  {
   "cell_type": "code",
   "execution_count": 61,
   "metadata": {},
   "outputs": [
    {
     "name": "stdout",
     "output_type": "stream",
     "text": [
      "CPU times: user 2.05 s, sys: 95.5 ms, total: 2.14 s\n",
      "Wall time: 2.1 s\n"
     ]
    }
   ],
   "source": [
    "%%time\n",
    "pred = catboost_model.predict(X_test)\n",
    "pred_test = catboost_model.predict(df_test_features)\n",
    "pred_drop = catboost_drop.predict(df_test_features)"
   ]
  },
  {
   "cell_type": "code",
   "execution_count": 62,
   "metadata": {},
   "outputs": [
    {
     "name": "stdout",
     "output_type": "stream",
     "text": [
      "RMSE на валидационной выборке: 1587.039244325458\n",
      "RMSE на тестовой выборке с заполнением NaN'ов: 1747.1886654729453\n",
      "RMSE на тестовой выборке с дропнутыми NaN: 1719.1656933353454\n"
     ]
    }
   ],
   "source": [
    "print(\"RMSE на валидационной выборке:\", mean_squared_error (y_test, pred)**0.5)\n",
    "print(\"RMSE на тестовой выборке с заполнением NaN'ов:\", mean_squared_error (df_test_target, pred_test)**0.5)\n",
    "print(\"RMSE на тестовой выборке с дропнутыми NaN:\", mean_squared_error (df_test_target, pred_drop)**0.5)"
   ]
  },
  {
   "cell_type": "markdown",
   "metadata": {},
   "source": [
    "#### Catboost обучился на 700 итерациях с минимизацией функции потерь RMSE (что и требуется из условий задания), результаты представлены в коде выше."
   ]
  },
  {
   "cell_type": "markdown",
   "metadata": {},
   "source": [
    "## 2.1.2 CatBoost Regressor C КОДИРОВАНИЕМ КАТЕГОРИАЛЬНЫХ ПРИЗНАКОВ"
   ]
  },
  {
   "cell_type": "code",
   "execution_count": 63,
   "metadata": {},
   "outputs": [],
   "source": [
    "dfoe = fd.copy()\n",
    "df_test_oe = df_test.copy()"
   ]
  },
  {
   "cell_type": "code",
   "execution_count": 64,
   "metadata": {},
   "outputs": [],
   "source": [
    "encoder = OrdinalEncoder()"
   ]
  },
  {
   "cell_type": "code",
   "execution_count": 65,
   "metadata": {},
   "outputs": [],
   "source": [
    "dfoe =  pd.DataFrame(encoder.fit_transform(dfoe), columns=dfoe.columns)\n",
    "df_test_oe = pd.DataFrame(encoder.fit_transform(df_test_oe), columns=df_test_oe.columns)\n",
    "df_drop = pd.DataFrame(encoder.fit_transform(df_drop), columns=df_drop.columns)"
   ]
  },
  {
   "cell_type": "code",
   "execution_count": 66,
   "metadata": {},
   "outputs": [],
   "source": [
    "X = dfoe.drop('Price', axis=1)\n",
    "y = dfoe['Price']\n",
    "X_df_test = df_test_oe.drop('Price', axis=1)\n",
    "y_df_test = df_test_oe['Price']\n",
    "X_drop = df_drop.drop('Price', axis=1)\n",
    "y_drop = df_drop['Price']"
   ]
  },
  {
   "cell_type": "code",
   "execution_count": 67,
   "metadata": {},
   "outputs": [],
   "source": [
    "X_train_oe, X_test_oe, y_train_oe, y_test_oe = train_test_split(X, y, test_size=0.4, random_state=42)\n",
    "X_train_drop, X_test_drop, y_train_drop, y_test_drop = train_test_split(X_drop, y_drop, test_size=0.4, random_state=42)"
   ]
  },
  {
   "cell_type": "code",
   "execution_count": 68,
   "metadata": {},
   "outputs": [],
   "source": [
    "catboost = CatBoostRegressor (\n",
    "                            random_state=42, \n",
    "                            iterations=700, \n",
    "                            verbose=350, \n",
    "                            learning_rate=0.1 \n",
    "                            )\n",
    "catboost_drop = catboost.copy()"
   ]
  },
  {
   "cell_type": "code",
   "execution_count": 69,
   "metadata": {},
   "outputs": [
    {
     "name": "stdout",
     "output_type": "stream",
     "text": [
      "0:\tlearn: 780.3243784\ttest: 778.6711335\tbest: 778.6711335 (0)\ttotal: 96.7ms\tremaining: 1m 7s\n",
      "350:\tlearn: 288.5597258\ttest: 293.8558846\tbest: 293.8558846 (350)\ttotal: 44.7s\tremaining: 44.4s\n",
      "699:\tlearn: 276.6329513\ttest: 286.4389541\tbest: 286.4389541 (699)\ttotal: 1m 28s\tremaining: 0us\n",
      "\n",
      "bestTest = 286.4389541\n",
      "bestIteration = 699\n",
      "\n",
      "0:\tlearn: 733.9082344\ttest: 735.2386835\tbest: 735.2386835 (0)\ttotal: 74.4ms\tremaining: 52s\n",
      "350:\tlearn: 251.6792739\ttest: 259.9156260\tbest: 259.9156260 (350)\ttotal: 35.9s\tremaining: 35.7s\n",
      "699:\tlearn: 240.4896893\ttest: 253.3141738\tbest: 253.3141738 (699)\ttotal: 1m 11s\tremaining: 0us\n",
      "\n",
      "bestTest = 253.3141738\n",
      "bestIteration = 699\n",
      "\n",
      "CPU times: user 2min 23s, sys: 17.9 s, total: 2min 41s\n",
      "Wall time: 2min 51s\n"
     ]
    },
    {
     "data": {
      "text/plain": [
       "<catboost.core.CatBoostRegressor at 0x7fc9e5742c10>"
      ]
     },
     "execution_count": 69,
     "metadata": {},
     "output_type": "execute_result"
    }
   ],
   "source": [
    "%%time\n",
    "catboost.fit(X_train_oe, y_train_oe, eval_set = (X_test_oe, y_test_oe), use_best_model=True)\n",
    "catboost_drop.fit(X_train_drop, y_train_drop, eval_set = (X_test_drop, y_test_drop), use_best_model=True)"
   ]
  },
  {
   "cell_type": "code",
   "execution_count": 70,
   "metadata": {},
   "outputs": [
    {
     "name": "stdout",
     "output_type": "stream",
     "text": [
      "CPU times: user 369 ms, sys: 1.13 ms, total: 370 ms\n",
      "Wall time: 344 ms\n"
     ]
    }
   ],
   "source": [
    "%%time\n",
    "pred = catboost.predict(X_test_oe)\n",
    "pred_test = catboost.predict(X_df_test)\n",
    "pred_drop = catboost_drop.predict(X_df_test)"
   ]
  },
  {
   "cell_type": "code",
   "execution_count": 71,
   "metadata": {},
   "outputs": [
    {
     "name": "stdout",
     "output_type": "stream",
     "text": [
      "RMSE на валидационной выборке: 286.4389541199551\n",
      "RMSE на тестовой выборке с заполнением NaN'ов: 739.0222973956279\n",
      "RMSE на тестовой выборке с дропнутыми NaN: 824.5246244516567\n"
     ]
    }
   ],
   "source": [
    "print(\"RMSE на валидационной выборке:\", mean_squared_error (y_test_oe, pred)**0.5)\n",
    "print(\"RMSE на тестовой выборке с заполнением NaN'ов:\", mean_squared_error (y_df_test, pred_test)**0.5)\n",
    "print(\"RMSE на тестовой выборке с дропнутыми NaN:\", mean_squared_error (y_df_test, pred_drop)**0.5)"
   ]
  },
  {
   "cell_type": "markdown",
   "metadata": {},
   "source": [
    "#### После кодирования категориальных  признаков CatBoost показал лучший результат, чем когда он кодировал признаки сам."
   ]
  },
  {
   "cell_type": "markdown",
   "metadata": {},
   "source": [
    "## 2.2. XGBoost Regressor"
   ]
  },
  {
   "cell_type": "code",
   "execution_count": 72,
   "metadata": {},
   "outputs": [],
   "source": [
    "xgb = XGBRegressor (\n",
    "                    random_state=42, \n",
    "                    verbosity=1, \n",
    "                    n_jobs=-1, \n",
    "                    )\n",
    "xgb_drop =  XGBRegressor (\n",
    "                    random_state=42, \n",
    "                    verbosity=1, \n",
    "                    n_jobs=-1, \n",
    "                    )"
   ]
  },
  {
   "cell_type": "code",
   "execution_count": 73,
   "metadata": {},
   "outputs": [
    {
     "name": "stderr",
     "output_type": "stream",
     "text": [
      "/opt/conda/lib/python3.7/site-packages/xgboost/core.py:587: FutureWarning: Series.base is deprecated and will be removed in a future version\n",
      "  if getattr(data, 'base', None) is not None and \\\n"
     ]
    },
    {
     "name": "stdout",
     "output_type": "stream",
     "text": [
      "[18:35:30] WARNING: /workspace/src/objective/regression_obj.cu:152: reg:linear is now deprecated in favor of reg:squarederror.\n",
      "[18:35:52] WARNING: /workspace/src/objective/regression_obj.cu:152: reg:linear is now deprecated in favor of reg:squarederror.\n",
      "CPU times: user 39.3 s, sys: 0 ns, total: 39.3 s\n",
      "Wall time: 39.7 s\n"
     ]
    },
    {
     "data": {
      "text/plain": [
       "XGBRegressor(base_score=0.5, booster='gbtree', colsample_bylevel=1,\n",
       "             colsample_bynode=1, colsample_bytree=1, gamma=0,\n",
       "             importance_type='gain', learning_rate=0.1, max_delta_step=0,\n",
       "             max_depth=3, min_child_weight=1, missing=None, n_estimators=100,\n",
       "             n_jobs=-1, nthread=None, objective='reg:linear', random_state=42,\n",
       "             reg_alpha=0, reg_lambda=1, scale_pos_weight=1, seed=None,\n",
       "             silent=None, subsample=1, verbosity=1)"
      ]
     },
     "execution_count": 73,
     "metadata": {},
     "output_type": "execute_result"
    }
   ],
   "source": [
    "%%time\n",
    "xgb.fit(X_train_oe, y_train_oe)\n",
    "xgb_drop.fit(X_train_drop, y_train_drop)"
   ]
  },
  {
   "cell_type": "code",
   "execution_count": 74,
   "metadata": {},
   "outputs": [
    {
     "name": "stdout",
     "output_type": "stream",
     "text": [
      "CPU times: user 1.05 s, sys: 0 ns, total: 1.05 s\n",
      "Wall time: 1.09 s\n"
     ]
    }
   ],
   "source": [
    "%%time\n",
    "pred = xgb.predict(X_test_oe)\n",
    "pred_test = xgb.predict(X_df_test)\n",
    "pred_drop = xgb_drop.predict(X_df_test)"
   ]
  },
  {
   "cell_type": "code",
   "execution_count": 75,
   "metadata": {},
   "outputs": [
    {
     "name": "stdout",
     "output_type": "stream",
     "text": [
      "RMSE на валидационной выборке: 331.4739647070499\n",
      "RMSE на тестовой выборке с заполнением NaN'ов: 532.738120425492\n",
      "RMSE на тестовой выборке с дропнутыми NaN: 1396.209472269265\n"
     ]
    }
   ],
   "source": [
    "print(\"RMSE на валидационной выборке:\", mean_squared_error (y_test_oe, pred)**0.5)\n",
    "print(\"RMSE на тестовой выборке с заполнением NaN'ов:\", mean_squared_error (y_df_test, pred_test)**0.5)\n",
    "print(\"RMSE на тестовой выборке с дропнутыми NaN:\", mean_squared_error (y_df_test, pred_drop)**0.5)"
   ]
  },
  {
   "cell_type": "markdown",
   "metadata": {},
   "source": [
    "#### XGboost показал скорость обучения ниже чем lgbm, но лучший скор."
   ]
  },
  {
   "cell_type": "markdown",
   "metadata": {},
   "source": [
    "## 2.3. LightGBM Regressor"
   ]
  },
  {
   "cell_type": "code",
   "execution_count": 76,
   "metadata": {},
   "outputs": [],
   "source": [
    "lgbm = LGBMRegressor (\n",
    "    boosting_type='gbdt',\n",
    "    random_state=42    \n",
    ")\n",
    "lgbm_drop = LGBMRegressor (\n",
    "    boosting_type='gbdt',\n",
    "    random_state=42    \n",
    ")"
   ]
  },
  {
   "cell_type": "code",
   "execution_count": 77,
   "metadata": {},
   "outputs": [
    {
     "name": "stdout",
     "output_type": "stream",
     "text": [
      "CPU times: user 14.7 s, sys: 0 ns, total: 14.7 s\n",
      "Wall time: 14.8 s\n"
     ]
    },
    {
     "data": {
      "text/plain": [
       "LGBMRegressor(boosting_type='gbdt', class_weight=None, colsample_bytree=1.0,\n",
       "              importance_type='split', learning_rate=0.1, max_depth=-1,\n",
       "              min_child_samples=20, min_child_weight=0.001, min_split_gain=0.0,\n",
       "              n_estimators=100, n_jobs=-1, num_leaves=31, objective=None,\n",
       "              random_state=42, reg_alpha=0.0, reg_lambda=0.0, silent=True,\n",
       "              subsample=1.0, subsample_for_bin=200000, subsample_freq=0)"
      ]
     },
     "execution_count": 77,
     "metadata": {},
     "output_type": "execute_result"
    }
   ],
   "source": [
    "%%time\n",
    "lgbm.fit(X_train_oe, y_train_oe, eval_set=(X_test_oe, y_test_oe), verbose=False)\n",
    "lgbm_drop.fit(X_train_drop, y_train_drop, eval_set = (X_test_drop, y_test_drop), verbose=False)"
   ]
  },
  {
   "cell_type": "code",
   "execution_count": 78,
   "metadata": {},
   "outputs": [
    {
     "name": "stdout",
     "output_type": "stream",
     "text": [
      "CPU times: user 2.07 s, sys: 0 ns, total: 2.07 s\n",
      "Wall time: 2.1 s\n"
     ]
    }
   ],
   "source": [
    "%%time\n",
    "pred = lgbm.predict(X_test_oe)\n",
    "pred_test = lgbm.predict(X_df_test)\n",
    "pred_drop = lgbm_drop.predict(X_df_test)"
   ]
  },
  {
   "cell_type": "code",
   "execution_count": 79,
   "metadata": {
    "scrolled": true
   },
   "outputs": [
    {
     "name": "stdout",
     "output_type": "stream",
     "text": [
      "RMSE на валидационной выборке: 299.08229029684753\n",
      "RMSE на тестовой выборке с заполнением NaN'ов: 604.0092653842888\n",
      "RMSE на тестовой выборке с дропнутыми NaN: 1204.2672430877187\n"
     ]
    }
   ],
   "source": [
    "print(\"RMSE на валидационной выборке:\", mean_squared_error (y_test_oe, pred)**0.5)\n",
    "print(\"RMSE на тестовой выборке с заполнением NaN'ов:\", mean_squared_error (y_df_test, pred_test)**0.5)\n",
    "print(\"RMSE на тестовой выборке с дропнутыми NaN:\", mean_squared_error (y_df_test, pred_drop)**0.5)"
   ]
  },
  {
   "cell_type": "markdown",
   "metadata": {},
   "source": [
    "#### LGBM показал лучшую скорость, но самый слабый скор, который все равно считаю достаточно хорошим."
   ]
  },
  {
   "cell_type": "markdown",
   "metadata": {},
   "source": [
    "## Подбро параметров модели с помощью RandomsearchCV"
   ]
  },
  {
   "cell_type": "code",
   "execution_count": 80,
   "metadata": {},
   "outputs": [],
   "source": [
    "lgbm = LGBMRegressor (random_state=42)"
   ]
  },
  {
   "cell_type": "code",
   "execution_count": 81,
   "metadata": {},
   "outputs": [],
   "source": [
    "param_dist = {'iterations': (0, 10, 50),\n",
    "               'learning_rate': (0.1, 0.5, 1),\n",
    "               'boosting_type': ['gbdt', 'dart'],\n",
    "               }"
   ]
  },
  {
   "cell_type": "code",
   "execution_count": 82,
   "metadata": {},
   "outputs": [],
   "source": [
    "lgbm_model = RandomizedSearchCV(lgbm, \n",
    "                        param_dist, \n",
    "                        n_iter = 10, \n",
    "                        cv = 3, \n",
    "                        verbose = 1, \n",
    "                        n_jobs=-1, \n",
    "                        random_state=42)"
   ]
  },
  {
   "cell_type": "code",
   "execution_count": 83,
   "metadata": {},
   "outputs": [
    {
     "name": "stdout",
     "output_type": "stream",
     "text": [
      "Fitting 3 folds for each of 10 candidates, totalling 30 fits\n"
     ]
    },
    {
     "name": "stderr",
     "output_type": "stream",
     "text": [
      "[Parallel(n_jobs=-1)]: Using backend SequentialBackend with 1 concurrent workers.\n",
      "[Parallel(n_jobs=-1)]: Done  30 out of  30 | elapsed:  3.9min finished\n"
     ]
    },
    {
     "data": {
      "text/plain": [
       "RandomizedSearchCV(cv=3, error_score='raise-deprecating',\n",
       "                   estimator=LGBMRegressor(boosting_type='gbdt',\n",
       "                                           class_weight=None,\n",
       "                                           colsample_bytree=1.0,\n",
       "                                           importance_type='split',\n",
       "                                           learning_rate=0.1, max_depth=-1,\n",
       "                                           min_child_samples=20,\n",
       "                                           min_child_weight=0.001,\n",
       "                                           min_split_gain=0.0, n_estimators=100,\n",
       "                                           n_jobs=-1, num_leaves=31,\n",
       "                                           objective=None, random_state=42,\n",
       "                                           reg_alpha=0.0, reg_lambda=0.0,\n",
       "                                           silent=True, subsample=1.0,\n",
       "                                           subsample_for_bin=200000,\n",
       "                                           subsample_freq=0),\n",
       "                   iid='warn', n_iter=10, n_jobs=-1,\n",
       "                   param_distributions={'boosting_type': ['gbdt', 'dart'],\n",
       "                                        'iterations': (0, 10, 50),\n",
       "                                        'learning_rate': (0.1, 0.5, 1)},\n",
       "                   pre_dispatch='2*n_jobs', random_state=42, refit=True,\n",
       "                   return_train_score=False, scoring=None, verbose=1)"
      ]
     },
     "execution_count": 83,
     "metadata": {},
     "output_type": "execute_result"
    }
   ],
   "source": [
    "lgbm_model.fit(X_train_oe, y_train_oe)"
   ]
  },
  {
   "cell_type": "markdown",
   "metadata": {},
   "source": [
    "# 3. Анализ моделей"
   ]
  },
  {
   "cell_type": "markdown",
   "metadata": {},
   "source": [
    "#### Проверим адекватность моделей с помощью DummyRegressor'а"
   ]
  },
  {
   "cell_type": "code",
   "execution_count": 84,
   "metadata": {},
   "outputs": [],
   "source": [
    "dummy = DummyRegressor (strategy='median')\n",
    "dummy_drop = DummyRegressor (strategy='median')"
   ]
  },
  {
   "cell_type": "code",
   "execution_count": 85,
   "metadata": {},
   "outputs": [
    {
     "data": {
      "text/plain": [
       "DummyRegressor(constant=None, quantile=None, strategy='median')"
      ]
     },
     "execution_count": 85,
     "metadata": {},
     "output_type": "execute_result"
    }
   ],
   "source": [
    "dummy.fit(X_train_oe, y_train_oe)\n",
    "dummy_drop.fit(X_train_drop, y_train_drop)"
   ]
  },
  {
   "cell_type": "code",
   "execution_count": 86,
   "metadata": {},
   "outputs": [],
   "source": [
    "pred = dummy.predict(X_test_oe)\n",
    "pred_test = dummy.predict(X_df_test)\n",
    "pred_drop = dummy_drop.predict(X_df_test)"
   ]
  },
  {
   "cell_type": "code",
   "execution_count": 87,
   "metadata": {},
   "outputs": [
    {
     "name": "stdout",
     "output_type": "stream",
     "text": [
      "RMSE: 857.6182149329818\n",
      "RMSE на тестовой выборке с заполнением NaN'ов: 553.5338034659306\n",
      "RMSE на тестовой выборке с дропнутыми NaN: 554.6152304844288\n"
     ]
    }
   ],
   "source": [
    "print(\"RMSE:\", mean_squared_error (y_test_oe, pred)**0.5)\n",
    "print(\"RMSE на тестовой выборке с заполнением NaN'ов:\", mean_squared_error (y_df_test, pred_test)**0.5)\n",
    "print(\"RMSE на тестовой выборке с дропнутыми NaN:\", mean_squared_error (y_df_test, pred_drop)**0.5)"
   ]
  },
  {
   "cell_type": "markdown",
   "metadata": {},
   "source": [
    "### ВЫВОД:\n",
    "- в ходе данного проекта мы провели предобработку данных в датасете, удалив аномальные значения и проведя обработку пропущеных значений двумяспособами: удаление пропусков и заполнения по наиболее часто встречающимся значениям.\n",
    "- В качестве моделей выбраны Регрессоры XGBoost, CatBoost, LightGBM, а так же DummyRegressor в качестве константной модели для оценки адекватности обученных моделей предсказаний.\n",
    "- В ходе работы выяснилась одна интересная деталь: в данной работе, хотя CatBoost и является самым удобным для использования, среди остальных моделей, но его автоматическая система кодирования категориальных признаков далека от совершенства и дает намного лучший RMSE при ручном кодировании признаков. К тому же, как показал DummyRegressor, даже слепое предсказание медианой является более точным, нежели CatBoost автоматически закодировавший признаки. Так же эта модель оказалась самой медленной в обучении, но, после манипуляций с кодировкой, самой точной.\n",
    "- По условию необходимо выбрать модель отвечающую трем параметрам: быстрота обучения, быстрота предсказания и точность. Единственной моделью с адекватным скором относительно бэйслайна оказался XGBoost. Скорость обучения у него средняя между тремя моделями, но достаточно быстрая для удобной работы."
   ]
  },
  {
   "cell_type": "code",
   "execution_count": null,
   "metadata": {},
   "outputs": [],
   "source": []
  }
 ],
 "metadata": {
  "kernelspec": {
   "display_name": "Python 3",
   "language": "python",
   "name": "python3"
  },
  "language_info": {
   "codemirror_mode": {
    "name": "ipython",
    "version": 3
   },
   "file_extension": ".py",
   "mimetype": "text/x-python",
   "name": "python",
   "nbconvert_exporter": "python",
   "pygments_lexer": "ipython3",
   "version": "3.7.7"
  },
  "toc": {
   "base_numbering": 1,
   "nav_menu": {},
   "number_sections": false,
   "sideBar": true,
   "skip_h1_title": true,
   "title_cell": "Table of Contents",
   "title_sidebar": "Contents",
   "toc_cell": false,
   "toc_position": {},
   "toc_section_display": true,
   "toc_window_display": false
  }
 },
 "nbformat": 4,
 "nbformat_minor": 2
}
